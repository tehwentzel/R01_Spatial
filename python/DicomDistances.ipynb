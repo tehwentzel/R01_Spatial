{
 "cells": [
  {
   "cell_type": "code",
   "execution_count": 1,
   "id": "7ba80fd3",
   "metadata": {},
   "outputs": [],
   "source": [
    "%load_ext autoreload"
   ]
  },
  {
   "cell_type": "code",
   "execution_count": 2,
   "id": "a5cf8ba0",
   "metadata": {},
   "outputs": [],
   "source": [
    "%autoreload 2"
   ]
  },
  {
   "cell_type": "code",
   "execution_count": 7,
   "id": "eca637e8",
   "metadata": {},
   "outputs": [],
   "source": [
    "import numpy as np\n",
    "import pandas as pd\n",
    "import matplotlib.pyplot as plt\n",
    "import  glob\n",
    "from scipy.spatial import ConvexHull\n",
    "from Constants import Const\n",
    "import joblib\n",
    "from pointcloud_utils import *\n",
    "from scipy.spatial.distance import cdist, pdist, squareform\n",
    "import matplotlib as mpl\n",
    "import torchio as tio\n",
    "\n",
    "import plotly.graph_objects as go\n",
    "from pointcloud_utils import *\n",
    "%matplotlib notebook\n",
    "\n",
    "import pickle\n",
    "import simplejson\n",
    "import open3d as o3d\n",
    "import pydicom"
   ]
  },
  {
   "cell_type": "code",
   "execution_count": 4,
   "id": "25708f7b",
   "metadata": {},
   "outputs": [
    {
     "data": {
      "text/plain": [
       "[1054079696,\n",
       " 1072572079,\n",
       " 1079757401,\n",
       " 1087308891,\n",
       " 1099927508,\n",
       " 1103015749,\n",
       " 1107681010,\n",
       " 1108642427,\n",
       " 1138096463,\n",
       " 1143391354,\n",
       " 1164546699,\n",
       " 1167168001,\n",
       " 1173728658,\n",
       " 1178044145,\n",
       " 1194116893,\n",
       " 1235569621,\n",
       " 1265845118,\n",
       " 1269213210,\n",
       " 1276736352,\n",
       " 2774318802,\n",
       " 2776638846,\n",
       " 2803120404,\n",
       " 2804890849,\n",
       " 2815583275,\n",
       " 2817169157,\n",
       " 2843895295,\n",
       " 2865890865,\n",
       " 2867468906,\n",
       " 2875588687,\n",
       " 2883823678,\n",
       " 2889102751,\n",
       " 2894996073,\n",
       " 2908060983,\n",
       " 2929571068,\n",
       " 2932807221,\n",
       " 2939740989,\n",
       " 2983776095,\n",
       " 2989874876,\n",
       " 3028333367,\n",
       " 3035721150,\n",
       " 3045110595,\n",
       " 3045556976,\n",
       " 3045918834,\n",
       " 3049758970,\n",
       " 3071491330,\n",
       " 3077525807,\n",
       " 3081060090,\n",
       " 3099145083,\n",
       " 3100266114,\n",
       " 3108161676,\n",
       " 3125978990,\n",
       " 3151449158,\n",
       " 3192749693,\n",
       " 3192926363,\n",
       " 3194171650,\n",
       " 3196236080,\n",
       " 3205005928,\n",
       " 3225956079,\n",
       " 3235750820,\n",
       " 3239454379,\n",
       " 3256350141,\n",
       " 3283538700,\n",
       " 3316448321,\n",
       " 3321571409,\n",
       " 3327830751,\n",
       " 3346286228,\n",
       " 3355839884,\n",
       " 3366888610,\n",
       " 3370207907,\n",
       " 3383739521,\n",
       " 3442548822,\n",
       " 3514335131,\n",
       " 3563849182,\n",
       " 3694073920,\n",
       " 3816960111,\n",
       " 3832820671,\n",
       " 4017119917,\n",
       " 4074385931,\n",
       " 4100593439,\n",
       " 4151569401,\n",
       " 4443664553,\n",
       " 4481544782,\n",
       " 4488837609,\n",
       " 4509480776,\n",
       " 4554821349,\n",
       " 4625578503,\n",
       " 4646292867,\n",
       " 4663235737,\n",
       " 4713240632,\n",
       " 4840069687,\n",
       " 4862586001,\n",
       " 4862920237,\n",
       " 5038138708,\n",
       " 5089502522,\n",
       " 5110518099,\n",
       " 1293745646,\n",
       " 1522246751,\n",
       " 1670301878,\n",
       " 1848656363,\n",
       " 2106963643,\n",
       " 2279280705,\n",
       " 2508553230,\n",
       " 2770898143,\n",
       " 3023016905,\n",
       " 3217148733,\n",
       " 3962148532,\n",
       " 5211387293,\n",
       " 7291736302,\n",
       " 5367270807,\n",
       " 5618650917,\n",
       " 5709953389,\n",
       " 5751912329,\n",
       " 5778599178,\n",
       " 5802597125,\n",
       " 5826154886,\n",
       " 5968002865,\n",
       " 6060411302,\n",
       " 6321133829,\n",
       " 6345257124,\n",
       " 6431977113,\n",
       " 6460317590,\n",
       " 6621233113,\n",
       " 6845023185,\n",
       " 7093179577,\n",
       " 7133027468,\n",
       " 7143413136,\n",
       " 7148485426,\n",
       " 7429045053,\n",
       " 7442321115,\n",
       " 7464252782,\n",
       " 7534086728,\n",
       " 7649615624,\n",
       " 7758510017,\n",
       " 7964193341,\n",
       " 7971396253,\n",
       " 8117442451,\n",
       " 8187553551,\n",
       " 8609286814,\n",
       " 8754332928,\n",
       " 8761936548,\n",
       " 8813226732,\n",
       " 8996674200,\n",
       " 8999014515,\n",
       " 9034884056,\n",
       " 9057869631,\n",
       " 9102331716,\n",
       " 9103199111,\n",
       " 9156619185,\n",
       " 9209984317,\n",
       " 9218314668,\n",
       " 9312513183,\n",
       " 9399080429,\n",
       " 9479197119,\n",
       " 9626079921,\n",
       " 9643148771,\n",
       " 9878102359,\n",
       " 9920271364,\n",
       " 1306278550,\n",
       " 1334966362,\n",
       " 1337145443,\n",
       " 1344996406,\n",
       " 1357557675,\n",
       " 1362035218,\n",
       " 1391235973,\n",
       " 1394607128,\n",
       " 1397224459,\n",
       " 1401915784,\n",
       " 1406457912,\n",
       " 1408814779,\n",
       " 1410220807,\n",
       " 1455535872,\n",
       " 1479250225,\n",
       " 1483470869,\n",
       " 1501485310,\n",
       " 1501555895,\n",
       " 1502711865,\n",
       " 1522266707,\n",
       " 1532016505,\n",
       " 1542701482,\n",
       " 1563200955,\n",
       " 1573361627,\n",
       " 1575888593,\n",
       " 1588865686,\n",
       " 1590784721,\n",
       " 1596568859,\n",
       " 1599623001,\n",
       " 1607489944,\n",
       " 1609087799,\n",
       " 1611205257,\n",
       " 1623384116,\n",
       " 1640653163,\n",
       " 1646439698,\n",
       " 1658195008,\n",
       " 1666942008,\n",
       " 1668489975,\n",
       " 1670863696,\n",
       " 1681729379,\n",
       " 1683645407,\n",
       " 1702727338,\n",
       " 1703830194,\n",
       " 1712166564,\n",
       " 1713967904,\n",
       " 1742118289,\n",
       " 1743819545,\n",
       " 1747497762,\n",
       " 1751828128,\n",
       " 1753932420,\n",
       " 1758588673,\n",
       " 1759548686,\n",
       " 1762684826,\n",
       " 1797332871,\n",
       " 1816775745,\n",
       " 1842859313,\n",
       " 1848265510,\n",
       " 1868407032,\n",
       " 1900858747,\n",
       " 1909580684,\n",
       " 1911652778,\n",
       " 1931216474,\n",
       " 1942951411,\n",
       " 1956723933,\n",
       " 1979650123,\n",
       " 1996203819,\n",
       " 2002304413,\n",
       " 2019523932,\n",
       " 2037015898,\n",
       " 2048566904,\n",
       " 2051712928,\n",
       " 2056532905,\n",
       " 2058768572,\n",
       " 2082761957,\n",
       " 2094315393,\n",
       " 2098577973,\n",
       " 2111490509,\n",
       " 2113254052,\n",
       " 2121257573,\n",
       " 2127966673,\n",
       " 2132983074,\n",
       " 2138657290,\n",
       " 2143352446,\n",
       " 2172401637,\n",
       " 2185606006,\n",
       " 2205986844,\n",
       " 2207447299,\n",
       " 2242981431,\n",
       " 2256221790,\n",
       " 2259228562,\n",
       " 2269261955,\n",
       " 2272549398,\n",
       " 2273533075,\n",
       " 2274749125,\n",
       " 2278293118,\n",
       " 2282925626,\n",
       " 2301668335,\n",
       " 2304398819,\n",
       " 2330992447,\n",
       " 2340030369,\n",
       " 2349637758,\n",
       " 2353613752,\n",
       " 2357210108,\n",
       " 2358616721,\n",
       " 2391362467,\n",
       " 2394091614,\n",
       " 2395750561,\n",
       " 2402957569,\n",
       " 2411034155,\n",
       " 2414841499,\n",
       " 2426779986,\n",
       " 2434097875,\n",
       " 2453598097,\n",
       " 2473779950,\n",
       " 2521737806,\n",
       " 2526692125,\n",
       " 2530084611,\n",
       " 2547923440,\n",
       " 2582708397,\n",
       " 2584370324,\n",
       " 2590278837,\n",
       " 2592917372,\n",
       " 2606564123,\n",
       " 2614564390,\n",
       " 2621609894,\n",
       " 2627209674,\n",
       " 2630686320,\n",
       " 2632834590,\n",
       " 2633689500,\n",
       " 2666617610,\n",
       " 2677877484,\n",
       " 2683892776,\n",
       " 2692140912,\n",
       " 2699434663,\n",
       " 2701548670,\n",
       " 2716829242,\n",
       " 2719881586,\n",
       " 2724951078,\n",
       " 2733957858,\n",
       " 2749596965,\n",
       " 2752224580,\n",
       " 2765835024,\n",
       " 2767317435]"
      ]
     },
     "execution_count": 4,
     "metadata": {},
     "output_type": "execute_result"
    }
   ],
   "source": [
    "def get_all_dicom_ids(root = '../data/DICOMs/R01/'):\n",
    "    files = glob.glob(root+'*/')\n",
    "    ids = []\n",
    "    for f  in files:\n",
    "        pid = f.replace(root,'').replace('/','')\n",
    "        if pid.isnumeric():\n",
    "            ids.append(int(pid))\n",
    "        else:\n",
    "            print('bad pid',pid)\n",
    "    return ids\n",
    "get_all_dicom_ids()"
   ]
  },
  {
   "cell_type": "code",
   "execution_count": 5,
   "id": "d72a8906",
   "metadata": {},
   "outputs": [],
   "source": [
    "def get_associations(dr):\n",
    "    all_rois = dr.return_rois(print_rois=False)\n",
    "    names = ['gtv','ctv','ptv']\n",
    "    assoc = {k:v for k,v in Const.organ_associations.items()}\n",
    "    for roi in all_rois:\n",
    "        counts = 0\n",
    "        for name in names:\n",
    "            \n",
    "            if name in roi:\n",
    "                if counts < 1:\n",
    "                    if 'node' in roi or 'nodal' in roi or 'gtvn' in roi or 'ln' in roi:\n",
    "                        assoc[roi] = 'gtvn'\n",
    "                    else:\n",
    "                        assoc[roi] = name\n",
    "                    counts +=1\n",
    "                else:\n",
    "                    print(roi)\n",
    "    return assoc\n",
    "\n",
    "\n",
    "def get_all_patients(dr=None,dicom_dir=None, rois = None, associations = None):\n",
    "    #process dicom files for all patients\n",
    "    #doesn't extract info yet\n",
    "    if rois is None:\n",
    "        rois = Const.organ_list[:] \n",
    "    gtvs = ['gtv','gtvn','ctv','ptv']\n",
    "        \n",
    "    if dr is None:\n",
    "        dr = BetterDicomReader(dicom_dir)\n",
    "    if associations is None:\n",
    "        associations = get_associations(dr)\n",
    "    \n",
    "    dr.set_contour_names_and_associations(Contour_Names=rois,associations=associations)\n",
    "    \n",
    "    all_uids = dr.get_all_uids()\n",
    "    plist = []\n",
    "    roi_map = {i+1: roi for i,roi in enumerate(rois)}\n",
    "    for i,uid in enumerate(all_uids):\n",
    "        #dicom reader reads everthing but only processes the current UID\n",
    "        dr.set_by_uid(uid)\n",
    "        dr.get_images_and_mask()\n",
    "        patient = dr.get_current_patient()\n",
    "        #image slices as a stack\n",
    "        patient['ArrayDicom'] = dr.ArrayDicom[:]\n",
    "        #same shape as arraydicom, replaces values with the index corresponding to each roi\n",
    "        patient['mask'] = dr.mask[:].astype(np.int32)\n",
    "        #save the index -> roi dictionary for later\n",
    "        patient['roi_mask_map'] = roi_map\n",
    "        plist.append(patient)\n",
    "        print(uid,'done',i,'of',len(all_uids))\n",
    "    return plist, roi_map\n",
    "\n",
    "#temp subset of organs to test with since it takes a while to run it all\n",
    "\n",
    "#Get a list of dictionaries with processed patient info from the dicom\n",
    "# dr = dicom_reader_from_ids([2677877484,2411034155])\n",
    "# plist, roi_map = get_all_patients(dr)\n",
    "# plist"
   ]
  },
  {
   "cell_type": "code",
   "execution_count": 6,
   "id": "68800ec5",
   "metadata": {
    "scrolled": true
   },
   "outputs": [
    {
     "name": "stdout",
     "output_type": "stream",
     "text": [
      "12\n"
     ]
    },
    {
     "name": "stderr",
     "output_type": "stream",
     "text": [
      "Loading through DICOM files:  25%|████            | 1/4 [00:00<00:00,  5.39it/s]"
     ]
    },
    {
     "name": "stdout",
     "output_type": "stream",
     "text": [
      "Loading from ../data/DICOMs/R01/1173728658/CT\n",
      "Loading from ../data/DICOMs/R01/1173728658/RTSTRUCT\n",
      "Loading from ../data/DICOMs/R01/1173728658/RTDOSELoading from ../data/DICOMs/R01/1173728658/RTPLAN\n",
      "\n"
     ]
    },
    {
     "name": "stderr",
     "output_type": "stream",
     "text": [
      "Loading through DICOM files: 100%|████████████████| 4/4 [00:01<00:00,  3.00it/s]"
     ]
    },
    {
     "name": "stdout",
     "output_type": "stream",
     "text": [
      "Compiling dictionaries together...\n",
      "Index 0, description None at ../data/DICOMs/R01/1173728658/CT\n",
      "1 unique series IDs were found. Default is index 0, to change use set_index(index)\n",
      "Loading images for None at \n",
      " ../data/DICOMs/R01/1173728658/CT\n",
      "\n"
     ]
    },
    {
     "name": "stderr",
     "output_type": "stream",
     "text": [
      "\n"
     ]
    },
    {
     "name": "stdout",
     "output_type": "stream",
     "text": [
      "1173728658 done 0 of 1\n"
     ]
    },
    {
     "name": "stderr",
     "output_type": "stream",
     "text": [
      "/media/andrew/DATA1/git_repos/R01_Spatial/python/pointcloud_utils.py:70: RuntimeWarning: invalid value encountered in sqrt\n",
      "  r = np.sqrt(Dx**2+Dy**2+Dz**2-4*a*c)/(2*np.abs(a) + .001)\n",
      "/home/evl/andrew/anaconda3/envs/Qubbed/lib/python3.7/site-packages/ipykernel_launcher.py:42: FutureWarning: Using a non-tuple sequence for multidimensional indexing is deprecated; use `arr[tuple(seq)]` instead of `arr[seq]`. In the future this will be interpreted as an array index, `arr[np.array(seq)]`, which will result either in an error or a different result.\n"
     ]
    },
    {
     "name": "stdout",
     "output_type": "stream",
     "text": [
      "1173728658 done 0 of 1\n",
      "1173728658 done 0 of 1\n",
      "finshed ids [1173728658]\n"
     ]
    },
    {
     "name": "stderr",
     "output_type": "stream",
     "text": [
      "Loading through DICOM files:  25%|████            | 1/4 [00:00<00:00,  9.37it/s]"
     ]
    },
    {
     "name": "stdout",
     "output_type": "stream",
     "text": [
      "Loading from ../data/DICOMs/R01/1178044145/CT\n",
      "Loading from ../data/DICOMs/R01/1178044145/RTPLAN\n",
      "Loading from ../data/DICOMs/R01/1178044145/RTSTRUCT\n",
      "Loading from ../data/DICOMs/R01/1178044145/RTDOSE\n"
     ]
    },
    {
     "name": "stderr",
     "output_type": "stream",
     "text": [
      "Loading through DICOM files: 100%|████████████████| 4/4 [00:03<00:00,  1.33it/s]\n"
     ]
    },
    {
     "name": "stdout",
     "output_type": "stream",
     "text": [
      "Compiling dictionaries together...\n",
      "Index 0, description Head and Neck  at ../data/DICOMs/R01/1178044145/CT\n",
      "1 unique series IDs were found. Default is index 0, to change use set_index(index)\n",
      "Loading images for Head and Neck  at \n",
      " ../data/DICOMs/R01/1178044145/CT\n",
      "\n",
      "1178044145 done 0 of 1\n",
      "1178044145 done 0 of 1\n",
      "1178044145 done 0 of 1\n",
      "finshed ids [1173728658, 1178044145]\n"
     ]
    },
    {
     "name": "stderr",
     "output_type": "stream",
     "text": [
      "\r",
      "Loading through DICOM files:   0%|                        | 0/3 [00:00<?, ?it/s]"
     ]
    },
    {
     "name": "stdout",
     "output_type": "stream",
     "text": [
      "Loading from ../data/DICOMs/R01/1194116893/CT\n",
      "Loading from ../data/DICOMs/R01/1194116893/RTSTRUCT\n",
      "Loading from ../data/DICOMs/R01/1194116893/RTDOSE\n"
     ]
    },
    {
     "name": "stderr",
     "output_type": "stream",
     "text": [
      "Loading through DICOM files: 100%|████████████████| 3/3 [00:02<00:00,  1.17it/s]\n"
     ]
    },
    {
     "name": "stdout",
     "output_type": "stream",
     "text": [
      "Compiling dictionaries together...\n",
      "Index 0, description None at ../data/DICOMs/R01/1194116893/CT\n",
      "1 unique series IDs were found. Default is index 0, to change use set_index(index)\n",
      "Loading images for None at \n",
      " ../data/DICOMs/R01/1194116893/CT\n",
      "\n",
      "error in contours_to_mask 'Dataset' object has no attribute 'ContourSequence'\n",
      "error in contours_to_mask 'Dataset' object has no attribute 'ContourSequence'\n",
      "1194116893 done 0 of 1\n",
      "1194116893 done 0 of 1\n",
      "1194116893 done 0 of 1\n",
      "finshed ids [1173728658, 1178044145, 1194116893]\n"
     ]
    },
    {
     "name": "stderr",
     "output_type": "stream",
     "text": [
      "Loading through DICOM files:  25%|████            | 1/4 [00:00<00:00,  6.55it/s]"
     ]
    },
    {
     "name": "stdout",
     "output_type": "stream",
     "text": [
      "Loading from ../data/DICOMs/R01/1235569621/CT\n",
      "Loading from ../data/DICOMs/R01/1235569621/RTSTRUCT\n",
      "Loading from ../data/DICOMs/R01/1235569621/RTPLAN\n",
      "Loading from ../data/DICOMs/R01/1235569621/RTDOSE\n"
     ]
    },
    {
     "name": "stderr",
     "output_type": "stream",
     "text": [
      "Loading through DICOM files: 100%|████████████████| 4/4 [00:02<00:00,  1.68it/s]\n"
     ]
    },
    {
     "name": "stdout",
     "output_type": "stream",
     "text": [
      "Compiling dictionaries together...\n",
      "Index 0, description O-MAR  at ../data/DICOMs/R01/1235569621/CT\n",
      "1 unique series IDs were found. Default is index 0, to change use set_index(index)\n",
      "Loading images for O-MAR  at \n",
      " ../data/DICOMs/R01/1235569621/CT\n",
      "\n",
      "1235569621 done 0 of 1\n",
      "1235569621 done 0 of 1\n",
      "1235569621 done 0 of 1\n",
      "finshed ids [1173728658, 1178044145, 1194116893, 1235569621]\n"
     ]
    },
    {
     "name": "stderr",
     "output_type": "stream",
     "text": [
      "\r",
      "Loading through DICOM files:   0%|                        | 0/3 [00:00<?, ?it/s]"
     ]
    },
    {
     "name": "stdout",
     "output_type": "stream",
     "text": [
      "Loading from ../data/DICOMs/R01/1265845118/CT\n",
      "Loading from ../data/DICOMs/R01/1265845118/RTSTRUCT\n",
      "Loading from ../data/DICOMs/R01/1265845118/RTDOSE\n"
     ]
    },
    {
     "name": "stderr",
     "output_type": "stream",
     "text": [
      "Loading through DICOM files: 100%|████████████████| 3/3 [00:02<00:00,  1.29it/s]\n"
     ]
    },
    {
     "name": "stdout",
     "output_type": "stream",
     "text": [
      "Compiling dictionaries together...\n",
      "Index 0, description None at ../data/DICOMs/R01/1265845118/CT\n",
      "1 unique series IDs were found. Default is index 0, to change use set_index(index)\n",
      "Loading images for None at \n",
      " ../data/DICOMs/R01/1265845118/CT\n",
      "\n",
      "1265845118 done 0 of 1\n",
      "1265845118 done 0 of 1\n",
      "error in contours_to_mask 'Dataset' object has no attribute 'ContourSequence'\n",
      "error in contours_to_mask 'Dataset' object has no attribute 'ContourSequence'\n",
      "error in contours_to_mask 'Dataset' object has no attribute 'ContourSequence'\n",
      "error in contours_to_mask 'Dataset' object has no attribute 'ContourSequence'\n",
      "error in contours_to_mask 'Dataset' object has no attribute 'ContourSequence'\n",
      "1265845118 done 0 of 1\n",
      "finshed ids [1173728658, 1178044145, 1194116893, 1235569621, 1265845118]\n"
     ]
    },
    {
     "name": "stderr",
     "output_type": "stream",
     "text": [
      "Loading through DICOM files:  25%|████            | 1/4 [00:00<00:00,  6.20it/s]"
     ]
    },
    {
     "name": "stdout",
     "output_type": "stream",
     "text": [
      "Loading from ../data/DICOMs/R01/1269213210/CT\n",
      "Loading from ../data/DICOMs/R01/1269213210/RTPLAN\n",
      "Loading from ../data/DICOMs/R01/1269213210/RTDOSE\n",
      "Loading from ../data/DICOMs/R01/1269213210/RTSTRUCT\n"
     ]
    },
    {
     "name": "stderr",
     "output_type": "stream",
     "text": [
      "Loading through DICOM files: 100%|████████████████| 4/4 [00:02<00:00,  1.89it/s]\n"
     ]
    },
    {
     "name": "stdout",
     "output_type": "stream",
     "text": [
      "Compiling dictionaries together...\n",
      "Index 0, description  at ../data/DICOMs/R01/1269213210/CT\n",
      "1 unique series IDs were found. Default is index 0, to change use set_index(index)\n",
      "Loading images for  at \n",
      " ../data/DICOMs/R01/1269213210/CT\n",
      "\n",
      "1269213210 done 0 of 1\n",
      "1269213210 done 0 of 1\n",
      "1269213210 done 0 of 1\n",
      "finshed ids [1173728658, 1178044145, 1194116893, 1235569621, 1265845118, 1269213210]\n"
     ]
    },
    {
     "name": "stderr",
     "output_type": "stream",
     "text": [
      "\r",
      "Loading through DICOM files:   0%|                        | 0/4 [00:00<?, ?it/s]"
     ]
    },
    {
     "name": "stdout",
     "output_type": "stream",
     "text": [
      "Loading from ../data/DICOMs/R01/1276736352/CTLoading from ../data/DICOMs/R01/1276736352/RTSTRUCT\n",
      "Loading from ../data/DICOMs/R01/1276736352/RTPLAN\n",
      "Loading from ../data/DICOMs/R01/1276736352/RTDOSE\n",
      "\n"
     ]
    },
    {
     "name": "stderr",
     "output_type": "stream",
     "text": [
      "Loading through DICOM files: 100%|████████████████| 4/4 [00:03<00:00,  1.29it/s]\n"
     ]
    },
    {
     "name": "stdout",
     "output_type": "stream",
     "text": [
      "Compiling dictionaries together...\n",
      "Index 0, description Head and Neck  at ../data/DICOMs/R01/1276736352/CT\n",
      "1 unique series IDs were found. Default is index 0, to change use set_index(index)\n",
      "Loading images for Head and Neck  at \n",
      " ../data/DICOMs/R01/1276736352/CT\n",
      "\n",
      "1276736352 done 0 of 1\n",
      "1276736352 done 0 of 1\n",
      "1276736352 done 0 of 1\n",
      "finshed ids [1173728658, 1178044145, 1194116893, 1235569621, 1265845118, 1269213210, 1276736352]\n"
     ]
    },
    {
     "name": "stderr",
     "output_type": "stream",
     "text": [
      "\r",
      "Loading through DICOM files:   0%|                        | 0/3 [00:00<?, ?it/s]"
     ]
    },
    {
     "name": "stdout",
     "output_type": "stream",
     "text": [
      "Loading from ../data/DICOMs/R01/2774318802/CT\n",
      "Loading from ../data/DICOMs/R01/2774318802/RTDOSELoading from ../data/DICOMs/R01/2774318802/RTSTRUCT\n",
      "\n"
     ]
    },
    {
     "name": "stderr",
     "output_type": "stream",
     "text": [
      "Loading through DICOM files: 100%|████████████████| 3/3 [00:03<00:00,  1.18s/it]\n"
     ]
    },
    {
     "name": "stdout",
     "output_type": "stream",
     "text": [
      "Compiling dictionaries together...\n",
      "Index 0, description Head and Neck  at ../data/DICOMs/R01/2774318802/CT\n",
      "1 unique series IDs were found. Default is index 0, to change use set_index(index)\n",
      "Loading images for Head and Neck  at \n",
      " ../data/DICOMs/R01/2774318802/CT\n",
      "\n",
      "2774318802 done 0 of 1\n",
      "2774318802 done 0 of 1\n",
      "2774318802 done 0 of 1\n",
      "finshed ids [1173728658, 1178044145, 1194116893, 1235569621, 1265845118, 1269213210, 1276736352, 2774318802]\n"
     ]
    },
    {
     "name": "stderr",
     "output_type": "stream",
     "text": [
      "\r",
      "Loading through DICOM files:   0%|                        | 0/3 [00:00<?, ?it/s]"
     ]
    },
    {
     "name": "stdout",
     "output_type": "stream",
     "text": [
      "Loading from ../data/DICOMs/R01/2776638846/RTDOSELoading from ../data/DICOMs/R01/2776638846/CT\n",
      "\n",
      "Loading from ../data/DICOMs/R01/2776638846/RTSTRUCT\n"
     ]
    },
    {
     "name": "stderr",
     "output_type": "stream",
     "text": [
      "Loading through DICOM files: 100%|████████████████| 3/3 [00:02<00:00,  1.44it/s]\n"
     ]
    },
    {
     "name": "stdout",
     "output_type": "stream",
     "text": [
      "Compiling dictionaries together...\n",
      "Index 0, description O-MAR  at ../data/DICOMs/R01/2776638846/CT\n",
      "1 unique series IDs were found. Default is index 0, to change use set_index(index)\n",
      "Loading images for O-MAR  at \n",
      " ../data/DICOMs/R01/2776638846/CT\n",
      "\n",
      "2776638846 done 0 of 1\n",
      "2776638846 done 0 of 1\n",
      "2776638846 done 0 of 1\n",
      "finshed ids [1173728658, 1178044145, 1194116893, 1235569621, 1265845118, 1269213210, 1276736352, 2774318802, 2776638846]\n"
     ]
    },
    {
     "name": "stderr",
     "output_type": "stream",
     "text": [
      "\r",
      "Loading through DICOM files:   0%|                        | 0/4 [00:00<?, ?it/s]"
     ]
    },
    {
     "name": "stdout",
     "output_type": "stream",
     "text": [
      "Loading from ../data/DICOMs/R01/2803120404/RTDOSE\n",
      "Loading from ../data/DICOMs/R01/2803120404/CT\n",
      "Loading from ../data/DICOMs/R01/2803120404/RTPLAN\n",
      "Loading from ../data/DICOMs/R01/2803120404/RTSTRUCT\n"
     ]
    },
    {
     "name": "stderr",
     "output_type": "stream",
     "text": [
      "Loading through DICOM files: 100%|████████████████| 4/4 [00:02<00:00,  1.99it/s]\n"
     ]
    },
    {
     "name": "stdout",
     "output_type": "stream",
     "text": [
      "Compiling dictionaries together...\n",
      "Index 0, description  at ../data/DICOMs/R01/2803120404/CT\n",
      "1 unique series IDs were found. Default is index 0, to change use set_index(index)\n",
      "Loading images for  at \n",
      " ../data/DICOMs/R01/2803120404/CT\n",
      "\n",
      "2803120404 done 0 of 1\n",
      "2803120404 done 0 of 1\n",
      "2803120404 done 0 of 1\n",
      "finshed ids [1173728658, 1178044145, 1194116893, 1235569621, 1265845118, 1269213210, 1276736352, 2774318802, 2776638846, 2803120404]\n"
     ]
    },
    {
     "name": "stderr",
     "output_type": "stream",
     "text": [
      "\r",
      "Loading through DICOM files:   0%|                        | 0/3 [00:00<?, ?it/s]"
     ]
    },
    {
     "name": "stdout",
     "output_type": "stream",
     "text": [
      "Loading from ../data/DICOMs/R01/2804890849/RTDOSE\n",
      "Loading from ../data/DICOMs/R01/2804890849/CT\n",
      "Loading from ../data/DICOMs/R01/2804890849/RTSTRUCT\n"
     ]
    },
    {
     "name": "stderr",
     "output_type": "stream",
     "text": [
      "Loading through DICOM files: 100%|████████████████| 3/3 [00:01<00:00,  1.80it/s]\n"
     ]
    },
    {
     "name": "stdout",
     "output_type": "stream",
     "text": [
      "Compiling dictionaries together...\n",
      "Index 0, description  at ../data/DICOMs/R01/2804890849/CT\n",
      "1 unique series IDs were found. Default is index 0, to change use set_index(index)\n",
      "Loading images for  at \n",
      " ../data/DICOMs/R01/2804890849/CT\n",
      "\n",
      "2804890849 done 0 of 1\n",
      "2804890849 done 0 of 1\n",
      "2804890849 done 0 of 1\n",
      "finshed ids [1173728658, 1178044145, 1194116893, 1235569621, 1265845118, 1269213210, 1276736352, 2774318802, 2776638846, 2803120404, 2804890849]\n"
     ]
    },
    {
     "name": "stderr",
     "output_type": "stream",
     "text": [
      "Loading through DICOM files:  25%|████            | 1/4 [00:00<00:00,  8.02it/s]"
     ]
    },
    {
     "name": "stdout",
     "output_type": "stream",
     "text": [
      "Loading from ../data/DICOMs/R01/2815583275/CT\n",
      "Loading from ../data/DICOMs/R01/2815583275/RTDOSELoading from ../data/DICOMs/R01/2815583275/RTSTRUCT\n",
      "\n",
      "Loading from ../data/DICOMs/R01/2815583275/RTPLAN\n"
     ]
    },
    {
     "name": "stderr",
     "output_type": "stream",
     "text": [
      "Loading through DICOM files: 100%|████████████████| 4/4 [00:02<00:00,  1.79it/s]\n"
     ]
    },
    {
     "name": "stdout",
     "output_type": "stream",
     "text": [
      "Compiling dictionaries together...\n",
      "Index 0, description O-MAR  at ../data/DICOMs/R01/2815583275/CT\n",
      "1 unique series IDs were found. Default is index 0, to change use set_index(index)\n",
      "Loading images for O-MAR  at \n",
      " ../data/DICOMs/R01/2815583275/CT\n",
      "\n",
      "2815583275 done 0 of 1\n",
      "error in contours_to_mask 'Dataset' object has no attribute 'ContourSequence'\n",
      "2815583275 done 0 of 1\n",
      "2815583275 done 0 of 1\n",
      "finshed ids [1173728658, 1178044145, 1194116893, 1235569621, 1265845118, 1269213210, 1276736352, 2774318802, 2776638846, 2803120404, 2804890849, 2815583275]\n"
     ]
    },
    {
     "name": "stderr",
     "output_type": "stream",
     "text": [
      "\r",
      "Loading through DICOM files:   0%|                        | 0/4 [00:00<?, ?it/s]"
     ]
    },
    {
     "name": "stdout",
     "output_type": "stream",
     "text": [
      "Loading from ../data/DICOMs/R01/2817169157/RTSTRUCT\n",
      "Loading from ../data/DICOMs/R01/2817169157/CT\n",
      "Loading from ../data/DICOMs/R01/2817169157/RTDOSE\n",
      "Loading from ../data/DICOMs/R01/2817169157/RTPLAN\n"
     ]
    },
    {
     "name": "stderr",
     "output_type": "stream",
     "text": [
      "Loading through DICOM files: 100%|████████████████| 4/4 [00:03<00:00,  1.20it/s]\n"
     ]
    },
    {
     "name": "stdout",
     "output_type": "stream",
     "text": [
      "Compiling dictionaries together...\n",
      "Index 0, description Head and Neck  at ../data/DICOMs/R01/2817169157/CT\n",
      "1 unique series IDs were found. Default is index 0, to change use set_index(index)\n",
      "Loading images for Head and Neck  at \n",
      " ../data/DICOMs/R01/2817169157/CT\n",
      "\n",
      "2817169157 done 0 of 1\n",
      "2817169157 done 0 of 1\n",
      "2817169157 done 0 of 1\n",
      "finshed ids [1173728658, 1178044145, 1194116893, 1235569621, 1265845118, 1269213210, 1276736352, 2774318802, 2776638846, 2803120404, 2804890849, 2815583275, 2817169157]\n"
     ]
    },
    {
     "name": "stderr",
     "output_type": "stream",
     "text": [
      "\r",
      "Loading through DICOM files:   0%|                        | 0/4 [00:00<?, ?it/s]"
     ]
    },
    {
     "name": "stdout",
     "output_type": "stream",
     "text": [
      "Loading from ../data/DICOMs/R01/2843895295/RTPLAN\n",
      "Loading from ../data/DICOMs/R01/2843895295/RTDOSE\n",
      "Loading from ../data/DICOMs/R01/2843895295/CT\n",
      "Loading from ../data/DICOMs/R01/2843895295/RTSTRUCT\n"
     ]
    },
    {
     "name": "stderr",
     "output_type": "stream",
     "text": [
      "Loading through DICOM files: 100%|████████████████| 4/4 [00:02<00:00,  1.42it/s]\n"
     ]
    },
    {
     "name": "stdout",
     "output_type": "stream",
     "text": [
      "Compiling dictionaries together...\n",
      "Index 0, description None at ../data/DICOMs/R01/2843895295/CT\n",
      "1 unique series IDs were found. Default is index 0, to change use set_index(index)\n",
      "Loading images for None at \n",
      " ../data/DICOMs/R01/2843895295/CT\n",
      "\n",
      "error in contours_to_mask 'Dataset' object has no attribute 'ContourSequence'\n",
      "2843895295 done 0 of 1\n",
      "2843895295 done 0 of 1\n",
      "2843895295 done 0 of 1\n",
      "finshed ids [1173728658, 1178044145, 1194116893, 1235569621, 1265845118, 1269213210, 1276736352, 2774318802, 2776638846, 2803120404, 2804890849, 2815583275, 2817169157, 2843895295]\n"
     ]
    },
    {
     "name": "stderr",
     "output_type": "stream",
     "text": [
      "Loading through DICOM files:  25%|████            | 1/4 [00:00<00:00,  9.37it/s]"
     ]
    },
    {
     "name": "stdout",
     "output_type": "stream",
     "text": [
      "Loading from ../data/DICOMs/R01/2865890865/RTPLAN\n",
      "Loading from ../data/DICOMs/R01/2865890865/CT\n",
      "Loading from ../data/DICOMs/R01/2865890865/RTDOSE\n",
      "Loading from ../data/DICOMs/R01/2865890865/RTSTRUCT\n"
     ]
    },
    {
     "name": "stderr",
     "output_type": "stream",
     "text": [
      "Loading through DICOM files: 100%|████████████████| 4/4 [00:02<00:00,  1.86it/s]\n"
     ]
    },
    {
     "name": "stdout",
     "output_type": "stream",
     "text": [
      "Compiling dictionaries together...\n",
      "Index 0, description  at ../data/DICOMs/R01/2865890865/CT\n",
      "1 unique series IDs were found. Default is index 0, to change use set_index(index)\n",
      "Loading images for  at \n",
      " ../data/DICOMs/R01/2865890865/CT\n",
      "\n",
      "2865890865 done 0 of 1\n",
      "2865890865 done 0 of 1\n",
      "error in contours_to_mask 'Dataset' object has no attribute 'ContourSequence'\n",
      "2865890865 done 0 of 1\n",
      "finshed ids [1173728658, 1178044145, 1194116893, 1235569621, 1265845118, 1269213210, 1276736352, 2774318802, 2776638846, 2803120404, 2804890849, 2815583275, 2817169157, 2843895295, 2865890865]\n"
     ]
    },
    {
     "name": "stderr",
     "output_type": "stream",
     "text": [
      "\r",
      "Loading through DICOM files:   0%|                        | 0/4 [00:00<?, ?it/s]"
     ]
    },
    {
     "name": "stdout",
     "output_type": "stream",
     "text": [
      "Loading from ../data/DICOMs/R01/2867468906/RTPLAN\n",
      "Loading from ../data/DICOMs/R01/2867468906/RTDOSE\n",
      "Loading from ../data/DICOMs/R01/2867468906/RTSTRUCT\n",
      "Loading from ../data/DICOMs/R01/2867468906/CT\n"
     ]
    },
    {
     "name": "stderr",
     "output_type": "stream",
     "text": [
      "Loading through DICOM files: 100%|████████████████| 4/4 [00:02<00:00,  1.72it/s]\n"
     ]
    },
    {
     "name": "stdout",
     "output_type": "stream",
     "text": [
      "Compiling dictionaries together...\n",
      "Index 0, description  at ../data/DICOMs/R01/2867468906/CT\n",
      "1 unique series IDs were found. Default is index 0, to change use set_index(index)\n",
      "Loading images for  at \n",
      " ../data/DICOMs/R01/2867468906/CT\n",
      "\n",
      "2867468906 done 0 of 1\n",
      "2867468906 done 0 of 1\n",
      "2867468906 done 0 of 1\n",
      "finshed ids [1173728658, 1178044145, 1194116893, 1235569621, 1265845118, 1269213210, 1276736352, 2774318802, 2776638846, 2803120404, 2804890849, 2815583275, 2817169157, 2843895295, 2865890865, 2867468906]\n"
     ]
    },
    {
     "name": "stderr",
     "output_type": "stream",
     "text": [
      "Loading through DICOM files:  75%|████████████    | 3/4 [00:00<00:00, 19.88it/s]"
     ]
    },
    {
     "name": "stdout",
     "output_type": "stream",
     "text": [
      "Loading from ../data/DICOMs/R01/2875588687/RTDOSE\n",
      "Loading from ../data/DICOMs/R01/2875588687/RTSTRUCT\n",
      "Loading from ../data/DICOMs/R01/2875588687/CT\n",
      "Loading from ../data/DICOMs/R01/2875588687/RTPLAN\n"
     ]
    },
    {
     "name": "stderr",
     "output_type": "stream",
     "text": [
      "\r",
      "Loading through DICOM files: 100%|████████████████| 4/4 [00:01<00:00,  2.73it/s]"
     ]
    },
    {
     "name": "stdout",
     "output_type": "stream",
     "text": [
      "Compiling dictionaries together...\n",
      "Index 0, description  at ../data/DICOMs/R01/2875588687/CT\n",
      "1 unique series IDs were found. Default is index 0, to change use set_index(index)\n",
      "Loading images for  at \n",
      " ../data/DICOMs/R01/2875588687/CT\n",
      "\n"
     ]
    },
    {
     "name": "stderr",
     "output_type": "stream",
     "text": [
      "\n"
     ]
    },
    {
     "name": "stdout",
     "output_type": "stream",
     "text": [
      "2875588687 done 0 of 1\n",
      "2875588687 done 0 of 1\n",
      "2875588687 done 0 of 1\n",
      "finshed ids [1173728658, 1178044145, 1194116893, 1235569621, 1265845118, 1269213210, 1276736352, 2774318802, 2776638846, 2803120404, 2804890849, 2815583275, 2817169157, 2843895295, 2865890865, 2867468906, 2875588687]\n"
     ]
    },
    {
     "name": "stderr",
     "output_type": "stream",
     "text": [
      "\r",
      "Loading through DICOM files:   0%|                        | 0/4 [00:00<?, ?it/s]"
     ]
    },
    {
     "name": "stdout",
     "output_type": "stream",
     "text": [
      "Loading from ../data/DICOMs/R01/2883823678/CTLoading from ../data/DICOMs/R01/2883823678/RTPLAN\n",
      "\n",
      "Loading from ../data/DICOMs/R01/2883823678/RTDOSE\n",
      "Loading from ../data/DICOMs/R01/2883823678/RTSTRUCT\n"
     ]
    },
    {
     "name": "stderr",
     "output_type": "stream",
     "text": [
      "Loading through DICOM files: 100%|████████████████| 4/4 [00:04<00:00,  1.02s/it]\n"
     ]
    },
    {
     "name": "stdout",
     "output_type": "stream",
     "text": [
      "Compiling dictionaries together...\n",
      "Index 0, description Head and Neck  at ../data/DICOMs/R01/2883823678/CT\n",
      "1 unique series IDs were found. Default is index 0, to change use set_index(index)\n",
      "Loading images for Head and Neck  at \n",
      " ../data/DICOMs/R01/2883823678/CT\n",
      "\n",
      "2883823678 done 0 of 1\n",
      "2883823678 done 0 of 1\n",
      "2883823678 done 0 of 1\n",
      "finshed ids [1173728658, 1178044145, 1194116893, 1235569621, 1265845118, 1269213210, 1276736352, 2774318802, 2776638846, 2803120404, 2804890849, 2815583275, 2817169157, 2843895295, 2865890865, 2867468906, 2875588687, 2883823678]\n"
     ]
    },
    {
     "name": "stderr",
     "output_type": "stream",
     "text": [
      "Loading through DICOM files:  33%|█████▎          | 1/3 [00:00<00:00,  7.71it/s]"
     ]
    },
    {
     "name": "stdout",
     "output_type": "stream",
     "text": [
      "Loading from ../data/DICOMs/R01/2889102751/RTDOSE\n",
      "Loading from ../data/DICOMs/R01/2889102751/CT\n",
      "Loading from ../data/DICOMs/R01/2889102751/RTSTRUCT\n"
     ]
    },
    {
     "name": "stderr",
     "output_type": "stream",
     "text": [
      "Loading through DICOM files: 100%|████████████████| 3/3 [00:02<00:00,  1.48it/s]\n"
     ]
    },
    {
     "name": "stdout",
     "output_type": "stream",
     "text": [
      "Compiling dictionaries together...\n",
      "Index 0, description  at ../data/DICOMs/R01/2889102751/CT\n",
      "1 unique series IDs were found. Default is index 0, to change use set_index(index)\n",
      "Loading images for  at \n",
      " ../data/DICOMs/R01/2889102751/CT\n",
      "\n",
      "2889102751 done 0 of 1\n",
      "2889102751 done 0 of 1\n",
      "2889102751 done 0 of 1\n",
      "finshed ids [1173728658, 1178044145, 1194116893, 1235569621, 1265845118, 1269213210, 1276736352, 2774318802, 2776638846, 2803120404, 2804890849, 2815583275, 2817169157, 2843895295, 2865890865, 2867468906, 2875588687, 2883823678, 2889102751]\n"
     ]
    },
    {
     "name": "stderr",
     "output_type": "stream",
     "text": [
      "Loading through DICOM files:  33%|█████▎          | 1/3 [00:00<00:00,  7.61it/s]"
     ]
    },
    {
     "name": "stdout",
     "output_type": "stream",
     "text": [
      "Loading from ../data/DICOMs/R01/2894996073/RTDOSE\n",
      "Loading from ../data/DICOMs/R01/2894996073/RTSTRUCT\n",
      "Loading from ../data/DICOMs/R01/2894996073/CT\n"
     ]
    },
    {
     "name": "stderr",
     "output_type": "stream",
     "text": [
      "Loading through DICOM files: 100%|████████████████| 3/3 [00:01<00:00,  1.61it/s]\n"
     ]
    },
    {
     "name": "stdout",
     "output_type": "stream",
     "text": [
      "Compiling dictionaries together...\n",
      "Index 0, description  at ../data/DICOMs/R01/2894996073/CT\n",
      "1 unique series IDs were found. Default is index 0, to change use set_index(index)\n",
      "Loading images for  at \n",
      " ../data/DICOMs/R01/2894996073/CT\n",
      "\n",
      "2894996073 done 0 of 1\n",
      "2894996073 done 0 of 1\n",
      "2894996073 done 0 of 1\n",
      "finshed ids [1173728658, 1178044145, 1194116893, 1235569621, 1265845118, 1269213210, 1276736352, 2774318802, 2776638846, 2803120404, 2804890849, 2815583275, 2817169157, 2843895295, 2865890865, 2867468906, 2875588687, 2883823678, 2889102751, 2894996073]\n"
     ]
    },
    {
     "name": "stderr",
     "output_type": "stream",
     "text": [
      "Loading through DICOM files:  33%|█████▎          | 1/3 [00:00<00:00,  9.03it/s]"
     ]
    },
    {
     "name": "stdout",
     "output_type": "stream",
     "text": [
      "Loading from ../data/DICOMs/R01/2908060983/CT\n",
      "Loading from ../data/DICOMs/R01/2908060983/RTDOSE\n",
      "Loading from ../data/DICOMs/R01/2908060983/RTSTRUCT\n"
     ]
    },
    {
     "name": "stderr",
     "output_type": "stream",
     "text": [
      "Loading through DICOM files: 100%|████████████████| 3/3 [00:01<00:00,  1.99it/s]\n"
     ]
    },
    {
     "name": "stdout",
     "output_type": "stream",
     "text": [
      "Compiling dictionaries together...\n",
      "Index 0, description  at ../data/DICOMs/R01/2908060983/CT\n",
      "1 unique series IDs were found. Default is index 0, to change use set_index(index)\n",
      "Loading images for  at \n",
      " ../data/DICOMs/R01/2908060983/CT\n",
      "\n",
      "2908060983 done 0 of 1\n",
      "2908060983 done 0 of 1\n",
      "2908060983 done 0 of 1\n",
      "finshed ids [1173728658, 1178044145, 1194116893, 1235569621, 1265845118, 1269213210, 1276736352, 2774318802, 2776638846, 2803120404, 2804890849, 2815583275, 2817169157, 2843895295, 2865890865, 2867468906, 2875588687, 2883823678, 2889102751, 2894996073, 2908060983]\n"
     ]
    },
    {
     "name": "stderr",
     "output_type": "stream",
     "text": [
      "\r",
      "Loading through DICOM files:   0%|                        | 0/4 [00:00<?, ?it/s]"
     ]
    },
    {
     "name": "stdout",
     "output_type": "stream",
     "text": [
      "Loading from ../data/DICOMs/R01/2929571068/RTPLAN\n",
      "Loading from ../data/DICOMs/R01/2929571068/RTDOSE\n",
      "Loading from ../data/DICOMs/R01/2929571068/RTSTRUCT\n",
      "Loading from ../data/DICOMs/R01/2929571068/CT\n"
     ]
    },
    {
     "name": "stderr",
     "output_type": "stream",
     "text": [
      "Loading through DICOM files: 100%|████████████████| 4/4 [00:05<00:00,  1.32s/it]\n"
     ]
    },
    {
     "name": "stdout",
     "output_type": "stream",
     "text": [
      "Compiling dictionaries together...\n",
      "Index 0, description None at ../data/DICOMs/R01/2929571068/CT\n",
      "1 unique series IDs were found. Default is index 0, to change use set_index(index)\n",
      "Loading images for None at \n",
      " ../data/DICOMs/R01/2929571068/CT\n",
      "\n",
      "2929571068 done 0 of 1\n",
      "2929571068 done 0 of 1\n",
      "2929571068 done 0 of 1\n",
      "finshed ids [1173728658, 1178044145, 1194116893, 1235569621, 1265845118, 1269213210, 1276736352, 2774318802, 2776638846, 2803120404, 2804890849, 2815583275, 2817169157, 2843895295, 2865890865, 2867468906, 2875588687, 2883823678, 2889102751, 2894996073, 2908060983, 2929571068]\n"
     ]
    },
    {
     "name": "stderr",
     "output_type": "stream",
     "text": [
      "\r",
      "Loading through DICOM files:   0%|                        | 0/4 [00:00<?, ?it/s]"
     ]
    },
    {
     "name": "stdout",
     "output_type": "stream",
     "text": [
      "Loading from ../data/DICOMs/R01/2932807221/CT\n",
      "Loading from ../data/DICOMs/R01/2932807221/RTDOSE\n",
      "Loading from ../data/DICOMs/R01/2932807221/RTSTRUCT\n",
      "Loading from ../data/DICOMs/R01/2932807221/RTPLAN\n"
     ]
    },
    {
     "name": "stderr",
     "output_type": "stream",
     "text": [
      "Loading through DICOM files: 100%|████████████████| 4/4 [00:02<00:00,  1.96it/s]\n"
     ]
    },
    {
     "name": "stdout",
     "output_type": "stream",
     "text": [
      "Compiling dictionaries together...\n",
      "Index 0, description  at ../data/DICOMs/R01/2932807221/CT\n",
      "1 unique series IDs were found. Default is index 0, to change use set_index(index)\n",
      "Loading images for  at \n",
      " ../data/DICOMs/R01/2932807221/CT\n",
      "\n",
      "2932807221 done 0 of 1\n",
      "2932807221 done 0 of 1\n",
      "2932807221 done 0 of 1\n",
      "finshed ids [1173728658, 1178044145, 1194116893, 1235569621, 1265845118, 1269213210, 1276736352, 2774318802, 2776638846, 2803120404, 2804890849, 2815583275, 2817169157, 2843895295, 2865890865, 2867468906, 2875588687, 2883823678, 2889102751, 2894996073, 2908060983, 2929571068, 2932807221]\n"
     ]
    },
    {
     "name": "stderr",
     "output_type": "stream",
     "text": [
      "Loading through DICOM files:  33%|█████▎          | 1/3 [00:00<00:00,  7.10it/s]"
     ]
    },
    {
     "name": "stdout",
     "output_type": "stream",
     "text": [
      "Loading from ../data/DICOMs/R01/2939740989/RTSTRUCT\n",
      "Loading from ../data/DICOMs/R01/2939740989/RTDOSE\n",
      "Loading from ../data/DICOMs/R01/2939740989/CT\n"
     ]
    },
    {
     "name": "stderr",
     "output_type": "stream",
     "text": [
      "Loading through DICOM files: 100%|████████████████| 3/3 [00:04<00:00,  1.41s/it]\n"
     ]
    },
    {
     "name": "stdout",
     "output_type": "stream",
     "text": [
      "Compiling dictionaries together...\n",
      "Index 0, description HighResDRR at ../data/DICOMs/R01/2939740989/CT\n",
      "1 unique series IDs were found. Default is index 0, to change use set_index(index)\n",
      "Loading images for HighResDRR at \n",
      " ../data/DICOMs/R01/2939740989/CT\n",
      "\n",
      "2939740989 done 0 of 1\n",
      "2939740989 done 0 of 1\n",
      "2939740989 done 0 of 1\n",
      "finshed ids [1173728658, 1178044145, 1194116893, 1235569621, 1265845118, 1269213210, 1276736352, 2774318802, 2776638846, 2803120404, 2804890849, 2815583275, 2817169157, 2843895295, 2865890865, 2867468906, 2875588687, 2883823678, 2889102751, 2894996073, 2908060983, 2929571068, 2932807221, 2939740989]\n"
     ]
    },
    {
     "name": "stderr",
     "output_type": "stream",
     "text": [
      "\r",
      "Loading through DICOM files:   0%|                        | 0/4 [00:00<?, ?it/s]"
     ]
    },
    {
     "name": "stdout",
     "output_type": "stream",
     "text": [
      "Loading from ../data/DICOMs/R01/2983776095/RTPLAN\n",
      "Loading from ../data/DICOMs/R01/2983776095/CT\n",
      "Loading from ../data/DICOMs/R01/2983776095/RTDOSE\n",
      "Loading from ../data/DICOMs/R01/2983776095/RTSTRUCT\n"
     ]
    },
    {
     "name": "stderr",
     "output_type": "stream",
     "text": [
      "Loading through DICOM files: 100%|████████████████| 4/4 [00:02<00:00,  1.71it/s]\n"
     ]
    },
    {
     "name": "stdout",
     "output_type": "stream",
     "text": [
      "Compiling dictionaries together...\n",
      "Index 0, description FINAL SCAN at ../data/DICOMs/R01/2983776095/CT\n",
      "1 unique series IDs were found. Default is index 0, to change use set_index(index)\n",
      "Loading images for FINAL SCAN at \n",
      " ../data/DICOMs/R01/2983776095/CT\n",
      "\n",
      "2983776095 done 0 of 1\n",
      "2983776095 done 0 of 1\n",
      "2983776095 done 0 of 1\n",
      "finshed ids [1173728658, 1178044145, 1194116893, 1235569621, 1265845118, 1269213210, 1276736352, 2774318802, 2776638846, 2803120404, 2804890849, 2815583275, 2817169157, 2843895295, 2865890865, 2867468906, 2875588687, 2883823678, 2889102751, 2894996073, 2908060983, 2929571068, 2932807221, 2939740989, 2983776095]\n"
     ]
    },
    {
     "name": "stderr",
     "output_type": "stream",
     "text": [
      "Loading through DICOM files:  25%|████            | 1/4 [00:00<00:00,  6.48it/s]"
     ]
    },
    {
     "name": "stdout",
     "output_type": "stream",
     "text": [
      "Loading from ../data/DICOMs/R01/2989874876/RTSTRUCT\n",
      "Loading from ../data/DICOMs/R01/2989874876/RTDOSE\n",
      "Loading from ../data/DICOMs/R01/2989874876/RTPLAN\n",
      "Loading from ../data/DICOMs/R01/2989874876/CT\n"
     ]
    },
    {
     "name": "stderr",
     "output_type": "stream",
     "text": [
      "Loading through DICOM files: 100%|████████████████| 4/4 [00:02<00:00,  1.43it/s]\n"
     ]
    },
    {
     "name": "stdout",
     "output_type": "stream",
     "text": [
      "Compiling dictionaries together...\n",
      "Index 0, description O-MAR, W/O BOLUS at ../data/DICOMs/R01/2989874876/CT\n",
      "1 unique series IDs were found. Default is index 0, to change use set_index(index)\n",
      "Loading images for O-MAR, W/O BOLUS at \n",
      " ../data/DICOMs/R01/2989874876/CT\n",
      "\n",
      "2989874876 done 0 of 1\n",
      "2989874876 done 0 of 1\n",
      "2989874876 done 0 of 1\n",
      "finshed ids [1173728658, 1178044145, 1194116893, 1235569621, 1265845118, 1269213210, 1276736352, 2774318802, 2776638846, 2803120404, 2804890849, 2815583275, 2817169157, 2843895295, 2865890865, 2867468906, 2875588687, 2883823678, 2889102751, 2894996073, 2908060983, 2929571068, 2932807221, 2939740989, 2983776095, 2989874876]\n"
     ]
    },
    {
     "name": "stderr",
     "output_type": "stream",
     "text": [
      "\r",
      "Loading through DICOM files:   0%|                        | 0/4 [00:00<?, ?it/s]"
     ]
    },
    {
     "name": "stdout",
     "output_type": "stream",
     "text": [
      "Loading from ../data/DICOMs/R01/3028333367/CT\n",
      "Loading from ../data/DICOMs/R01/3028333367/RTDOSE\n",
      "Loading from ../data/DICOMs/R01/3028333367/RTSTRUCTLoading from ../data/DICOMs/R01/3028333367/RTPLAN\n",
      "\n"
     ]
    },
    {
     "name": "stderr",
     "output_type": "stream",
     "text": [
      "Loading through DICOM files: 100%|████████████████| 4/4 [00:02<00:00,  1.97it/s]\n"
     ]
    },
    {
     "name": "stdout",
     "output_type": "stream",
     "text": [
      "Compiling dictionaries together...\n",
      "Index 0, description  at ../data/DICOMs/R01/3028333367/CT\n",
      "1 unique series IDs were found. Default is index 0, to change use set_index(index)\n",
      "Loading images for  at \n",
      " ../data/DICOMs/R01/3028333367/CT\n",
      "\n",
      "3028333367 done 0 of 1\n",
      "3028333367 done 0 of 1\n",
      "3028333367 done 0 of 1\n",
      "finshed ids [1173728658, 1178044145, 1194116893, 1235569621, 1265845118, 1269213210, 1276736352, 2774318802, 2776638846, 2803120404, 2804890849, 2815583275, 2817169157, 2843895295, 2865890865, 2867468906, 2875588687, 2883823678, 2889102751, 2894996073, 2908060983, 2929571068, 2932807221, 2939740989, 2983776095, 2989874876, 3028333367]\n"
     ]
    },
    {
     "name": "stderr",
     "output_type": "stream",
     "text": [
      "\r",
      "Loading through DICOM files:   0%|                        | 0/3 [00:00<?, ?it/s]"
     ]
    },
    {
     "name": "stdout",
     "output_type": "stream",
     "text": [
      "Loading from ../data/DICOMs/R01/3035721150/RTSTRUCT\n",
      "Loading from ../data/DICOMs/R01/3035721150/RTDOSE\n",
      "Loading from ../data/DICOMs/R01/3035721150/CT\n"
     ]
    },
    {
     "name": "stderr",
     "output_type": "stream",
     "text": [
      "Loading through DICOM files: 100%|████████████████| 3/3 [00:02<00:00,  1.31it/s]\n"
     ]
    },
    {
     "name": "stdout",
     "output_type": "stream",
     "text": [
      "Compiling dictionaries together...\n",
      "Index 0, description  at ../data/DICOMs/R01/3035721150/CT\n",
      "1 unique series IDs were found. Default is index 0, to change use set_index(index)\n",
      "Loading images for  at \n",
      " ../data/DICOMs/R01/3035721150/CT\n",
      "\n",
      "3035721150 done 0 of 1\n",
      "3035721150 done 0 of 1\n",
      "3035721150 done 0 of 1\n",
      "finshed ids [1173728658, 1178044145, 1194116893, 1235569621, 1265845118, 1269213210, 1276736352, 2774318802, 2776638846, 2803120404, 2804890849, 2815583275, 2817169157, 2843895295, 2865890865, 2867468906, 2875588687, 2883823678, 2889102751, 2894996073, 2908060983, 2929571068, 2932807221, 2939740989, 2983776095, 2989874876, 3028333367, 3035721150]\n"
     ]
    },
    {
     "name": "stderr",
     "output_type": "stream",
     "text": [
      "\r",
      "Loading through DICOM files:   0%|                        | 0/4 [00:00<?, ?it/s]"
     ]
    },
    {
     "name": "stdout",
     "output_type": "stream",
     "text": [
      "Loading from ../data/DICOMs/R01/3045110595/RTPLAN\n",
      "Loading from ../data/DICOMs/R01/3045110595/RTSTRUCT\n",
      "Loading from ../data/DICOMs/R01/3045110595/RTDOSE\n",
      "Loading from ../data/DICOMs/R01/3045110595/CT\n"
     ]
    },
    {
     "name": "stderr",
     "output_type": "stream",
     "text": [
      "Loading through DICOM files: 100%|████████████████| 4/4 [00:04<00:00,  1.04s/it]\n"
     ]
    },
    {
     "name": "stdout",
     "output_type": "stream",
     "text": [
      "Compiling dictionaries together...\n",
      "Index 0, description 2ND  at ../data/DICOMs/R01/3045110595/CT\n",
      "1 unique series IDs were found. Default is index 0, to change use set_index(index)\n",
      "Loading images for 2ND  at \n",
      " ../data/DICOMs/R01/3045110595/CT\n",
      "\n",
      "3045110595 done 0 of 1\n",
      "3045110595 done 0 of 1\n",
      "3045110595 done 0 of 1\n",
      "finshed ids [1173728658, 1178044145, 1194116893, 1235569621, 1265845118, 1269213210, 1276736352, 2774318802, 2776638846, 2803120404, 2804890849, 2815583275, 2817169157, 2843895295, 2865890865, 2867468906, 2875588687, 2883823678, 2889102751, 2894996073, 2908060983, 2929571068, 2932807221, 2939740989, 2983776095, 2989874876, 3028333367, 3035721150, 3045110595]\n"
     ]
    },
    {
     "name": "stderr",
     "output_type": "stream",
     "text": [
      "\r",
      "Loading through DICOM files:   0%|                        | 0/3 [00:00<?, ?it/s]"
     ]
    },
    {
     "name": "stdout",
     "output_type": "stream",
     "text": [
      "Loading from ../data/DICOMs/R01/3045556976/CT\n",
      "Loading from ../data/DICOMs/R01/3045556976/RTSTRUCT\n",
      "Loading from ../data/DICOMs/R01/3045556976/RTDOSE\n"
     ]
    },
    {
     "name": "stderr",
     "output_type": "stream",
     "text": [
      "Loading through DICOM files: 100%|████████████████| 3/3 [00:02<00:00,  1.06it/s]\n"
     ]
    },
    {
     "name": "stdout",
     "output_type": "stream",
     "text": [
      "Compiling dictionaries together...\n",
      "Index 0, description O-MAR  at ../data/DICOMs/R01/3045556976/CT\n",
      "1 unique series IDs were found. Default is index 0, to change use set_index(index)\n",
      "Loading images for O-MAR  at \n",
      " ../data/DICOMs/R01/3045556976/CT\n",
      "\n",
      "3045556976 done 0 of 1\n",
      "3045556976 done 0 of 1\n",
      "3045556976 done 0 of 1\n",
      "finshed ids [1173728658, 1178044145, 1194116893, 1235569621, 1265845118, 1269213210, 1276736352, 2774318802, 2776638846, 2803120404, 2804890849, 2815583275, 2817169157, 2843895295, 2865890865, 2867468906, 2875588687, 2883823678, 2889102751, 2894996073, 2908060983, 2929571068, 2932807221, 2939740989, 2983776095, 2989874876, 3028333367, 3035721150, 3045110595, 3045556976]\n"
     ]
    },
    {
     "name": "stderr",
     "output_type": "stream",
     "text": [
      "\r",
      "Loading through DICOM files:   0%|                        | 0/4 [00:00<?, ?it/s]"
     ]
    },
    {
     "name": "stdout",
     "output_type": "stream",
     "text": [
      "Loading from ../data/DICOMs/R01/3045918834/RTSTRUCT\n",
      "Loading from ../data/DICOMs/R01/3045918834/CT\n",
      "Loading from ../data/DICOMs/R01/3045918834/RTDOSE\n",
      "Loading from ../data/DICOMs/R01/3045918834/RTPLAN\n"
     ]
    },
    {
     "name": "stderr",
     "output_type": "stream",
     "text": [
      "Loading through DICOM files: 100%|████████████████| 4/4 [00:03<00:00,  1.12it/s]\n"
     ]
    },
    {
     "name": "stdout",
     "output_type": "stream",
     "text": [
      "Compiling dictionaries together...\n",
      "Index 0, description Head and Neck  at ../data/DICOMs/R01/3045918834/CT\n",
      "1 unique series IDs were found. Default is index 0, to change use set_index(index)\n",
      "Loading images for Head and Neck  at \n",
      " ../data/DICOMs/R01/3045918834/CT\n",
      "\n",
      "3045918834 done 0 of 1\n",
      "3045918834 done 0 of 1\n",
      "3045918834 done 0 of 1\n",
      "finshed ids [1173728658, 1178044145, 1194116893, 1235569621, 1265845118, 1269213210, 1276736352, 2774318802, 2776638846, 2803120404, 2804890849, 2815583275, 2817169157, 2843895295, 2865890865, 2867468906, 2875588687, 2883823678, 2889102751, 2894996073, 2908060983, 2929571068, 2932807221, 2939740989, 2983776095, 2989874876, 3028333367, 3035721150, 3045110595, 3045556976, 3045918834]\n"
     ]
    },
    {
     "name": "stderr",
     "output_type": "stream",
     "text": [
      "\r",
      "Loading through DICOM files:   0%|                        | 0/4 [00:00<?, ?it/s]"
     ]
    },
    {
     "name": "stdout",
     "output_type": "stream",
     "text": [
      "Loading from ../data/DICOMs/R01/3049758970/RTPLAN\n",
      "Loading from ../data/DICOMs/R01/3049758970/RTDOSE\n",
      "Loading from ../data/DICOMs/R01/3049758970/RTSTRUCT\n",
      "Loading from ../data/DICOMs/R01/3049758970/CT\n"
     ]
    },
    {
     "name": "stderr",
     "output_type": "stream",
     "text": [
      "Loading through DICOM files: 100%|████████████████| 4/4 [00:14<00:00,  3.62s/it]\n"
     ]
    },
    {
     "name": "stdout",
     "output_type": "stream",
     "text": [
      "Compiling dictionaries together...\n",
      "Index 0, description O-MAR  at ../data/DICOMs/R01/3049758970/CT\n",
      "1 unique series IDs were found. Default is index 0, to change use set_index(index)\n",
      "Loading images for O-MAR  at \n",
      " ../data/DICOMs/R01/3049758970/CT\n",
      "\n",
      "3049758970 done 0 of 1\n",
      "3049758970 done 0 of 1\n",
      "3049758970 done 0 of 1\n",
      "finshed ids [1173728658, 1178044145, 1194116893, 1235569621, 1265845118, 1269213210, 1276736352, 2774318802, 2776638846, 2803120404, 2804890849, 2815583275, 2817169157, 2843895295, 2865890865, 2867468906, 2875588687, 2883823678, 2889102751, 2894996073, 2908060983, 2929571068, 2932807221, 2939740989, 2983776095, 2989874876, 3028333367, 3035721150, 3045110595, 3045556976, 3045918834, 3049758970]\n"
     ]
    },
    {
     "name": "stderr",
     "output_type": "stream",
     "text": [
      "\r",
      "Loading through DICOM files:   0%|                        | 0/4 [00:00<?, ?it/s]"
     ]
    },
    {
     "name": "stdout",
     "output_type": "stream",
     "text": [
      "Loading from ../data/DICOMs/R01/3071491330/CT\n",
      "Loading from ../data/DICOMs/R01/3071491330/RTSTRUCT\n",
      "Loading from ../data/DICOMs/R01/3071491330/RTPLAN\n",
      "Loading from ../data/DICOMs/R01/3071491330/RTDOSE\n"
     ]
    },
    {
     "name": "stderr",
     "output_type": "stream",
     "text": [
      "Loading through DICOM files: 100%|████████████████| 4/4 [00:02<00:00,  1.75it/s]\n"
     ]
    },
    {
     "name": "stdout",
     "output_type": "stream",
     "text": [
      "Compiling dictionaries together...\n",
      "Index 0, description  at ../data/DICOMs/R01/3071491330/CT\n",
      "1 unique series IDs were found. Default is index 0, to change use set_index(index)\n",
      "Loading images for  at \n",
      " ../data/DICOMs/R01/3071491330/CT\n",
      "\n",
      "error in contours_to_mask 'Dataset' object has no attribute 'ContourSequence'\n",
      "3071491330 done 0 of 1\n",
      "3071491330 done 0 of 1\n",
      "3071491330 done 0 of 1\n",
      "finshed ids [1173728658, 1178044145, 1194116893, 1235569621, 1265845118, 1269213210, 1276736352, 2774318802, 2776638846, 2803120404, 2804890849, 2815583275, 2817169157, 2843895295, 2865890865, 2867468906, 2875588687, 2883823678, 2889102751, 2894996073, 2908060983, 2929571068, 2932807221, 2939740989, 2983776095, 2989874876, 3028333367, 3035721150, 3045110595, 3045556976, 3045918834, 3049758970, 3071491330]\n"
     ]
    },
    {
     "name": "stderr",
     "output_type": "stream",
     "text": [
      "\r",
      "Loading through DICOM files:   0%|                        | 0/4 [00:00<?, ?it/s]"
     ]
    },
    {
     "name": "stdout",
     "output_type": "stream",
     "text": [
      "Loading from ../data/DICOMs/R01/3077525807/RTSTRUCT\n",
      "Loading from ../data/DICOMs/R01/3077525807/RTPLAN\n",
      "Loading from ../data/DICOMs/R01/3077525807/RTDOSE\n",
      "Loading from ../data/DICOMs/R01/3077525807/CT\n"
     ]
    },
    {
     "name": "stderr",
     "output_type": "stream",
     "text": [
      "Loading through DICOM files: 100%|████████████████| 4/4 [00:02<00:00,  1.39it/s]\n"
     ]
    },
    {
     "name": "stdout",
     "output_type": "stream",
     "text": [
      "Compiling dictionaries together...\n",
      "Index 0, description O-MAR  at ../data/DICOMs/R01/3077525807/CT\n",
      "1 unique series IDs were found. Default is index 0, to change use set_index(index)\n",
      "Loading images for O-MAR  at \n",
      " ../data/DICOMs/R01/3077525807/CT\n",
      "\n",
      "3077525807 done 0 of 1\n",
      "3077525807 done 0 of 1\n",
      "3077525807 done 0 of 1\n",
      "finshed ids [1173728658, 1178044145, 1194116893, 1235569621, 1265845118, 1269213210, 1276736352, 2774318802, 2776638846, 2803120404, 2804890849, 2815583275, 2817169157, 2843895295, 2865890865, 2867468906, 2875588687, 2883823678, 2889102751, 2894996073, 2908060983, 2929571068, 2932807221, 2939740989, 2983776095, 2989874876, 3028333367, 3035721150, 3045110595, 3045556976, 3045918834, 3049758970, 3071491330, 3077525807]\n"
     ]
    },
    {
     "name": "stderr",
     "output_type": "stream",
     "text": [
      "\r",
      "Loading through DICOM files:   0%|                        | 0/3 [00:00<?, ?it/s]"
     ]
    },
    {
     "name": "stdout",
     "output_type": "stream",
     "text": [
      "Loading from ../data/DICOMs/R01/3081060090/CT\n",
      "Loading from ../data/DICOMs/R01/3081060090/RTDOSE\n",
      "Loading from ../data/DICOMs/R01/3081060090/RTSTRUCT\n"
     ]
    },
    {
     "name": "stderr",
     "output_type": "stream",
     "text": [
      "Loading through DICOM files: 100%|████████████████| 3/3 [00:03<00:00,  1.08s/it]\n"
     ]
    },
    {
     "name": "stdout",
     "output_type": "stream",
     "text": [
      "Compiling dictionaries together...\n",
      "Index 0, description Head and Neck  at ../data/DICOMs/R01/3081060090/CT\n",
      "1 unique series IDs were found. Default is index 0, to change use set_index(index)\n",
      "Loading images for Head and Neck  at \n",
      " ../data/DICOMs/R01/3081060090/CT\n",
      "\n",
      "3081060090 done 0 of 1\n",
      "3081060090 done 0 of 1\n",
      "3081060090 done 0 of 1\n",
      "finshed ids [1173728658, 1178044145, 1194116893, 1235569621, 1265845118, 1269213210, 1276736352, 2774318802, 2776638846, 2803120404, 2804890849, 2815583275, 2817169157, 2843895295, 2865890865, 2867468906, 2875588687, 2883823678, 2889102751, 2894996073, 2908060983, 2929571068, 2932807221, 2939740989, 2983776095, 2989874876, 3028333367, 3035721150, 3045110595, 3045556976, 3045918834, 3049758970, 3071491330, 3077525807, 3081060090]\n"
     ]
    },
    {
     "name": "stderr",
     "output_type": "stream",
     "text": [
      "\r",
      "Loading through DICOM files:   0%|                        | 0/4 [00:00<?, ?it/s]"
     ]
    },
    {
     "name": "stdout",
     "output_type": "stream",
     "text": [
      "Loading from ../data/DICOMs/R01/3099145083/CT\n",
      "Loading from ../data/DICOMs/R01/3099145083/RTDOSE\n",
      "Loading from ../data/DICOMs/R01/3099145083/RTSTRUCT\n",
      "Loading from ../data/DICOMs/R01/3099145083/RTPLAN\n"
     ]
    },
    {
     "name": "stderr",
     "output_type": "stream",
     "text": [
      "Loading through DICOM files: 100%|████████████████| 4/4 [00:02<00:00,  1.46it/s]\n"
     ]
    },
    {
     "name": "stdout",
     "output_type": "stream",
     "text": [
      "Compiling dictionaries together...\n",
      "Index 0, description O-MAR  at ../data/DICOMs/R01/3099145083/CT\n",
      "1 unique series IDs were found. Default is index 0, to change use set_index(index)\n",
      "Loading images for O-MAR  at \n",
      " ../data/DICOMs/R01/3099145083/CT\n",
      "\n",
      "3099145083 done 0 of 1\n",
      "3099145083 done 0 of 1\n",
      "3099145083 done 0 of 1\n",
      "finshed ids [1173728658, 1178044145, 1194116893, 1235569621, 1265845118, 1269213210, 1276736352, 2774318802, 2776638846, 2803120404, 2804890849, 2815583275, 2817169157, 2843895295, 2865890865, 2867468906, 2875588687, 2883823678, 2889102751, 2894996073, 2908060983, 2929571068, 2932807221, 2939740989, 2983776095, 2989874876, 3028333367, 3035721150, 3045110595, 3045556976, 3045918834, 3049758970, 3071491330, 3077525807, 3081060090, 3099145083]\n"
     ]
    },
    {
     "name": "stderr",
     "output_type": "stream",
     "text": [
      "\r",
      "Loading through DICOM files:   0%|                        | 0/3 [00:00<?, ?it/s]"
     ]
    },
    {
     "name": "stdout",
     "output_type": "stream",
     "text": [
      "Loading from ../data/DICOMs/R01/3100266114/CT\n",
      "Loading from ../data/DICOMs/R01/3100266114/RTSTRUCT\n",
      "Loading from ../data/DICOMs/R01/3100266114/RTDOSE\n"
     ]
    },
    {
     "name": "stderr",
     "output_type": "stream",
     "text": [
      "Loading through DICOM files: 100%|████████████████| 3/3 [00:02<00:00,  1.39it/s]\n"
     ]
    },
    {
     "name": "stdout",
     "output_type": "stream",
     "text": [
      "Compiling dictionaries together...\n",
      "Index 0, description  at ../data/DICOMs/R01/3100266114/CT\n",
      "1 unique series IDs were found. Default is index 0, to change use set_index(index)\n",
      "Loading images for  at \n",
      " ../data/DICOMs/R01/3100266114/CT\n",
      "\n",
      "3100266114 done 0 of 1\n",
      "3100266114 done 0 of 1\n",
      "3100266114 done 0 of 1\n",
      "finshed ids [1173728658, 1178044145, 1194116893, 1235569621, 1265845118, 1269213210, 1276736352, 2774318802, 2776638846, 2803120404, 2804890849, 2815583275, 2817169157, 2843895295, 2865890865, 2867468906, 2875588687, 2883823678, 2889102751, 2894996073, 2908060983, 2929571068, 2932807221, 2939740989, 2983776095, 2989874876, 3028333367, 3035721150, 3045110595, 3045556976, 3045918834, 3049758970, 3071491330, 3077525807, 3081060090, 3099145083, 3100266114]\n"
     ]
    },
    {
     "name": "stderr",
     "output_type": "stream",
     "text": [
      "\r",
      "Loading through DICOM files:   0%|                        | 0/4 [00:00<?, ?it/s]"
     ]
    },
    {
     "name": "stdout",
     "output_type": "stream",
     "text": [
      "Loading from ../data/DICOMs/R01/3108161676/CTLoading from ../data/DICOMs/R01/3108161676/RTSTRUCT\n",
      "\n",
      "Loading from ../data/DICOMs/R01/3108161676/RTDOSE\n",
      "Loading from ../data/DICOMs/R01/3108161676/RTPLAN\n"
     ]
    },
    {
     "name": "stderr",
     "output_type": "stream",
     "text": [
      "Loading through DICOM files: 100%|████████████████| 4/4 [00:02<00:00,  1.73it/s]\n"
     ]
    },
    {
     "name": "stdout",
     "output_type": "stream",
     "text": [
      "Compiling dictionaries together...\n",
      "Index 0, description  at ../data/DICOMs/R01/3108161676/CT\n",
      "1 unique series IDs were found. Default is index 0, to change use set_index(index)\n",
      "Loading images for  at \n",
      " ../data/DICOMs/R01/3108161676/CT\n",
      "\n",
      "3108161676 done 0 of 1\n",
      "3108161676 done 0 of 1\n",
      "3108161676 done 0 of 1\n",
      "finshed ids [1173728658, 1178044145, 1194116893, 1235569621, 1265845118, 1269213210, 1276736352, 2774318802, 2776638846, 2803120404, 2804890849, 2815583275, 2817169157, 2843895295, 2865890865, 2867468906, 2875588687, 2883823678, 2889102751, 2894996073, 2908060983, 2929571068, 2932807221, 2939740989, 2983776095, 2989874876, 3028333367, 3035721150, 3045110595, 3045556976, 3045918834, 3049758970, 3071491330, 3077525807, 3081060090, 3099145083, 3100266114, 3108161676]\n"
     ]
    },
    {
     "name": "stderr",
     "output_type": "stream",
     "text": [
      "\r",
      "Loading through DICOM files:   0%|                        | 0/4 [00:00<?, ?it/s]"
     ]
    },
    {
     "name": "stdout",
     "output_type": "stream",
     "text": [
      "Loading from ../data/DICOMs/R01/3125978990/RTPLAN\n",
      "Loading from ../data/DICOMs/R01/3125978990/RTDOSELoading from ../data/DICOMs/R01/3125978990/CT\n",
      "Loading from ../data/DICOMs/R01/3125978990/RTSTRUCT\n",
      "\n"
     ]
    },
    {
     "name": "stderr",
     "output_type": "stream",
     "text": [
      "Loading through DICOM files: 100%|████████████████| 4/4 [00:04<00:00,  1.11s/it]\n"
     ]
    },
    {
     "name": "stdout",
     "output_type": "stream",
     "text": [
      "Compiling dictionaries together...\n",
      "Index 0, description  at ../data/DICOMs/R01/3125978990/CT\n",
      "1 unique series IDs were found. Default is index 0, to change use set_index(index)\n",
      "Loading images for  at \n",
      " ../data/DICOMs/R01/3125978990/CT\n",
      "\n",
      "3125978990 done 0 of 1\n",
      "3125978990 done 0 of 1\n",
      "3125978990 done 0 of 1\n",
      "finshed ids [1173728658, 1178044145, 1194116893, 1235569621, 1265845118, 1269213210, 1276736352, 2774318802, 2776638846, 2803120404, 2804890849, 2815583275, 2817169157, 2843895295, 2865890865, 2867468906, 2875588687, 2883823678, 2889102751, 2894996073, 2908060983, 2929571068, 2932807221, 2939740989, 2983776095, 2989874876, 3028333367, 3035721150, 3045110595, 3045556976, 3045918834, 3049758970, 3071491330, 3077525807, 3081060090, 3099145083, 3100266114, 3108161676, 3125978990]\n"
     ]
    },
    {
     "name": "stderr",
     "output_type": "stream",
     "text": [
      "\r",
      "Loading through DICOM files:   0%|                        | 0/4 [00:00<?, ?it/s]"
     ]
    },
    {
     "name": "stdout",
     "output_type": "stream",
     "text": [
      "Loading from ../data/DICOMs/R01/3151449158/RTSTRUCT\n",
      "Loading from ../data/DICOMs/R01/3151449158/CT\n",
      "Loading from ../data/DICOMs/R01/3151449158/RTPLANLoading from ../data/DICOMs/R01/3151449158/RTDOSE\n",
      "\n"
     ]
    },
    {
     "name": "stderr",
     "output_type": "stream",
     "text": [
      "Loading through DICOM files: 100%|████████████████| 4/4 [00:02<00:00,  1.52it/s]\n"
     ]
    },
    {
     "name": "stdout",
     "output_type": "stream",
     "text": [
      "Compiling dictionaries together...\n",
      "Index 0, description O-MAR  at ../data/DICOMs/R01/3151449158/CT\n",
      "1 unique series IDs were found. Default is index 0, to change use set_index(index)\n",
      "Loading images for O-MAR  at \n",
      " ../data/DICOMs/R01/3151449158/CT\n",
      "\n",
      "3151449158 done 0 of 1\n",
      "3151449158 done 0 of 1\n",
      "3151449158 done 0 of 1\n",
      "finshed ids [1173728658, 1178044145, 1194116893, 1235569621, 1265845118, 1269213210, 1276736352, 2774318802, 2776638846, 2803120404, 2804890849, 2815583275, 2817169157, 2843895295, 2865890865, 2867468906, 2875588687, 2883823678, 2889102751, 2894996073, 2908060983, 2929571068, 2932807221, 2939740989, 2983776095, 2989874876, 3028333367, 3035721150, 3045110595, 3045556976, 3045918834, 3049758970, 3071491330, 3077525807, 3081060090, 3099145083, 3100266114, 3108161676, 3125978990, 3151449158]\n"
     ]
    },
    {
     "name": "stderr",
     "output_type": "stream",
     "text": [
      "\r",
      "Loading through DICOM files:   0%|                        | 0/3 [00:00<?, ?it/s]"
     ]
    },
    {
     "name": "stdout",
     "output_type": "stream",
     "text": [
      "Loading from ../data/DICOMs/R01/3192749693/CT\n",
      "Loading from ../data/DICOMs/R01/3192749693/RTSTRUCT\n",
      "Loading from ../data/DICOMs/R01/3192749693/RTDOSE\n"
     ]
    },
    {
     "name": "stderr",
     "output_type": "stream",
     "text": [
      "Loading through DICOM files: 100%|████████████████| 3/3 [00:03<00:00,  1.18s/it]\n"
     ]
    },
    {
     "name": "stdout",
     "output_type": "stream",
     "text": [
      "Compiling dictionaries together...\n",
      "Index 0, description Head and Neck  at ../data/DICOMs/R01/3192749693/CT\n",
      "1 unique series IDs were found. Default is index 0, to change use set_index(index)\n",
      "Loading images for Head and Neck  at \n",
      " ../data/DICOMs/R01/3192749693/CT\n",
      "\n",
      "3192749693 done 0 of 1\n",
      "3192749693 done 0 of 1\n",
      "3192749693 done 0 of 1\n",
      "finshed ids [1173728658, 1178044145, 1194116893, 1235569621, 1265845118, 1269213210, 1276736352, 2774318802, 2776638846, 2803120404, 2804890849, 2815583275, 2817169157, 2843895295, 2865890865, 2867468906, 2875588687, 2883823678, 2889102751, 2894996073, 2908060983, 2929571068, 2932807221, 2939740989, 2983776095, 2989874876, 3028333367, 3035721150, 3045110595, 3045556976, 3045918834, 3049758970, 3071491330, 3077525807, 3081060090, 3099145083, 3100266114, 3108161676, 3125978990, 3151449158, 3192749693]\n"
     ]
    },
    {
     "name": "stderr",
     "output_type": "stream",
     "text": [
      "\r",
      "Loading through DICOM files:   0%|                        | 0/3 [00:00<?, ?it/s]"
     ]
    },
    {
     "name": "stdout",
     "output_type": "stream",
     "text": [
      "Loading from ../data/DICOMs/R01/3192926363/CT\n",
      "Loading from ../data/DICOMs/R01/3192926363/RTDOSE\n",
      "Loading from ../data/DICOMs/R01/3192926363/RTSTRUCT\n"
     ]
    },
    {
     "name": "stderr",
     "output_type": "stream",
     "text": [
      "Loading through DICOM files: 100%|████████████████| 3/3 [00:02<00:00,  1.30it/s]\n"
     ]
    },
    {
     "name": "stdout",
     "output_type": "stream",
     "text": [
      "Compiling dictionaries together...\n",
      "Index 0, description  at ../data/DICOMs/R01/3192926363/CT\n",
      "1 unique series IDs were found. Default is index 0, to change use set_index(index)\n",
      "Loading images for  at \n",
      " ../data/DICOMs/R01/3192926363/CT\n",
      "\n",
      "3192926363 done 0 of 1\n",
      "3192926363 done 0 of 1\n",
      "3192926363 done 0 of 1\n",
      "finshed ids [1173728658, 1178044145, 1194116893, 1235569621, 1265845118, 1269213210, 1276736352, 2774318802, 2776638846, 2803120404, 2804890849, 2815583275, 2817169157, 2843895295, 2865890865, 2867468906, 2875588687, 2883823678, 2889102751, 2894996073, 2908060983, 2929571068, 2932807221, 2939740989, 2983776095, 2989874876, 3028333367, 3035721150, 3045110595, 3045556976, 3045918834, 3049758970, 3071491330, 3077525807, 3081060090, 3099145083, 3100266114, 3108161676, 3125978990, 3151449158, 3192749693, 3192926363]\n"
     ]
    },
    {
     "name": "stderr",
     "output_type": "stream",
     "text": [
      "\r",
      "Loading through DICOM files:   0%|                        | 0/4 [00:00<?, ?it/s]"
     ]
    },
    {
     "name": "stdout",
     "output_type": "stream",
     "text": [
      "Loading from ../data/DICOMs/R01/3194171650/CT\n",
      "Loading from ../data/DICOMs/R01/3194171650/RTPLAN\n",
      "Loading from ../data/DICOMs/R01/3194171650/RTSTRUCT\n",
      "Loading from ../data/DICOMs/R01/3194171650/RTDOSE\n"
     ]
    },
    {
     "name": "stderr",
     "output_type": "stream",
     "text": [
      "Loading through DICOM files: 100%|████████████████| 4/4 [00:04<00:00,  1.03s/it]\n"
     ]
    },
    {
     "name": "stdout",
     "output_type": "stream",
     "text": [
      "Compiling dictionaries together...\n",
      "Index 0, description Head and Neck  at ../data/DICOMs/R01/3194171650/CT\n",
      "1 unique series IDs were found. Default is index 0, to change use set_index(index)\n",
      "Loading images for Head and Neck  at \n",
      " ../data/DICOMs/R01/3194171650/CT\n",
      "\n",
      "3194171650 done 0 of 1\n",
      "3194171650 done 0 of 1\n",
      "3194171650 done 0 of 1\n",
      "finshed ids [1173728658, 1178044145, 1194116893, 1235569621, 1265845118, 1269213210, 1276736352, 2774318802, 2776638846, 2803120404, 2804890849, 2815583275, 2817169157, 2843895295, 2865890865, 2867468906, 2875588687, 2883823678, 2889102751, 2894996073, 2908060983, 2929571068, 2932807221, 2939740989, 2983776095, 2989874876, 3028333367, 3035721150, 3045110595, 3045556976, 3045918834, 3049758970, 3071491330, 3077525807, 3081060090, 3099145083, 3100266114, 3108161676, 3125978990, 3151449158, 3192749693, 3192926363, 3194171650]\n"
     ]
    },
    {
     "name": "stderr",
     "output_type": "stream",
     "text": [
      "\r",
      "Loading through DICOM files:   0%|                        | 0/3 [00:00<?, ?it/s]"
     ]
    },
    {
     "name": "stdout",
     "output_type": "stream",
     "text": [
      "Loading from ../data/DICOMs/R01/3196236080/RTSTRUCT\n",
      "Loading from ../data/DICOMs/R01/3196236080/CT\n",
      "Loading from ../data/DICOMs/R01/3196236080/RTDOSE\n"
     ]
    },
    {
     "name": "stderr",
     "output_type": "stream",
     "text": [
      "Loading through DICOM files: 100%|████████████████| 3/3 [00:02<00:00,  1.29it/s]\n"
     ]
    },
    {
     "name": "stdout",
     "output_type": "stream",
     "text": [
      "Compiling dictionaries together...\n",
      "Index 0, description O-MAR, PLAN SCAN at ../data/DICOMs/R01/3196236080/CT\n",
      "1 unique series IDs were found. Default is index 0, to change use set_index(index)\n",
      "Loading images for O-MAR, PLAN SCAN at \n",
      " ../data/DICOMs/R01/3196236080/CT\n",
      "\n",
      "3196236080 done 0 of 1\n",
      "3196236080 done 0 of 1\n",
      "3196236080 done 0 of 1\n",
      "finshed ids [1173728658, 1178044145, 1194116893, 1235569621, 1265845118, 1269213210, 1276736352, 2774318802, 2776638846, 2803120404, 2804890849, 2815583275, 2817169157, 2843895295, 2865890865, 2867468906, 2875588687, 2883823678, 2889102751, 2894996073, 2908060983, 2929571068, 2932807221, 2939740989, 2983776095, 2989874876, 3028333367, 3035721150, 3045110595, 3045556976, 3045918834, 3049758970, 3071491330, 3077525807, 3081060090, 3099145083, 3100266114, 3108161676, 3125978990, 3151449158, 3192749693, 3192926363, 3194171650, 3196236080]\n"
     ]
    },
    {
     "name": "stderr",
     "output_type": "stream",
     "text": [
      "\r",
      "Loading through DICOM files:   0%|                        | 0/3 [00:00<?, ?it/s]"
     ]
    },
    {
     "name": "stdout",
     "output_type": "stream",
     "text": [
      "Loading from ../data/DICOMs/R01/3205005928/CT\n",
      "Loading from ../data/DICOMs/R01/3205005928/RTSTRUCTLoading from ../data/DICOMs/R01/3205005928/RTDOSE\n",
      "\n"
     ]
    },
    {
     "name": "stderr",
     "output_type": "stream",
     "text": [
      "Loading through DICOM files: 100%|████████████████| 3/3 [00:01<00:00,  1.68it/s]\n"
     ]
    },
    {
     "name": "stdout",
     "output_type": "stream",
     "text": [
      "Compiling dictionaries together...\n",
      "Index 0, description  at ../data/DICOMs/R01/3205005928/CT\n",
      "1 unique series IDs were found. Default is index 0, to change use set_index(index)\n",
      "Loading images for  at \n",
      " ../data/DICOMs/R01/3205005928/CT\n",
      "\n",
      "3205005928 done 0 of 1\n",
      "3205005928 done 0 of 1\n",
      "3205005928 done 0 of 1\n",
      "finshed ids [1173728658, 1178044145, 1194116893, 1235569621, 1265845118, 1269213210, 1276736352, 2774318802, 2776638846, 2803120404, 2804890849, 2815583275, 2817169157, 2843895295, 2865890865, 2867468906, 2875588687, 2883823678, 2889102751, 2894996073, 2908060983, 2929571068, 2932807221, 2939740989, 2983776095, 2989874876, 3028333367, 3035721150, 3045110595, 3045556976, 3045918834, 3049758970, 3071491330, 3077525807, 3081060090, 3099145083, 3100266114, 3108161676, 3125978990, 3151449158, 3192749693, 3192926363, 3194171650, 3196236080, 3205005928]\n"
     ]
    },
    {
     "name": "stderr",
     "output_type": "stream",
     "text": [
      "\r",
      "Loading through DICOM files:   0%|                        | 0/4 [00:00<?, ?it/s]"
     ]
    },
    {
     "name": "stdout",
     "output_type": "stream",
     "text": [
      "Loading from ../data/DICOMs/R01/3225956079/RTPLAN\n",
      "Loading from ../data/DICOMs/R01/3225956079/CT\n",
      "Loading from ../data/DICOMs/R01/3225956079/RTDOSE\n",
      "Loading from ../data/DICOMs/R01/3225956079/RTSTRUCT\n"
     ]
    },
    {
     "name": "stderr",
     "output_type": "stream",
     "text": [
      "Loading through DICOM files: 100%|████████████████| 4/4 [00:02<00:00,  1.61it/s]\n"
     ]
    },
    {
     "name": "stdout",
     "output_type": "stream",
     "text": [
      "Compiling dictionaries together...\n",
      "Index 0, description  at ../data/DICOMs/R01/3225956079/CT\n",
      "1 unique series IDs were found. Default is index 0, to change use set_index(index)\n",
      "Loading images for  at \n",
      " ../data/DICOMs/R01/3225956079/CT\n",
      "\n",
      "3225956079 done 0 of 1\n",
      "3225956079 done 0 of 1\n",
      "3225956079 done 0 of 1\n",
      "finshed ids [1173728658, 1178044145, 1194116893, 1235569621, 1265845118, 1269213210, 1276736352, 2774318802, 2776638846, 2803120404, 2804890849, 2815583275, 2817169157, 2843895295, 2865890865, 2867468906, 2875588687, 2883823678, 2889102751, 2894996073, 2908060983, 2929571068, 2932807221, 2939740989, 2983776095, 2989874876, 3028333367, 3035721150, 3045110595, 3045556976, 3045918834, 3049758970, 3071491330, 3077525807, 3081060090, 3099145083, 3100266114, 3108161676, 3125978990, 3151449158, 3192749693, 3192926363, 3194171650, 3196236080, 3205005928, 3225956079]\n"
     ]
    },
    {
     "name": "stderr",
     "output_type": "stream",
     "text": [
      "\r",
      "Loading through DICOM files:   0%|                        | 0/3 [00:00<?, ?it/s]"
     ]
    },
    {
     "name": "stdout",
     "output_type": "stream",
     "text": [
      "Loading from ../data/DICOMs/R01/3235750820/CT\n",
      "Loading from ../data/DICOMs/R01/3235750820/RTSTRUCT\n",
      "Loading from ../data/DICOMs/R01/3235750820/RTDOSE\n"
     ]
    },
    {
     "name": "stderr",
     "output_type": "stream",
     "text": [
      "Loading through DICOM files: 100%|████████████████| 3/3 [00:04<00:00,  1.54s/it]\n"
     ]
    },
    {
     "name": "stdout",
     "output_type": "stream",
     "text": [
      "Compiling dictionaries together...\n",
      "Index 0, description Head and Neck  at ../data/DICOMs/R01/3235750820/CT\n",
      "1 unique series IDs were found. Default is index 0, to change use set_index(index)\n",
      "Loading images for Head and Neck  at \n",
      " ../data/DICOMs/R01/3235750820/CT\n",
      "\n",
      "error in contours_to_mask 'Dataset' object has no attribute 'ContourSequence'\n",
      "error in contours_to_mask 'Dataset' object has no attribute 'ContourSequence'\n",
      "3235750820 done 0 of 1\n",
      "error in contours_to_mask 'Dataset' object has no attribute 'ContourSequence'\n",
      "3235750820 done 0 of 1\n",
      "error in contours_to_mask 'Dataset' object has no attribute 'ContourSequence'\n",
      "error in contours_to_mask 'Dataset' object has no attribute 'ContourSequence'\n",
      "error in contours_to_mask 'Dataset' object has no attribute 'ContourSequence'\n",
      "error in contours_to_mask 'Dataset' object has no attribute 'ContourSequence'\n",
      "3235750820 done 0 of 1\n",
      "finshed ids [1173728658, 1178044145, 1194116893, 1235569621, 1265845118, 1269213210, 1276736352, 2774318802, 2776638846, 2803120404, 2804890849, 2815583275, 2817169157, 2843895295, 2865890865, 2867468906, 2875588687, 2883823678, 2889102751, 2894996073, 2908060983, 2929571068, 2932807221, 2939740989, 2983776095, 2989874876, 3028333367, 3035721150, 3045110595, 3045556976, 3045918834, 3049758970, 3071491330, 3077525807, 3081060090, 3099145083, 3100266114, 3108161676, 3125978990, 3151449158, 3192749693, 3192926363, 3194171650, 3196236080, 3205005928, 3225956079, 3235750820]\n"
     ]
    },
    {
     "name": "stderr",
     "output_type": "stream",
     "text": [
      "\r",
      "Loading through DICOM files:   0%|                        | 0/4 [00:00<?, ?it/s]"
     ]
    },
    {
     "name": "stdout",
     "output_type": "stream",
     "text": [
      "Loading from ../data/DICOMs/R01/3239454379/RTSTRUCT\n",
      "Loading from ../data/DICOMs/R01/3239454379/RTPLAN\n",
      "Loading from ../data/DICOMs/R01/3239454379/RTDOSE\n",
      "Loading from ../data/DICOMs/R01/3239454379/CT\n"
     ]
    },
    {
     "name": "stderr",
     "output_type": "stream",
     "text": [
      "Loading through DICOM files: 100%|████████████████| 4/4 [00:03<00:00,  1.25it/s]\n"
     ]
    },
    {
     "name": "stdout",
     "output_type": "stream",
     "text": [
      "Compiling dictionaries together...\n",
      "Index 0, description  at ../data/DICOMs/R01/3239454379/CT\n",
      "1 unique series IDs were found. Default is index 0, to change use set_index(index)\n",
      "Loading images for  at \n",
      " ../data/DICOMs/R01/3239454379/CT\n",
      "\n",
      "error in contours_to_mask 'Dataset' object has no attribute 'ContourSequence'\n",
      "error in contours_to_mask 'Dataset' object has no attribute 'ContourSequence'\n",
      "error in contours_to_mask 'Dataset' object has no attribute 'ContourSequence'\n",
      "error in contours_to_mask 'Dataset' object has no attribute 'ContourSequence'\n",
      "error in contours_to_mask 'Dataset' object has no attribute 'ContourSequence'\n",
      "3239454379 done 0 of 1\n",
      "3239454379 done 0 of 1\n",
      "3239454379 done 0 of 1\n",
      "finshed ids [1173728658, 1178044145, 1194116893, 1235569621, 1265845118, 1269213210, 1276736352, 2774318802, 2776638846, 2803120404, 2804890849, 2815583275, 2817169157, 2843895295, 2865890865, 2867468906, 2875588687, 2883823678, 2889102751, 2894996073, 2908060983, 2929571068, 2932807221, 2939740989, 2983776095, 2989874876, 3028333367, 3035721150, 3045110595, 3045556976, 3045918834, 3049758970, 3071491330, 3077525807, 3081060090, 3099145083, 3100266114, 3108161676, 3125978990, 3151449158, 3192749693, 3192926363, 3194171650, 3196236080, 3205005928, 3225956079, 3235750820, 3239454379]\n"
     ]
    },
    {
     "name": "stderr",
     "output_type": "stream",
     "text": [
      "\r",
      "Loading through DICOM files:   0%|                        | 0/4 [00:00<?, ?it/s]"
     ]
    },
    {
     "name": "stdout",
     "output_type": "stream",
     "text": [
      "Loading from ../data/DICOMs/R01/3256350141/RTPLAN\n",
      "Loading from ../data/DICOMs/R01/3256350141/RTSTRUCTLoading from ../data/DICOMs/R01/3256350141/CT\n",
      "\n",
      "Loading from ../data/DICOMs/R01/3256350141/RTDOSE\n"
     ]
    },
    {
     "name": "stderr",
     "output_type": "stream",
     "text": [
      "Loading through DICOM files: 100%|████████████████| 4/4 [00:01<00:00,  2.03it/s]\n"
     ]
    },
    {
     "name": "stdout",
     "output_type": "stream",
     "text": [
      "Compiling dictionaries together...\n",
      "Index 0, description  at ../data/DICOMs/R01/3256350141/CT\n",
      "1 unique series IDs were found. Default is index 0, to change use set_index(index)\n",
      "Loading images for  at \n",
      " ../data/DICOMs/R01/3256350141/CT\n",
      "\n",
      "error in contours_to_mask 'Dataset' object has no attribute 'ContourSequence'\n",
      "error in contours_to_mask 'Dataset' object has no attribute 'ContourSequence'\n",
      "error in contours_to_mask 'Dataset' object has no attribute 'ContourSequence'\n",
      "3256350141 done 0 of 1\n",
      "3256350141 done 0 of 1\n",
      "3256350141 done 0 of 1\n",
      "finshed ids [1173728658, 1178044145, 1194116893, 1235569621, 1265845118, 1269213210, 1276736352, 2774318802, 2776638846, 2803120404, 2804890849, 2815583275, 2817169157, 2843895295, 2865890865, 2867468906, 2875588687, 2883823678, 2889102751, 2894996073, 2908060983, 2929571068, 2932807221, 2939740989, 2983776095, 2989874876, 3028333367, 3035721150, 3045110595, 3045556976, 3045918834, 3049758970, 3071491330, 3077525807, 3081060090, 3099145083, 3100266114, 3108161676, 3125978990, 3151449158, 3192749693, 3192926363, 3194171650, 3196236080, 3205005928, 3225956079, 3235750820, 3239454379, 3256350141]\n"
     ]
    },
    {
     "name": "stderr",
     "output_type": "stream",
     "text": [
      "Loading through DICOM files:  25%|████            | 1/4 [00:00<00:00,  9.05it/s]"
     ]
    },
    {
     "name": "stdout",
     "output_type": "stream",
     "text": [
      "Loading from ../data/DICOMs/R01/3283538700/CT\n",
      "Loading from ../data/DICOMs/R01/3283538700/RTDOSE\n",
      "Loading from ../data/DICOMs/R01/3283538700/RTSTRUCTLoading from ../data/DICOMs/R01/3283538700/RTPLAN\n",
      "\n"
     ]
    },
    {
     "name": "stderr",
     "output_type": "stream",
     "text": [
      "Loading through DICOM files: 100%|████████████████| 4/4 [00:02<00:00,  1.52it/s]\n"
     ]
    },
    {
     "name": "stdout",
     "output_type": "stream",
     "text": [
      "Compiling dictionaries together...\n",
      "Index 0, description O-MAR  at ../data/DICOMs/R01/3283538700/CT\n",
      "1 unique series IDs were found. Default is index 0, to change use set_index(index)\n",
      "Loading images for O-MAR  at \n",
      " ../data/DICOMs/R01/3283538700/CT\n",
      "\n",
      "3283538700 done 0 of 1\n",
      "3283538700 done 0 of 1\n",
      "3283538700 done 0 of 1\n",
      "finshed ids [1173728658, 1178044145, 1194116893, 1235569621, 1265845118, 1269213210, 1276736352, 2774318802, 2776638846, 2803120404, 2804890849, 2815583275, 2817169157, 2843895295, 2865890865, 2867468906, 2875588687, 2883823678, 2889102751, 2894996073, 2908060983, 2929571068, 2932807221, 2939740989, 2983776095, 2989874876, 3028333367, 3035721150, 3045110595, 3045556976, 3045918834, 3049758970, 3071491330, 3077525807, 3081060090, 3099145083, 3100266114, 3108161676, 3125978990, 3151449158, 3192749693, 3192926363, 3194171650, 3196236080, 3205005928, 3225956079, 3235750820, 3239454379, 3256350141, 3283538700]\n"
     ]
    },
    {
     "name": "stderr",
     "output_type": "stream",
     "text": [
      "\r",
      "Loading through DICOM files:   0%|                        | 0/4 [00:00<?, ?it/s]"
     ]
    },
    {
     "name": "stdout",
     "output_type": "stream",
     "text": [
      "Loading from ../data/DICOMs/R01/3316448321/RTPLAN\n",
      "Loading from ../data/DICOMs/R01/3316448321/RTSTRUCT\n",
      "Loading from ../data/DICOMs/R01/3316448321/CT\n",
      "Loading from ../data/DICOMs/R01/3316448321/RTDOSE\n"
     ]
    },
    {
     "name": "stderr",
     "output_type": "stream",
     "text": [
      "Loading through DICOM files: 100%|████████████████| 4/4 [00:03<00:00,  1.18it/s]\n"
     ]
    },
    {
     "name": "stdout",
     "output_type": "stream",
     "text": [
      "Compiling dictionaries together...\n",
      "Index 0, description Head and Neck  at ../data/DICOMs/R01/3316448321/CT\n",
      "1 unique series IDs were found. Default is index 0, to change use set_index(index)\n",
      "Loading images for Head and Neck  at \n",
      " ../data/DICOMs/R01/3316448321/CT\n",
      "\n",
      "3316448321 done 0 of 1\n",
      "3316448321 done 0 of 1\n",
      "3316448321 done 0 of 1\n",
      "finshed ids [1173728658, 1178044145, 1194116893, 1235569621, 1265845118, 1269213210, 1276736352, 2774318802, 2776638846, 2803120404, 2804890849, 2815583275, 2817169157, 2843895295, 2865890865, 2867468906, 2875588687, 2883823678, 2889102751, 2894996073, 2908060983, 2929571068, 2932807221, 2939740989, 2983776095, 2989874876, 3028333367, 3035721150, 3045110595, 3045556976, 3045918834, 3049758970, 3071491330, 3077525807, 3081060090, 3099145083, 3100266114, 3108161676, 3125978990, 3151449158, 3192749693, 3192926363, 3194171650, 3196236080, 3205005928, 3225956079, 3235750820, 3239454379, 3256350141, 3283538700, 3316448321]\n"
     ]
    },
    {
     "name": "stderr",
     "output_type": "stream",
     "text": [
      "Loading through DICOM files:  33%|█████▎          | 1/3 [00:00<00:00,  6.14it/s]"
     ]
    },
    {
     "name": "stdout",
     "output_type": "stream",
     "text": [
      "Loading from ../data/DICOMs/R01/3321571409/RTDOSE\n",
      "Loading from ../data/DICOMs/R01/3321571409/RTSTRUCT\n",
      "Loading from ../data/DICOMs/R01/3321571409/CT\n"
     ]
    },
    {
     "name": "stderr",
     "output_type": "stream",
     "text": [
      "Loading through DICOM files: 100%|████████████████| 3/3 [00:02<00:00,  1.36it/s]\n"
     ]
    },
    {
     "name": "stdout",
     "output_type": "stream",
     "text": [
      "Compiling dictionaries together...\n",
      "Index 0, description  at ../data/DICOMs/R01/3321571409/CT\n",
      "1 unique series IDs were found. Default is index 0, to change use set_index(index)\n",
      "Loading images for  at \n",
      " ../data/DICOMs/R01/3321571409/CT\n",
      "\n",
      "3321571409 done 0 of 1\n",
      "3321571409 done 0 of 1\n",
      "3321571409 done 0 of 1\n",
      "finshed ids [1173728658, 1178044145, 1194116893, 1235569621, 1265845118, 1269213210, 1276736352, 2774318802, 2776638846, 2803120404, 2804890849, 2815583275, 2817169157, 2843895295, 2865890865, 2867468906, 2875588687, 2883823678, 2889102751, 2894996073, 2908060983, 2929571068, 2932807221, 2939740989, 2983776095, 2989874876, 3028333367, 3035721150, 3045110595, 3045556976, 3045918834, 3049758970, 3071491330, 3077525807, 3081060090, 3099145083, 3100266114, 3108161676, 3125978990, 3151449158, 3192749693, 3192926363, 3194171650, 3196236080, 3205005928, 3225956079, 3235750820, 3239454379, 3256350141, 3283538700, 3316448321, 3321571409]\n"
     ]
    },
    {
     "name": "stderr",
     "output_type": "stream",
     "text": [
      "\r",
      "Loading through DICOM files:   0%|                        | 0/4 [00:00<?, ?it/s]"
     ]
    },
    {
     "name": "stdout",
     "output_type": "stream",
     "text": [
      "Loading from ../data/DICOMs/R01/3327830751/RTDOSE\n",
      "Loading from ../data/DICOMs/R01/3327830751/CTLoading from ../data/DICOMs/R01/3327830751/RTSTRUCT\n",
      "Loading from ../data/DICOMs/R01/3327830751/RTPLAN\n",
      "\n"
     ]
    },
    {
     "name": "stderr",
     "output_type": "stream",
     "text": [
      "Loading through DICOM files: 100%|████████████████| 4/4 [00:02<00:00,  1.56it/s]\n"
     ]
    },
    {
     "name": "stdout",
     "output_type": "stream",
     "text": [
      "Compiling dictionaries together...\n",
      "Index 0, description O-MAR  at ../data/DICOMs/R01/3327830751/CT\n",
      "1 unique series IDs were found. Default is index 0, to change use set_index(index)\n",
      "Loading images for O-MAR  at \n",
      " ../data/DICOMs/R01/3327830751/CT\n",
      "\n",
      "3327830751 done 0 of 1\n",
      "3327830751 done 0 of 1\n",
      "3327830751 done 0 of 1\n",
      "finshed ids [1173728658, 1178044145, 1194116893, 1235569621, 1265845118, 1269213210, 1276736352, 2774318802, 2776638846, 2803120404, 2804890849, 2815583275, 2817169157, 2843895295, 2865890865, 2867468906, 2875588687, 2883823678, 2889102751, 2894996073, 2908060983, 2929571068, 2932807221, 2939740989, 2983776095, 2989874876, 3028333367, 3035721150, 3045110595, 3045556976, 3045918834, 3049758970, 3071491330, 3077525807, 3081060090, 3099145083, 3100266114, 3108161676, 3125978990, 3151449158, 3192749693, 3192926363, 3194171650, 3196236080, 3205005928, 3225956079, 3235750820, 3239454379, 3256350141, 3283538700, 3316448321, 3321571409, 3327830751]\n"
     ]
    },
    {
     "name": "stderr",
     "output_type": "stream",
     "text": [
      "\r",
      "Loading through DICOM files:   0%|                        | 0/4 [00:00<?, ?it/s]"
     ]
    },
    {
     "name": "stdout",
     "output_type": "stream",
     "text": [
      "Loading from ../data/DICOMs/R01/3346286228/CT\n",
      "Loading from ../data/DICOMs/R01/3346286228/RTSTRUCT\n",
      "Loading from ../data/DICOMs/R01/3346286228/RTDOSELoading from ../data/DICOMs/R01/3346286228/RTPLAN\n",
      "\n"
     ]
    },
    {
     "name": "stderr",
     "output_type": "stream",
     "text": [
      "Loading through DICOM files: 100%|████████████████| 4/4 [00:01<00:00,  2.46it/s]\n"
     ]
    },
    {
     "name": "stdout",
     "output_type": "stream",
     "text": [
      "Compiling dictionaries together...\n",
      "Index 0, description O-MAR  at ../data/DICOMs/R01/3346286228/CT\n",
      "1 unique series IDs were found. Default is index 0, to change use set_index(index)\n",
      "Loading images for O-MAR  at \n",
      " ../data/DICOMs/R01/3346286228/CT\n",
      "\n",
      "3346286228 done 0 of 1\n",
      "3346286228 done 0 of 1\n",
      "3346286228 done 0 of 1\n",
      "finshed ids [1173728658, 1178044145, 1194116893, 1235569621, 1265845118, 1269213210, 1276736352, 2774318802, 2776638846, 2803120404, 2804890849, 2815583275, 2817169157, 2843895295, 2865890865, 2867468906, 2875588687, 2883823678, 2889102751, 2894996073, 2908060983, 2929571068, 2932807221, 2939740989, 2983776095, 2989874876, 3028333367, 3035721150, 3045110595, 3045556976, 3045918834, 3049758970, 3071491330, 3077525807, 3081060090, 3099145083, 3100266114, 3108161676, 3125978990, 3151449158, 3192749693, 3192926363, 3194171650, 3196236080, 3205005928, 3225956079, 3235750820, 3239454379, 3256350141, 3283538700, 3316448321, 3321571409, 3327830751, 3346286228]\n"
     ]
    },
    {
     "name": "stderr",
     "output_type": "stream",
     "text": [
      "Loading through DICOM files:  25%|████            | 1/4 [00:00<00:00,  6.29it/s]"
     ]
    },
    {
     "name": "stdout",
     "output_type": "stream",
     "text": [
      "Loading from ../data/DICOMs/R01/3355839884/RTSTRUCTLoading from ../data/DICOMs/R01/3355839884/CT\n",
      "\n",
      "Loading from ../data/DICOMs/R01/3355839884/RTPLAN\n",
      "Loading from ../data/DICOMs/R01/3355839884/RTDOSE\n"
     ]
    },
    {
     "name": "stderr",
     "output_type": "stream",
     "text": [
      "Loading through DICOM files: 100%|████████████████| 4/4 [00:02<00:00,  1.96it/s]\n"
     ]
    },
    {
     "name": "stdout",
     "output_type": "stream",
     "text": [
      "Compiling dictionaries together...\n",
      "Index 0, description  at ../data/DICOMs/R01/3355839884/CT\n",
      "1 unique series IDs were found. Default is index 0, to change use set_index(index)\n",
      "Loading images for  at \n",
      " ../data/DICOMs/R01/3355839884/CT\n",
      "\n",
      "3355839884 done 0 of 1\n",
      "3355839884 done 0 of 1\n",
      "3355839884 done 0 of 1\n",
      "finshed ids [1173728658, 1178044145, 1194116893, 1235569621, 1265845118, 1269213210, 1276736352, 2774318802, 2776638846, 2803120404, 2804890849, 2815583275, 2817169157, 2843895295, 2865890865, 2867468906, 2875588687, 2883823678, 2889102751, 2894996073, 2908060983, 2929571068, 2932807221, 2939740989, 2983776095, 2989874876, 3028333367, 3035721150, 3045110595, 3045556976, 3045918834, 3049758970, 3071491330, 3077525807, 3081060090, 3099145083, 3100266114, 3108161676, 3125978990, 3151449158, 3192749693, 3192926363, 3194171650, 3196236080, 3205005928, 3225956079, 3235750820, 3239454379, 3256350141, 3283538700, 3316448321, 3321571409, 3327830751, 3346286228, 3355839884]\n"
     ]
    },
    {
     "name": "stderr",
     "output_type": "stream",
     "text": [
      "Loading through DICOM files:  25%|████            | 1/4 [00:00<00:00,  8.14it/s]"
     ]
    },
    {
     "name": "stdout",
     "output_type": "stream",
     "text": [
      "Loading from ../data/DICOMs/R01/3366888610/RTPLAN\n",
      "Loading from ../data/DICOMs/R01/3366888610/RTSTRUCT\n",
      "Loading from ../data/DICOMs/R01/3366888610/CT\n",
      "Loading from ../data/DICOMs/R01/3366888610/RTDOSE\n"
     ]
    },
    {
     "name": "stderr",
     "output_type": "stream",
     "text": [
      "Loading through DICOM files: 100%|████████████████| 4/4 [00:02<00:00,  1.90it/s]\n"
     ]
    },
    {
     "name": "stdout",
     "output_type": "stream",
     "text": [
      "Compiling dictionaries together...\n",
      "Index 0, description  at ../data/DICOMs/R01/3366888610/CT\n",
      "1 unique series IDs were found. Default is index 0, to change use set_index(index)\n",
      "Loading images for  at \n",
      " ../data/DICOMs/R01/3366888610/CT\n",
      "\n",
      "3366888610 done 0 of 1\n",
      "3366888610 done 0 of 1\n",
      "3366888610 done 0 of 1\n",
      "finshed ids [1173728658, 1178044145, 1194116893, 1235569621, 1265845118, 1269213210, 1276736352, 2774318802, 2776638846, 2803120404, 2804890849, 2815583275, 2817169157, 2843895295, 2865890865, 2867468906, 2875588687, 2883823678, 2889102751, 2894996073, 2908060983, 2929571068, 2932807221, 2939740989, 2983776095, 2989874876, 3028333367, 3035721150, 3045110595, 3045556976, 3045918834, 3049758970, 3071491330, 3077525807, 3081060090, 3099145083, 3100266114, 3108161676, 3125978990, 3151449158, 3192749693, 3192926363, 3194171650, 3196236080, 3205005928, 3225956079, 3235750820, 3239454379, 3256350141, 3283538700, 3316448321, 3321571409, 3327830751, 3346286228, 3355839884, 3366888610]\n"
     ]
    },
    {
     "name": "stderr",
     "output_type": "stream",
     "text": [
      "\r",
      "Loading through DICOM files:   0%|                        | 0/4 [00:00<?, ?it/s]"
     ]
    },
    {
     "name": "stdout",
     "output_type": "stream",
     "text": [
      "Loading from ../data/DICOMs/R01/3370207907/RTDOSE\n",
      "Loading from ../data/DICOMs/R01/3370207907/RTSTRUCT\n",
      "Loading from ../data/DICOMs/R01/3370207907/CT\n",
      "Loading from ../data/DICOMs/R01/3370207907/RTPLAN\n"
     ]
    },
    {
     "name": "stderr",
     "output_type": "stream",
     "text": [
      "Loading through DICOM files: 100%|████████████████| 4/4 [00:02<00:00,  1.67it/s]\n"
     ]
    },
    {
     "name": "stdout",
     "output_type": "stream",
     "text": [
      "Compiling dictionaries together...\n",
      "Index 0, description O-MAR  at ../data/DICOMs/R01/3370207907/CT\n",
      "1 unique series IDs were found. Default is index 0, to change use set_index(index)\n",
      "Loading images for O-MAR  at \n",
      " ../data/DICOMs/R01/3370207907/CT\n",
      "\n",
      "3370207907 done 0 of 1\n",
      "3370207907 done 0 of 1\n",
      "3370207907 done 0 of 1\n",
      "finshed ids [1173728658, 1178044145, 1194116893, 1235569621, 1265845118, 1269213210, 1276736352, 2774318802, 2776638846, 2803120404, 2804890849, 2815583275, 2817169157, 2843895295, 2865890865, 2867468906, 2875588687, 2883823678, 2889102751, 2894996073, 2908060983, 2929571068, 2932807221, 2939740989, 2983776095, 2989874876, 3028333367, 3035721150, 3045110595, 3045556976, 3045918834, 3049758970, 3071491330, 3077525807, 3081060090, 3099145083, 3100266114, 3108161676, 3125978990, 3151449158, 3192749693, 3192926363, 3194171650, 3196236080, 3205005928, 3225956079, 3235750820, 3239454379, 3256350141, 3283538700, 3316448321, 3321571409, 3327830751, 3346286228, 3355839884, 3366888610, 3370207907]\n"
     ]
    },
    {
     "name": "stderr",
     "output_type": "stream",
     "text": [
      "Loading through DICOM files:  25%|████            | 1/4 [00:00<00:00,  6.02it/s]"
     ]
    },
    {
     "name": "stdout",
     "output_type": "stream",
     "text": [
      "Loading from ../data/DICOMs/R01/3383739521/RTPLAN\n",
      "Loading from ../data/DICOMs/R01/3383739521/RTDOSE\n",
      "Loading from ../data/DICOMs/R01/3383739521/RTSTRUCT\n",
      "Loading from ../data/DICOMs/R01/3383739521/CT\n"
     ]
    },
    {
     "name": "stderr",
     "output_type": "stream",
     "text": [
      "Loading through DICOM files: 100%|████████████████| 4/4 [00:01<00:00,  2.01it/s]\n"
     ]
    },
    {
     "name": "stdout",
     "output_type": "stream",
     "text": [
      "Compiling dictionaries together...\n",
      "Index 0, description O-MAR  at ../data/DICOMs/R01/3383739521/CT\n",
      "1 unique series IDs were found. Default is index 0, to change use set_index(index)\n",
      "Loading images for O-MAR  at \n",
      " ../data/DICOMs/R01/3383739521/CT\n",
      "\n",
      "3383739521 done 0 of 1\n",
      "3383739521 done 0 of 1\n",
      "3383739521 done 0 of 1\n",
      "finshed ids [1173728658, 1178044145, 1194116893, 1235569621, 1265845118, 1269213210, 1276736352, 2774318802, 2776638846, 2803120404, 2804890849, 2815583275, 2817169157, 2843895295, 2865890865, 2867468906, 2875588687, 2883823678, 2889102751, 2894996073, 2908060983, 2929571068, 2932807221, 2939740989, 2983776095, 2989874876, 3028333367, 3035721150, 3045110595, 3045556976, 3045918834, 3049758970, 3071491330, 3077525807, 3081060090, 3099145083, 3100266114, 3108161676, 3125978990, 3151449158, 3192749693, 3192926363, 3194171650, 3196236080, 3205005928, 3225956079, 3235750820, 3239454379, 3256350141, 3283538700, 3316448321, 3321571409, 3327830751, 3346286228, 3355839884, 3366888610, 3370207907, 3383739521]\n"
     ]
    },
    {
     "name": "stderr",
     "output_type": "stream",
     "text": [
      "\r",
      "Loading through DICOM files:   0%|                        | 0/3 [00:00<?, ?it/s]"
     ]
    },
    {
     "name": "stdout",
     "output_type": "stream",
     "text": [
      "Loading from ../data/DICOMs/R01/3442548822/CT\n",
      "Loading from ../data/DICOMs/R01/3442548822/RTSTRUCT\n",
      "Loading from ../data/DICOMs/R01/3442548822/RTDOSE\n"
     ]
    },
    {
     "name": "stderr",
     "output_type": "stream",
     "text": [
      "Loading through DICOM files: 100%|████████████████| 3/3 [00:01<00:00,  1.62it/s]\n"
     ]
    },
    {
     "name": "stdout",
     "output_type": "stream",
     "text": [
      "Compiling dictionaries together...\n",
      "Index 0, description  at ../data/DICOMs/R01/3442548822/CT\n",
      "1 unique series IDs were found. Default is index 0, to change use set_index(index)\n",
      "Loading images for  at \n",
      " ../data/DICOMs/R01/3442548822/CT\n",
      "\n",
      "3442548822 done 0 of 1\n",
      "3442548822 done 0 of 1\n",
      "3442548822 done 0 of 1\n",
      "finshed ids [1173728658, 1178044145, 1194116893, 1235569621, 1265845118, 1269213210, 1276736352, 2774318802, 2776638846, 2803120404, 2804890849, 2815583275, 2817169157, 2843895295, 2865890865, 2867468906, 2875588687, 2883823678, 2889102751, 2894996073, 2908060983, 2929571068, 2932807221, 2939740989, 2983776095, 2989874876, 3028333367, 3035721150, 3045110595, 3045556976, 3045918834, 3049758970, 3071491330, 3077525807, 3081060090, 3099145083, 3100266114, 3108161676, 3125978990, 3151449158, 3192749693, 3192926363, 3194171650, 3196236080, 3205005928, 3225956079, 3235750820, 3239454379, 3256350141, 3283538700, 3316448321, 3321571409, 3327830751, 3346286228, 3355839884, 3366888610, 3370207907, 3383739521, 3442548822]\n"
     ]
    },
    {
     "name": "stderr",
     "output_type": "stream",
     "text": [
      "Loading through DICOM files:  25%|████            | 1/4 [00:00<00:00,  6.31it/s]"
     ]
    },
    {
     "name": "stdout",
     "output_type": "stream",
     "text": [
      "Loading from ../data/DICOMs/R01/3514335131/RTPLAN\n",
      "Loading from ../data/DICOMs/R01/3514335131/RTDOSE\n",
      "Loading from ../data/DICOMs/R01/3514335131/RTSTRUCT\n",
      "Loading from ../data/DICOMs/R01/3514335131/CT\n"
     ]
    },
    {
     "name": "stderr",
     "output_type": "stream",
     "text": [
      "Loading through DICOM files: 100%|████████████████| 4/4 [00:03<00:00,  1.04it/s]\n"
     ]
    },
    {
     "name": "stdout",
     "output_type": "stream",
     "text": [
      "Compiling dictionaries together...\n",
      "Index 0, description  at ../data/DICOMs/R01/3514335131/CT\n",
      "1 unique series IDs were found. Default is index 0, to change use set_index(index)\n",
      "Loading images for  at \n",
      " ../data/DICOMs/R01/3514335131/CT\n",
      "\n",
      "3514335131 done 0 of 1\n",
      "3514335131 done 0 of 1\n",
      "3514335131 done 0 of 1\n",
      "finshed ids [1173728658, 1178044145, 1194116893, 1235569621, 1265845118, 1269213210, 1276736352, 2774318802, 2776638846, 2803120404, 2804890849, 2815583275, 2817169157, 2843895295, 2865890865, 2867468906, 2875588687, 2883823678, 2889102751, 2894996073, 2908060983, 2929571068, 2932807221, 2939740989, 2983776095, 2989874876, 3028333367, 3035721150, 3045110595, 3045556976, 3045918834, 3049758970, 3071491330, 3077525807, 3081060090, 3099145083, 3100266114, 3108161676, 3125978990, 3151449158, 3192749693, 3192926363, 3194171650, 3196236080, 3205005928, 3225956079, 3235750820, 3239454379, 3256350141, 3283538700, 3316448321, 3321571409, 3327830751, 3346286228, 3355839884, 3366888610, 3370207907, 3383739521, 3442548822, 3514335131]\n"
     ]
    },
    {
     "name": "stderr",
     "output_type": "stream",
     "text": [
      "Loading through DICOM files:  25%|████            | 1/4 [00:00<00:00,  8.46it/s]"
     ]
    },
    {
     "name": "stdout",
     "output_type": "stream",
     "text": [
      "Loading from ../data/DICOMs/R01/3563849182/RTPLAN\n",
      "Loading from ../data/DICOMs/R01/3563849182/RTDOSE\n",
      "Loading from ../data/DICOMs/R01/3563849182/CT\n",
      "Loading from ../data/DICOMs/R01/3563849182/RTSTRUCT\n"
     ]
    },
    {
     "name": "stderr",
     "output_type": "stream",
     "text": [
      "Loading through DICOM files: 100%|████████████████| 4/4 [00:02<00:00,  1.99it/s]\n"
     ]
    },
    {
     "name": "stdout",
     "output_type": "stream",
     "text": [
      "Compiling dictionaries together...\n",
      "Index 0, description  at ../data/DICOMs/R01/3563849182/CT\n",
      "1 unique series IDs were found. Default is index 0, to change use set_index(index)\n",
      "Loading images for  at \n",
      " ../data/DICOMs/R01/3563849182/CT\n",
      "\n",
      "3563849182 done 0 of 1\n",
      "3563849182 done 0 of 1\n",
      "3563849182 done 0 of 1\n",
      "finshed ids [1173728658, 1178044145, 1194116893, 1235569621, 1265845118, 1269213210, 1276736352, 2774318802, 2776638846, 2803120404, 2804890849, 2815583275, 2817169157, 2843895295, 2865890865, 2867468906, 2875588687, 2883823678, 2889102751, 2894996073, 2908060983, 2929571068, 2932807221, 2939740989, 2983776095, 2989874876, 3028333367, 3035721150, 3045110595, 3045556976, 3045918834, 3049758970, 3071491330, 3077525807, 3081060090, 3099145083, 3100266114, 3108161676, 3125978990, 3151449158, 3192749693, 3192926363, 3194171650, 3196236080, 3205005928, 3225956079, 3235750820, 3239454379, 3256350141, 3283538700, 3316448321, 3321571409, 3327830751, 3346286228, 3355839884, 3366888610, 3370207907, 3383739521, 3442548822, 3514335131, 3563849182]\n"
     ]
    },
    {
     "name": "stderr",
     "output_type": "stream",
     "text": [
      "Loading through DICOM files:  33%|█████▎          | 1/3 [00:00<00:00,  5.77it/s]"
     ]
    },
    {
     "name": "stdout",
     "output_type": "stream",
     "text": [
      "Loading from ../data/DICOMs/R01/3694073920/RTSTRUCT\n",
      "Loading from ../data/DICOMs/R01/3694073920/RTDOSE\n",
      "Loading from ../data/DICOMs/R01/3694073920/CT\n"
     ]
    },
    {
     "name": "stderr",
     "output_type": "stream",
     "text": [
      "Loading through DICOM files: 100%|████████████████| 3/3 [00:01<00:00,  1.76it/s]\n"
     ]
    },
    {
     "name": "stdout",
     "output_type": "stream",
     "text": [
      "Compiling dictionaries together...\n",
      "Index 0, description  at ../data/DICOMs/R01/3694073920/CT\n",
      "1 unique series IDs were found. Default is index 0, to change use set_index(index)\n",
      "Loading images for  at \n",
      " ../data/DICOMs/R01/3694073920/CT\n",
      "\n",
      "3694073920 done 0 of 1\n",
      "3694073920 done 0 of 1\n",
      "3694073920 done 0 of 1\n",
      "finshed ids [1173728658, 1178044145, 1194116893, 1235569621, 1265845118, 1269213210, 1276736352, 2774318802, 2776638846, 2803120404, 2804890849, 2815583275, 2817169157, 2843895295, 2865890865, 2867468906, 2875588687, 2883823678, 2889102751, 2894996073, 2908060983, 2929571068, 2932807221, 2939740989, 2983776095, 2989874876, 3028333367, 3035721150, 3045110595, 3045556976, 3045918834, 3049758970, 3071491330, 3077525807, 3081060090, 3099145083, 3100266114, 3108161676, 3125978990, 3151449158, 3192749693, 3192926363, 3194171650, 3196236080, 3205005928, 3225956079, 3235750820, 3239454379, 3256350141, 3283538700, 3316448321, 3321571409, 3327830751, 3346286228, 3355839884, 3366888610, 3370207907, 3383739521, 3442548822, 3514335131, 3563849182, 3694073920]\n"
     ]
    },
    {
     "name": "stderr",
     "output_type": "stream",
     "text": [
      "Loading through DICOM files:  33%|█████▎          | 1/3 [00:00<00:00,  6.94it/s]"
     ]
    },
    {
     "name": "stdout",
     "output_type": "stream",
     "text": [
      "Loading from ../data/DICOMs/R01/3816960111/CTLoading from ../data/DICOMs/R01/3816960111/RTSTRUCT\n",
      "\n",
      "Loading from ../data/DICOMs/R01/3816960111/RTDOSE\n"
     ]
    },
    {
     "name": "stderr",
     "output_type": "stream",
     "text": [
      "Loading through DICOM files: 100%|████████████████| 3/3 [00:02<00:00,  1.48it/s]\n"
     ]
    },
    {
     "name": "stdout",
     "output_type": "stream",
     "text": [
      "Compiling dictionaries together...\n",
      "Index 0, description  at ../data/DICOMs/R01/3816960111/CT\n",
      "1 unique series IDs were found. Default is index 0, to change use set_index(index)\n",
      "Loading images for  at \n",
      " ../data/DICOMs/R01/3816960111/CT\n",
      "\n",
      "3816960111 done 0 of 1\n",
      "3816960111 done 0 of 1\n",
      "3816960111 done 0 of 1\n",
      "finshed ids [1173728658, 1178044145, 1194116893, 1235569621, 1265845118, 1269213210, 1276736352, 2774318802, 2776638846, 2803120404, 2804890849, 2815583275, 2817169157, 2843895295, 2865890865, 2867468906, 2875588687, 2883823678, 2889102751, 2894996073, 2908060983, 2929571068, 2932807221, 2939740989, 2983776095, 2989874876, 3028333367, 3035721150, 3045110595, 3045556976, 3045918834, 3049758970, 3071491330, 3077525807, 3081060090, 3099145083, 3100266114, 3108161676, 3125978990, 3151449158, 3192749693, 3192926363, 3194171650, 3196236080, 3205005928, 3225956079, 3235750820, 3239454379, 3256350141, 3283538700, 3316448321, 3321571409, 3327830751, 3346286228, 3355839884, 3366888610, 3370207907, 3383739521, 3442548822, 3514335131, 3563849182, 3694073920, 3816960111]\n"
     ]
    },
    {
     "name": "stderr",
     "output_type": "stream",
     "text": [
      "Loading through DICOM files:  25%|████            | 1/4 [00:00<00:00,  9.42it/s]"
     ]
    },
    {
     "name": "stdout",
     "output_type": "stream",
     "text": [
      "Loading from ../data/DICOMs/R01/3832820671/CT\n",
      "Loading from ../data/DICOMs/R01/3832820671/RTSTRUCT\n",
      "Loading from ../data/DICOMs/R01/3832820671/RTPLAN\n",
      "Loading from ../data/DICOMs/R01/3832820671/RTDOSE\n"
     ]
    },
    {
     "name": "stderr",
     "output_type": "stream",
     "text": [
      "Loading through DICOM files: 100%|████████████████| 4/4 [00:02<00:00,  1.49it/s]\n"
     ]
    },
    {
     "name": "stdout",
     "output_type": "stream",
     "text": [
      "Compiling dictionaries together...\n",
      "Index 0, description  at ../data/DICOMs/R01/3832820671/CT\n",
      "1 unique series IDs were found. Default is index 0, to change use set_index(index)\n",
      "Loading images for  at \n",
      " ../data/DICOMs/R01/3832820671/CT\n",
      "\n",
      "3832820671 done 0 of 1\n",
      "3832820671 done 0 of 1\n",
      "3832820671 done 0 of 1\n",
      "finshed ids [1173728658, 1178044145, 1194116893, 1235569621, 1265845118, 1269213210, 1276736352, 2774318802, 2776638846, 2803120404, 2804890849, 2815583275, 2817169157, 2843895295, 2865890865, 2867468906, 2875588687, 2883823678, 2889102751, 2894996073, 2908060983, 2929571068, 2932807221, 2939740989, 2983776095, 2989874876, 3028333367, 3035721150, 3045110595, 3045556976, 3045918834, 3049758970, 3071491330, 3077525807, 3081060090, 3099145083, 3100266114, 3108161676, 3125978990, 3151449158, 3192749693, 3192926363, 3194171650, 3196236080, 3205005928, 3225956079, 3235750820, 3239454379, 3256350141, 3283538700, 3316448321, 3321571409, 3327830751, 3346286228, 3355839884, 3366888610, 3370207907, 3383739521, 3442548822, 3514335131, 3563849182, 3694073920, 3816960111, 3832820671]\n"
     ]
    },
    {
     "name": "stderr",
     "output_type": "stream",
     "text": [
      "Loading through DICOM files:  25%|████            | 1/4 [00:00<00:00,  6.09it/s]"
     ]
    },
    {
     "name": "stdout",
     "output_type": "stream",
     "text": [
      "Loading from ../data/DICOMs/R01/4017119917/RTDOSELoading from ../data/DICOMs/R01/4017119917/CT\n",
      "Loading from ../data/DICOMs/R01/4017119917/RTPLAN\n",
      "\n",
      "Loading from ../data/DICOMs/R01/4017119917/RTSTRUCT\n"
     ]
    },
    {
     "name": "stderr",
     "output_type": "stream",
     "text": [
      "Loading through DICOM files: 100%|████████████████| 4/4 [00:03<00:00,  1.14it/s]\n"
     ]
    },
    {
     "name": "stdout",
     "output_type": "stream",
     "text": [
      "Compiling dictionaries together...\n",
      "Index 0, description Head and Neck  at ../data/DICOMs/R01/4017119917/CT\n",
      "1 unique series IDs were found. Default is index 0, to change use set_index(index)\n",
      "Loading images for Head and Neck  at \n",
      " ../data/DICOMs/R01/4017119917/CT\n",
      "\n",
      "4017119917 done 0 of 1\n",
      "4017119917 done 0 of 1\n",
      "4017119917 done 0 of 1\n",
      "finshed ids [1173728658, 1178044145, 1194116893, 1235569621, 1265845118, 1269213210, 1276736352, 2774318802, 2776638846, 2803120404, 2804890849, 2815583275, 2817169157, 2843895295, 2865890865, 2867468906, 2875588687, 2883823678, 2889102751, 2894996073, 2908060983, 2929571068, 2932807221, 2939740989, 2983776095, 2989874876, 3028333367, 3035721150, 3045110595, 3045556976, 3045918834, 3049758970, 3071491330, 3077525807, 3081060090, 3099145083, 3100266114, 3108161676, 3125978990, 3151449158, 3192749693, 3192926363, 3194171650, 3196236080, 3205005928, 3225956079, 3235750820, 3239454379, 3256350141, 3283538700, 3316448321, 3321571409, 3327830751, 3346286228, 3355839884, 3366888610, 3370207907, 3383739521, 3442548822, 3514335131, 3563849182, 3694073920, 3816960111, 3832820671, 4017119917]\n"
     ]
    },
    {
     "name": "stderr",
     "output_type": "stream",
     "text": [
      "Loading through DICOM files:  25%|████            | 1/4 [00:00<00:00,  9.82it/s]"
     ]
    },
    {
     "name": "stdout",
     "output_type": "stream",
     "text": [
      "Loading from ../data/DICOMs/R01/4074385931/RTPLAN\n",
      "Loading from ../data/DICOMs/R01/4074385931/RTDOSE\n",
      "Loading from ../data/DICOMs/R01/4074385931/CT\n",
      "Loading from ../data/DICOMs/R01/4074385931/RTSTRUCT\n"
     ]
    },
    {
     "name": "stderr",
     "output_type": "stream",
     "text": [
      "Loading through DICOM files: 100%|████████████████| 4/4 [00:01<00:00,  2.12it/s]\n"
     ]
    },
    {
     "name": "stdout",
     "output_type": "stream",
     "text": [
      "Compiling dictionaries together...\n",
      "Index 0, description O-MAR  at ../data/DICOMs/R01/4074385931/CT\n",
      "1 unique series IDs were found. Default is index 0, to change use set_index(index)\n",
      "Loading images for O-MAR  at \n",
      " ../data/DICOMs/R01/4074385931/CT\n",
      "\n",
      "4074385931 done 0 of 1\n",
      "4074385931 done 0 of 1\n",
      "4074385931 done 0 of 1\n",
      "finshed ids [1173728658, 1178044145, 1194116893, 1235569621, 1265845118, 1269213210, 1276736352, 2774318802, 2776638846, 2803120404, 2804890849, 2815583275, 2817169157, 2843895295, 2865890865, 2867468906, 2875588687, 2883823678, 2889102751, 2894996073, 2908060983, 2929571068, 2932807221, 2939740989, 2983776095, 2989874876, 3028333367, 3035721150, 3045110595, 3045556976, 3045918834, 3049758970, 3071491330, 3077525807, 3081060090, 3099145083, 3100266114, 3108161676, 3125978990, 3151449158, 3192749693, 3192926363, 3194171650, 3196236080, 3205005928, 3225956079, 3235750820, 3239454379, 3256350141, 3283538700, 3316448321, 3321571409, 3327830751, 3346286228, 3355839884, 3366888610, 3370207907, 3383739521, 3442548822, 3514335131, 3563849182, 3694073920, 3816960111, 3832820671, 4017119917, 4074385931]\n"
     ]
    },
    {
     "name": "stderr",
     "output_type": "stream",
     "text": [
      "\r",
      "Loading through DICOM files:   0%|                        | 0/4 [00:00<?, ?it/s]"
     ]
    },
    {
     "name": "stdout",
     "output_type": "stream",
     "text": [
      "Loading from ../data/DICOMs/R01/4100593439/RTPLAN\n",
      "Loading from ../data/DICOMs/R01/4100593439/CT\n",
      "Loading from ../data/DICOMs/R01/4100593439/RTSTRUCT\n",
      "Loading from ../data/DICOMs/R01/4100593439/RTDOSE\n"
     ]
    },
    {
     "name": "stderr",
     "output_type": "stream",
     "text": [
      "Loading through DICOM files: 100%|████████████████| 4/4 [00:01<00:00,  2.42it/s]\n"
     ]
    },
    {
     "name": "stdout",
     "output_type": "stream",
     "text": [
      "Compiling dictionaries together...\n",
      "Index 0, description O-MAR  at ../data/DICOMs/R01/4100593439/CT\n",
      "1 unique series IDs were found. Default is index 0, to change use set_index(index)\n",
      "Loading images for O-MAR  at \n",
      " ../data/DICOMs/R01/4100593439/CT\n",
      "\n",
      "4100593439 done 0 of 1\n",
      "4100593439 done 0 of 1\n",
      "4100593439 done 0 of 1\n",
      "finshed ids [1173728658, 1178044145, 1194116893, 1235569621, 1265845118, 1269213210, 1276736352, 2774318802, 2776638846, 2803120404, 2804890849, 2815583275, 2817169157, 2843895295, 2865890865, 2867468906, 2875588687, 2883823678, 2889102751, 2894996073, 2908060983, 2929571068, 2932807221, 2939740989, 2983776095, 2989874876, 3028333367, 3035721150, 3045110595, 3045556976, 3045918834, 3049758970, 3071491330, 3077525807, 3081060090, 3099145083, 3100266114, 3108161676, 3125978990, 3151449158, 3192749693, 3192926363, 3194171650, 3196236080, 3205005928, 3225956079, 3235750820, 3239454379, 3256350141, 3283538700, 3316448321, 3321571409, 3327830751, 3346286228, 3355839884, 3366888610, 3370207907, 3383739521, 3442548822, 3514335131, 3563849182, 3694073920, 3816960111, 3832820671, 4017119917, 4074385931, 4100593439]\n"
     ]
    },
    {
     "name": "stderr",
     "output_type": "stream",
     "text": [
      "\r",
      "Loading through DICOM files:   0%|                        | 0/4 [00:00<?, ?it/s]"
     ]
    },
    {
     "name": "stdout",
     "output_type": "stream",
     "text": [
      "Loading from ../data/DICOMs/R01/4151569401/RTPLANLoading from ../data/DICOMs/R01/4151569401/CT\n",
      "\n",
      "Loading from ../data/DICOMs/R01/4151569401/RTSTRUCTLoading from ../data/DICOMs/R01/4151569401/RTDOSE\n",
      "\n"
     ]
    },
    {
     "name": "stderr",
     "output_type": "stream",
     "text": [
      "Loading through DICOM files: 100%|████████████████| 4/4 [00:02<00:00,  1.68it/s]\n"
     ]
    },
    {
     "name": "stdout",
     "output_type": "stream",
     "text": [
      "Compiling dictionaries together...\n",
      "Index 0, description  at ../data/DICOMs/R01/4151569401/CT\n",
      "1 unique series IDs were found. Default is index 0, to change use set_index(index)\n",
      "Loading images for  at \n",
      " ../data/DICOMs/R01/4151569401/CT\n",
      "\n",
      "4151569401 done 0 of 1\n",
      "4151569401 done 0 of 1\n",
      "4151569401 done 0 of 1\n",
      "finshed ids [1173728658, 1178044145, 1194116893, 1235569621, 1265845118, 1269213210, 1276736352, 2774318802, 2776638846, 2803120404, 2804890849, 2815583275, 2817169157, 2843895295, 2865890865, 2867468906, 2875588687, 2883823678, 2889102751, 2894996073, 2908060983, 2929571068, 2932807221, 2939740989, 2983776095, 2989874876, 3028333367, 3035721150, 3045110595, 3045556976, 3045918834, 3049758970, 3071491330, 3077525807, 3081060090, 3099145083, 3100266114, 3108161676, 3125978990, 3151449158, 3192749693, 3192926363, 3194171650, 3196236080, 3205005928, 3225956079, 3235750820, 3239454379, 3256350141, 3283538700, 3316448321, 3321571409, 3327830751, 3346286228, 3355839884, 3366888610, 3370207907, 3383739521, 3442548822, 3514335131, 3563849182, 3694073920, 3816960111, 3832820671, 4017119917, 4074385931, 4100593439, 4151569401]\n"
     ]
    },
    {
     "name": "stderr",
     "output_type": "stream",
     "text": [
      "Loading through DICOM files:  25%|████            | 1/4 [00:00<00:00,  8.46it/s]"
     ]
    },
    {
     "name": "stdout",
     "output_type": "stream",
     "text": [
      "Loading from ../data/DICOMs/R01/4443664553/CTLoading from ../data/DICOMs/R01/4443664553/RTSTRUCT\n",
      "Loading from ../data/DICOMs/R01/4443664553/RTPLAN\n",
      "Loading from ../data/DICOMs/R01/4443664553/RTDOSE\n",
      "\n"
     ]
    },
    {
     "name": "stderr",
     "output_type": "stream",
     "text": [
      "Loading through DICOM files: 100%|████████████████| 4/4 [00:01<00:00,  2.30it/s]\n"
     ]
    },
    {
     "name": "stdout",
     "output_type": "stream",
     "text": [
      "Compiling dictionaries together...\n",
      "Index 0, description  at ../data/DICOMs/R01/4443664553/CT\n",
      "1 unique series IDs were found. Default is index 0, to change use set_index(index)\n",
      "Loading images for  at \n",
      " ../data/DICOMs/R01/4443664553/CT\n",
      "\n",
      "4443664553 done 0 of 1\n",
      "4443664553 done 0 of 1\n",
      "4443664553 done 0 of 1\n",
      "finshed ids [1173728658, 1178044145, 1194116893, 1235569621, 1265845118, 1269213210, 1276736352, 2774318802, 2776638846, 2803120404, 2804890849, 2815583275, 2817169157, 2843895295, 2865890865, 2867468906, 2875588687, 2883823678, 2889102751, 2894996073, 2908060983, 2929571068, 2932807221, 2939740989, 2983776095, 2989874876, 3028333367, 3035721150, 3045110595, 3045556976, 3045918834, 3049758970, 3071491330, 3077525807, 3081060090, 3099145083, 3100266114, 3108161676, 3125978990, 3151449158, 3192749693, 3192926363, 3194171650, 3196236080, 3205005928, 3225956079, 3235750820, 3239454379, 3256350141, 3283538700, 3316448321, 3321571409, 3327830751, 3346286228, 3355839884, 3366888610, 3370207907, 3383739521, 3442548822, 3514335131, 3563849182, 3694073920, 3816960111, 3832820671, 4017119917, 4074385931, 4100593439, 4151569401, 4443664553]\n"
     ]
    },
    {
     "name": "stderr",
     "output_type": "stream",
     "text": [
      "Loading through DICOM files:  25%|████            | 1/4 [00:00<00:00,  7.66it/s]"
     ]
    },
    {
     "name": "stdout",
     "output_type": "stream",
     "text": [
      "Loading from ../data/DICOMs/R01/4481544782/RTDOSE\n",
      "Loading from ../data/DICOMs/R01/4481544782/CT\n",
      "Loading from ../data/DICOMs/R01/4481544782/RTSTRUCT\n",
      "Loading from ../data/DICOMs/R01/4481544782/RTPLAN\n"
     ]
    },
    {
     "name": "stderr",
     "output_type": "stream",
     "text": [
      "Loading through DICOM files: 100%|████████████████| 4/4 [00:01<00:00,  2.24it/s]\n"
     ]
    },
    {
     "name": "stdout",
     "output_type": "stream",
     "text": [
      "Compiling dictionaries together...\n",
      "Index 0, description O-MAR  at ../data/DICOMs/R01/4481544782/CT\n",
      "1 unique series IDs were found. Default is index 0, to change use set_index(index)\n",
      "Loading images for O-MAR  at \n",
      " ../data/DICOMs/R01/4481544782/CT\n",
      "\n",
      "4481544782 done 0 of 1\n",
      "4481544782 done 0 of 1\n",
      "4481544782 done 0 of 1\n",
      "finshed ids [1173728658, 1178044145, 1194116893, 1235569621, 1265845118, 1269213210, 1276736352, 2774318802, 2776638846, 2803120404, 2804890849, 2815583275, 2817169157, 2843895295, 2865890865, 2867468906, 2875588687, 2883823678, 2889102751, 2894996073, 2908060983, 2929571068, 2932807221, 2939740989, 2983776095, 2989874876, 3028333367, 3035721150, 3045110595, 3045556976, 3045918834, 3049758970, 3071491330, 3077525807, 3081060090, 3099145083, 3100266114, 3108161676, 3125978990, 3151449158, 3192749693, 3192926363, 3194171650, 3196236080, 3205005928, 3225956079, 3235750820, 3239454379, 3256350141, 3283538700, 3316448321, 3321571409, 3327830751, 3346286228, 3355839884, 3366888610, 3370207907, 3383739521, 3442548822, 3514335131, 3563849182, 3694073920, 3816960111, 3832820671, 4017119917, 4074385931, 4100593439, 4151569401, 4443664553, 4481544782]\n"
     ]
    },
    {
     "name": "stderr",
     "output_type": "stream",
     "text": [
      "\r",
      "Loading through DICOM files:   0%|                        | 0/4 [00:00<?, ?it/s]"
     ]
    },
    {
     "name": "stdout",
     "output_type": "stream",
     "text": [
      "Loading from ../data/DICOMs/R01/4488837609/RTPLAN\n",
      "Loading from ../data/DICOMs/R01/4488837609/RTSTRUCT\n",
      "Loading from ../data/DICOMs/R01/4488837609/CT\n",
      "Loading from ../data/DICOMs/R01/4488837609/RTDOSE\n"
     ]
    },
    {
     "name": "stderr",
     "output_type": "stream",
     "text": [
      "Loading through DICOM files: 100%|████████████████| 4/4 [00:02<00:00,  1.80it/s]\n"
     ]
    },
    {
     "name": "stdout",
     "output_type": "stream",
     "text": [
      "Compiling dictionaries together...\n",
      "Index 0, description  at ../data/DICOMs/R01/4488837609/CT\n",
      "1 unique series IDs were found. Default is index 0, to change use set_index(index)\n",
      "Loading images for  at \n",
      " ../data/DICOMs/R01/4488837609/CT\n",
      "\n",
      "4488837609 done 0 of 1\n",
      "4488837609 done 0 of 1\n",
      "4488837609 done 0 of 1\n",
      "finshed ids [1173728658, 1178044145, 1194116893, 1235569621, 1265845118, 1269213210, 1276736352, 2774318802, 2776638846, 2803120404, 2804890849, 2815583275, 2817169157, 2843895295, 2865890865, 2867468906, 2875588687, 2883823678, 2889102751, 2894996073, 2908060983, 2929571068, 2932807221, 2939740989, 2983776095, 2989874876, 3028333367, 3035721150, 3045110595, 3045556976, 3045918834, 3049758970, 3071491330, 3077525807, 3081060090, 3099145083, 3100266114, 3108161676, 3125978990, 3151449158, 3192749693, 3192926363, 3194171650, 3196236080, 3205005928, 3225956079, 3235750820, 3239454379, 3256350141, 3283538700, 3316448321, 3321571409, 3327830751, 3346286228, 3355839884, 3366888610, 3370207907, 3383739521, 3442548822, 3514335131, 3563849182, 3694073920, 3816960111, 3832820671, 4017119917, 4074385931, 4100593439, 4151569401, 4443664553, 4481544782, 4488837609]\n"
     ]
    },
    {
     "name": "stderr",
     "output_type": "stream",
     "text": [
      "Loading through DICOM files:  25%|████            | 1/4 [00:00<00:00,  9.78it/s]"
     ]
    },
    {
     "name": "stdout",
     "output_type": "stream",
     "text": [
      "Loading from ../data/DICOMs/R01/4509480776/RTPLAN\n",
      "Loading from ../data/DICOMs/R01/4509480776/RTDOSE\n",
      "Loading from ../data/DICOMs/R01/4509480776/CT\n",
      "Loading from ../data/DICOMs/R01/4509480776/RTSTRUCT\n"
     ]
    },
    {
     "name": "stderr",
     "output_type": "stream",
     "text": [
      "Loading through DICOM files: 100%|████████████████| 4/4 [00:01<00:00,  2.14it/s]\n"
     ]
    },
    {
     "name": "stdout",
     "output_type": "stream",
     "text": [
      "Compiling dictionaries together...\n",
      "Index 0, description O-MAR  at ../data/DICOMs/R01/4509480776/CT\n",
      "1 unique series IDs were found. Default is index 0, to change use set_index(index)\n",
      "Loading images for O-MAR  at \n",
      " ../data/DICOMs/R01/4509480776/CT\n",
      "\n",
      "4509480776 done 0 of 1\n",
      "4509480776 done 0 of 1\n",
      "4509480776 done 0 of 1\n",
      "finshed ids [1173728658, 1178044145, 1194116893, 1235569621, 1265845118, 1269213210, 1276736352, 2774318802, 2776638846, 2803120404, 2804890849, 2815583275, 2817169157, 2843895295, 2865890865, 2867468906, 2875588687, 2883823678, 2889102751, 2894996073, 2908060983, 2929571068, 2932807221, 2939740989, 2983776095, 2989874876, 3028333367, 3035721150, 3045110595, 3045556976, 3045918834, 3049758970, 3071491330, 3077525807, 3081060090, 3099145083, 3100266114, 3108161676, 3125978990, 3151449158, 3192749693, 3192926363, 3194171650, 3196236080, 3205005928, 3225956079, 3235750820, 3239454379, 3256350141, 3283538700, 3316448321, 3321571409, 3327830751, 3346286228, 3355839884, 3366888610, 3370207907, 3383739521, 3442548822, 3514335131, 3563849182, 3694073920, 3816960111, 3832820671, 4017119917, 4074385931, 4100593439, 4151569401, 4443664553, 4481544782, 4488837609, 4509480776]\n"
     ]
    },
    {
     "name": "stderr",
     "output_type": "stream",
     "text": [
      "\r",
      "Loading through DICOM files:   0%|                        | 0/4 [00:00<?, ?it/s]"
     ]
    },
    {
     "name": "stdout",
     "output_type": "stream",
     "text": [
      "Loading from ../data/DICOMs/R01/4554821349/RTPLAN\n",
      "Loading from ../data/DICOMs/R01/4554821349/RTDOSE\n",
      "Loading from ../data/DICOMs/R01/4554821349/RTSTRUCTLoading from ../data/DICOMs/R01/4554821349/CT\n",
      "\n"
     ]
    },
    {
     "name": "stderr",
     "output_type": "stream",
     "text": [
      "Loading through DICOM files: 100%|████████████████| 4/4 [00:01<00:00,  2.31it/s]\n"
     ]
    },
    {
     "name": "stdout",
     "output_type": "stream",
     "text": [
      "Compiling dictionaries together...\n",
      "Index 0, description O-MAR  at ../data/DICOMs/R01/4554821349/CT\n",
      "1 unique series IDs were found. Default is index 0, to change use set_index(index)\n",
      "Loading images for O-MAR  at \n",
      " ../data/DICOMs/R01/4554821349/CT\n",
      "\n",
      "4554821349 done 0 of 1\n",
      "4554821349 done 0 of 1\n",
      "4554821349 done 0 of 1\n",
      "finshed ids [1173728658, 1178044145, 1194116893, 1235569621, 1265845118, 1269213210, 1276736352, 2774318802, 2776638846, 2803120404, 2804890849, 2815583275, 2817169157, 2843895295, 2865890865, 2867468906, 2875588687, 2883823678, 2889102751, 2894996073, 2908060983, 2929571068, 2932807221, 2939740989, 2983776095, 2989874876, 3028333367, 3035721150, 3045110595, 3045556976, 3045918834, 3049758970, 3071491330, 3077525807, 3081060090, 3099145083, 3100266114, 3108161676, 3125978990, 3151449158, 3192749693, 3192926363, 3194171650, 3196236080, 3205005928, 3225956079, 3235750820, 3239454379, 3256350141, 3283538700, 3316448321, 3321571409, 3327830751, 3346286228, 3355839884, 3366888610, 3370207907, 3383739521, 3442548822, 3514335131, 3563849182, 3694073920, 3816960111, 3832820671, 4017119917, 4074385931, 4100593439, 4151569401, 4443664553, 4481544782, 4488837609, 4509480776, 4554821349]\n"
     ]
    },
    {
     "name": "stderr",
     "output_type": "stream",
     "text": [
      "Loading through DICOM files:  33%|█████▎          | 1/3 [00:00<00:00,  8.75it/s]"
     ]
    },
    {
     "name": "stdout",
     "output_type": "stream",
     "text": [
      "Loading from ../data/DICOMs/R01/4625578503/RTDOSE\n",
      "Loading from ../data/DICOMs/R01/4625578503/RTSTRUCT\n",
      "Loading from ../data/DICOMs/R01/4625578503/CT\n"
     ]
    },
    {
     "name": "stderr",
     "output_type": "stream",
     "text": [
      "Loading through DICOM files: 100%|████████████████| 3/3 [00:01<00:00,  2.13it/s]\n"
     ]
    },
    {
     "name": "stdout",
     "output_type": "stream",
     "text": [
      "Compiling dictionaries together...\n",
      "Index 0, description  at ../data/DICOMs/R01/4625578503/CT\n",
      "1 unique series IDs were found. Default is index 0, to change use set_index(index)\n",
      "Loading images for  at \n",
      " ../data/DICOMs/R01/4625578503/CT\n",
      "\n",
      "4625578503 done 0 of 1\n",
      "4625578503 done 0 of 1\n",
      "4625578503 done 0 of 1\n",
      "finshed ids [1173728658, 1178044145, 1194116893, 1235569621, 1265845118, 1269213210, 1276736352, 2774318802, 2776638846, 2803120404, 2804890849, 2815583275, 2817169157, 2843895295, 2865890865, 2867468906, 2875588687, 2883823678, 2889102751, 2894996073, 2908060983, 2929571068, 2932807221, 2939740989, 2983776095, 2989874876, 3028333367, 3035721150, 3045110595, 3045556976, 3045918834, 3049758970, 3071491330, 3077525807, 3081060090, 3099145083, 3100266114, 3108161676, 3125978990, 3151449158, 3192749693, 3192926363, 3194171650, 3196236080, 3205005928, 3225956079, 3235750820, 3239454379, 3256350141, 3283538700, 3316448321, 3321571409, 3327830751, 3346286228, 3355839884, 3366888610, 3370207907, 3383739521, 3442548822, 3514335131, 3563849182, 3694073920, 3816960111, 3832820671, 4017119917, 4074385931, 4100593439, 4151569401, 4443664553, 4481544782, 4488837609, 4509480776, 4554821349, 4625578503]\n"
     ]
    },
    {
     "name": "stderr",
     "output_type": "stream",
     "text": [
      "Loading through DICOM files:  25%|████            | 1/4 [00:00<00:00,  9.59it/s]"
     ]
    },
    {
     "name": "stdout",
     "output_type": "stream",
     "text": [
      "Loading from ../data/DICOMs/R01/4646292867/CT\n",
      "Loading from ../data/DICOMs/R01/4646292867/RTPLAN\n",
      "Loading from ../data/DICOMs/R01/4646292867/RTDOSELoading from ../data/DICOMs/R01/4646292867/RTSTRUCT\n",
      "\n"
     ]
    },
    {
     "name": "stderr",
     "output_type": "stream",
     "text": [
      "Loading through DICOM files: 100%|████████████████| 4/4 [00:02<00:00,  1.65it/s]\n"
     ]
    },
    {
     "name": "stdout",
     "output_type": "stream",
     "text": [
      "Compiling dictionaries together...\n",
      "Index 0, description O-MAR  at ../data/DICOMs/R01/4646292867/CT\n",
      "1 unique series IDs were found. Default is index 0, to change use set_index(index)\n",
      "Loading images for O-MAR  at \n",
      " ../data/DICOMs/R01/4646292867/CT\n",
      "\n",
      "4646292867 done 0 of 1\n",
      "4646292867 done 0 of 1\n",
      "4646292867 done 0 of 1\n",
      "finshed ids [1173728658, 1178044145, 1194116893, 1235569621, 1265845118, 1269213210, 1276736352, 2774318802, 2776638846, 2803120404, 2804890849, 2815583275, 2817169157, 2843895295, 2865890865, 2867468906, 2875588687, 2883823678, 2889102751, 2894996073, 2908060983, 2929571068, 2932807221, 2939740989, 2983776095, 2989874876, 3028333367, 3035721150, 3045110595, 3045556976, 3045918834, 3049758970, 3071491330, 3077525807, 3081060090, 3099145083, 3100266114, 3108161676, 3125978990, 3151449158, 3192749693, 3192926363, 3194171650, 3196236080, 3205005928, 3225956079, 3235750820, 3239454379, 3256350141, 3283538700, 3316448321, 3321571409, 3327830751, 3346286228, 3355839884, 3366888610, 3370207907, 3383739521, 3442548822, 3514335131, 3563849182, 3694073920, 3816960111, 3832820671, 4017119917, 4074385931, 4100593439, 4151569401, 4443664553, 4481544782, 4488837609, 4509480776, 4554821349, 4625578503, 4646292867]\n"
     ]
    },
    {
     "name": "stderr",
     "output_type": "stream",
     "text": [
      "Loading through DICOM files:  25%|████            | 1/4 [00:00<00:00,  6.60it/s]"
     ]
    },
    {
     "name": "stdout",
     "output_type": "stream",
     "text": [
      "Loading from ../data/DICOMs/R01/4663235737/RTDOSE\n",
      "Loading from ../data/DICOMs/R01/4663235737/CT\n",
      "Loading from ../data/DICOMs/R01/4663235737/RTSTRUCT\n",
      "Loading from ../data/DICOMs/R01/4663235737/RTPLAN\n"
     ]
    },
    {
     "name": "stderr",
     "output_type": "stream",
     "text": [
      "Loading through DICOM files: 100%|████████████████| 4/4 [00:02<00:00,  1.71it/s]\n"
     ]
    },
    {
     "name": "stdout",
     "output_type": "stream",
     "text": [
      "Compiling dictionaries together...\n",
      "Index 0, description  at ../data/DICOMs/R01/4663235737/CT\n",
      "1 unique series IDs were found. Default is index 0, to change use set_index(index)\n",
      "Loading images for  at \n",
      " ../data/DICOMs/R01/4663235737/CT\n",
      "\n",
      "4663235737 done 0 of 1\n",
      "4663235737 done 0 of 1\n",
      "4663235737 done 0 of 1\n",
      "finshed ids [1173728658, 1178044145, 1194116893, 1235569621, 1265845118, 1269213210, 1276736352, 2774318802, 2776638846, 2803120404, 2804890849, 2815583275, 2817169157, 2843895295, 2865890865, 2867468906, 2875588687, 2883823678, 2889102751, 2894996073, 2908060983, 2929571068, 2932807221, 2939740989, 2983776095, 2989874876, 3028333367, 3035721150, 3045110595, 3045556976, 3045918834, 3049758970, 3071491330, 3077525807, 3081060090, 3099145083, 3100266114, 3108161676, 3125978990, 3151449158, 3192749693, 3192926363, 3194171650, 3196236080, 3205005928, 3225956079, 3235750820, 3239454379, 3256350141, 3283538700, 3316448321, 3321571409, 3327830751, 3346286228, 3355839884, 3366888610, 3370207907, 3383739521, 3442548822, 3514335131, 3563849182, 3694073920, 3816960111, 3832820671, 4017119917, 4074385931, 4100593439, 4151569401, 4443664553, 4481544782, 4488837609, 4509480776, 4554821349, 4625578503, 4646292867, 4663235737]\n"
     ]
    },
    {
     "name": "stderr",
     "output_type": "stream",
     "text": [
      "Loading through DICOM files:  25%|████            | 1/4 [00:00<00:00,  6.90it/s]"
     ]
    },
    {
     "name": "stdout",
     "output_type": "stream",
     "text": [
      "Loading from ../data/DICOMs/R01/4713240632/RTSTRUCT\n",
      "Loading from ../data/DICOMs/R01/4713240632/CT\n",
      "Loading from ../data/DICOMs/R01/4713240632/RTDOSELoading from ../data/DICOMs/R01/4713240632/RTPLAN\n",
      "\n"
     ]
    },
    {
     "name": "stderr",
     "output_type": "stream",
     "text": [
      "Loading through DICOM files: 100%|████████████████| 4/4 [00:02<00:00,  1.48it/s]\n"
     ]
    },
    {
     "name": "stdout",
     "output_type": "stream",
     "text": [
      "Compiling dictionaries together...\n",
      "Index 0, description  at ../data/DICOMs/R01/4713240632/CT\n",
      "1 unique series IDs were found. Default is index 0, to change use set_index(index)\n",
      "Loading images for  at \n",
      " ../data/DICOMs/R01/4713240632/CT\n",
      "\n",
      "4713240632 done 0 of 1\n",
      "4713240632 done 0 of 1\n",
      "4713240632 done 0 of 1\n",
      "finshed ids [1173728658, 1178044145, 1194116893, 1235569621, 1265845118, 1269213210, 1276736352, 2774318802, 2776638846, 2803120404, 2804890849, 2815583275, 2817169157, 2843895295, 2865890865, 2867468906, 2875588687, 2883823678, 2889102751, 2894996073, 2908060983, 2929571068, 2932807221, 2939740989, 2983776095, 2989874876, 3028333367, 3035721150, 3045110595, 3045556976, 3045918834, 3049758970, 3071491330, 3077525807, 3081060090, 3099145083, 3100266114, 3108161676, 3125978990, 3151449158, 3192749693, 3192926363, 3194171650, 3196236080, 3205005928, 3225956079, 3235750820, 3239454379, 3256350141, 3283538700, 3316448321, 3321571409, 3327830751, 3346286228, 3355839884, 3366888610, 3370207907, 3383739521, 3442548822, 3514335131, 3563849182, 3694073920, 3816960111, 3832820671, 4017119917, 4074385931, 4100593439, 4151569401, 4443664553, 4481544782, 4488837609, 4509480776, 4554821349, 4625578503, 4646292867, 4663235737, 4713240632]\n"
     ]
    },
    {
     "name": "stderr",
     "output_type": "stream",
     "text": [
      "\r",
      "Loading through DICOM files:   0%|                        | 0/3 [00:00<?, ?it/s]"
     ]
    },
    {
     "name": "stdout",
     "output_type": "stream",
     "text": [
      "Loading from ../data/DICOMs/R01/4840069687/CT\n",
      "Loading from ../data/DICOMs/R01/4840069687/RTDOSELoading from ../data/DICOMs/R01/4840069687/RTSTRUCT\n",
      "\n"
     ]
    },
    {
     "name": "stderr",
     "output_type": "stream",
     "text": [
      "Loading through DICOM files: 100%|████████████████| 3/3 [00:01<00:00,  1.52it/s]\n"
     ]
    },
    {
     "name": "stdout",
     "output_type": "stream",
     "text": [
      "Compiling dictionaries together...\n",
      "Index 0, description  at ../data/DICOMs/R01/4840069687/CT\n",
      "1 unique series IDs were found. Default is index 0, to change use set_index(index)\n",
      "Loading images for  at \n",
      " ../data/DICOMs/R01/4840069687/CT\n",
      "\n",
      "4840069687 done 0 of 1\n",
      "4840069687 done 0 of 1\n",
      "4840069687 done 0 of 1\n",
      "finshed ids [1173728658, 1178044145, 1194116893, 1235569621, 1265845118, 1269213210, 1276736352, 2774318802, 2776638846, 2803120404, 2804890849, 2815583275, 2817169157, 2843895295, 2865890865, 2867468906, 2875588687, 2883823678, 2889102751, 2894996073, 2908060983, 2929571068, 2932807221, 2939740989, 2983776095, 2989874876, 3028333367, 3035721150, 3045110595, 3045556976, 3045918834, 3049758970, 3071491330, 3077525807, 3081060090, 3099145083, 3100266114, 3108161676, 3125978990, 3151449158, 3192749693, 3192926363, 3194171650, 3196236080, 3205005928, 3225956079, 3235750820, 3239454379, 3256350141, 3283538700, 3316448321, 3321571409, 3327830751, 3346286228, 3355839884, 3366888610, 3370207907, 3383739521, 3442548822, 3514335131, 3563849182, 3694073920, 3816960111, 3832820671, 4017119917, 4074385931, 4100593439, 4151569401, 4443664553, 4481544782, 4488837609, 4509480776, 4554821349, 4625578503, 4646292867, 4663235737, 4713240632, 4840069687]\n"
     ]
    },
    {
     "name": "stderr",
     "output_type": "stream",
     "text": [
      "\r",
      "Loading through DICOM files:   0%|                        | 0/4 [00:00<?, ?it/s]"
     ]
    },
    {
     "name": "stdout",
     "output_type": "stream",
     "text": [
      "Loading from ../data/DICOMs/R01/4862586001/RTSTRUCT\n",
      "Loading from ../data/DICOMs/R01/4862586001/RTPLAN\n",
      "Loading from ../data/DICOMs/R01/4862586001/RTDOSE\n",
      "Loading from ../data/DICOMs/R01/4862586001/CT\n"
     ]
    },
    {
     "name": "stderr",
     "output_type": "stream",
     "text": [
      "Loading through DICOM files: 100%|████████████████| 4/4 [00:04<00:00,  1.00s/it]\n"
     ]
    },
    {
     "name": "stdout",
     "output_type": "stream",
     "text": [
      "Compiling dictionaries together...\n",
      "Index 0, description O-MAR  at ../data/DICOMs/R01/4862586001/CT\n",
      "1 unique series IDs were found. Default is index 0, to change use set_index(index)\n",
      "Loading images for O-MAR  at \n",
      " ../data/DICOMs/R01/4862586001/CT\n",
      "\n",
      "4862586001 done 0 of 1\n",
      "error in contours_to_mask 'Dataset' object has no attribute 'ContourSequence'\n",
      "error in contours_to_mask 'Dataset' object has no attribute 'ContourSequence'\n",
      "error in contours_to_mask 'Dataset' object has no attribute 'ContourSequence'\n",
      "error in contours_to_mask 'Dataset' object has no attribute 'ContourSequence'\n",
      "error in contours_to_mask 'Dataset' object has no attribute 'ContourSequence'\n",
      "error in contours_to_mask 'Dataset' object has no attribute 'ContourSequence'\n",
      "error in contours_to_mask 'Dataset' object has no attribute 'ContourSequence'\n",
      "error in contours_to_mask 'Dataset' object has no attribute 'ContourSequence'\n",
      "error in contours_to_mask 'Dataset' object has no attribute 'ContourSequence'\n",
      "error in contours_to_mask 'Dataset' object has no attribute 'ContourSequence'\n",
      "error in contours_to_mask 'Dataset' object has no attribute 'ContourSequence'\n",
      "error in contours_to_mask 'Dataset' object has no attribute 'ContourSequence'\n",
      "error in contours_to_mask 'Dataset' object has no attribute 'ContourSequence'\n",
      "error in contours_to_mask 'Dataset' object has no attribute 'ContourSequence'\n",
      "error in contours_to_mask 'Dataset' object has no attribute 'ContourSequence'\n",
      "error in contours_to_mask 'Dataset' object has no attribute 'ContourSequence'\n",
      "error in contours_to_mask 'Dataset' object has no attribute 'ContourSequence'\n",
      "error in contours_to_mask 'Dataset' object has no attribute 'ContourSequence'\n",
      "4862586001 done 0 of 1\n",
      "4862586001 done 0 of 1\n",
      "finshed ids [1173728658, 1178044145, 1194116893, 1235569621, 1265845118, 1269213210, 1276736352, 2774318802, 2776638846, 2803120404, 2804890849, 2815583275, 2817169157, 2843895295, 2865890865, 2867468906, 2875588687, 2883823678, 2889102751, 2894996073, 2908060983, 2929571068, 2932807221, 2939740989, 2983776095, 2989874876, 3028333367, 3035721150, 3045110595, 3045556976, 3045918834, 3049758970, 3071491330, 3077525807, 3081060090, 3099145083, 3100266114, 3108161676, 3125978990, 3151449158, 3192749693, 3192926363, 3194171650, 3196236080, 3205005928, 3225956079, 3235750820, 3239454379, 3256350141, 3283538700, 3316448321, 3321571409, 3327830751, 3346286228, 3355839884, 3366888610, 3370207907, 3383739521, 3442548822, 3514335131, 3563849182, 3694073920, 3816960111, 3832820671, 4017119917, 4074385931, 4100593439, 4151569401, 4443664553, 4481544782, 4488837609, 4509480776, 4554821349, 4625578503, 4646292867, 4663235737, 4713240632, 4840069687, 4862586001]\n"
     ]
    },
    {
     "name": "stderr",
     "output_type": "stream",
     "text": [
      "\r",
      "Loading through DICOM files:   0%|                        | 0/3 [00:00<?, ?it/s]"
     ]
    },
    {
     "name": "stdout",
     "output_type": "stream",
     "text": [
      "Loading from ../data/DICOMs/R01/4862920237/CT\n",
      "Loading from ../data/DICOMs/R01/4862920237/RTSTRUCT\n",
      "Loading from ../data/DICOMs/R01/4862920237/RTDOSE\n"
     ]
    },
    {
     "name": "stderr",
     "output_type": "stream",
     "text": [
      "Loading through DICOM files: 100%|████████████████| 3/3 [00:02<00:00,  1.34it/s]\n"
     ]
    },
    {
     "name": "stdout",
     "output_type": "stream",
     "text": [
      "Compiling dictionaries together...\n",
      "Index 0, description O-MAR  at ../data/DICOMs/R01/4862920237/CT\n",
      "1 unique series IDs were found. Default is index 0, to change use set_index(index)\n",
      "Loading images for O-MAR  at \n",
      " ../data/DICOMs/R01/4862920237/CT\n",
      "\n",
      "4862920237 done 0 of 1\n",
      "4862920237 done 0 of 1\n",
      "4862920237 done 0 of 1\n",
      "finshed ids [1173728658, 1178044145, 1194116893, 1235569621, 1265845118, 1269213210, 1276736352, 2774318802, 2776638846, 2803120404, 2804890849, 2815583275, 2817169157, 2843895295, 2865890865, 2867468906, 2875588687, 2883823678, 2889102751, 2894996073, 2908060983, 2929571068, 2932807221, 2939740989, 2983776095, 2989874876, 3028333367, 3035721150, 3045110595, 3045556976, 3045918834, 3049758970, 3071491330, 3077525807, 3081060090, 3099145083, 3100266114, 3108161676, 3125978990, 3151449158, 3192749693, 3192926363, 3194171650, 3196236080, 3205005928, 3225956079, 3235750820, 3239454379, 3256350141, 3283538700, 3316448321, 3321571409, 3327830751, 3346286228, 3355839884, 3366888610, 3370207907, 3383739521, 3442548822, 3514335131, 3563849182, 3694073920, 3816960111, 3832820671, 4017119917, 4074385931, 4100593439, 4151569401, 4443664553, 4481544782, 4488837609, 4509480776, 4554821349, 4625578503, 4646292867, 4663235737, 4713240632, 4840069687, 4862586001, 4862920237]\n"
     ]
    },
    {
     "name": "stderr",
     "output_type": "stream",
     "text": [
      "\r",
      "Loading through DICOM files:   0%|                        | 0/4 [00:00<?, ?it/s]"
     ]
    },
    {
     "name": "stdout",
     "output_type": "stream",
     "text": [
      "Loading from ../data/DICOMs/R01/5038138708/RTPLAN\n",
      "Loading from ../data/DICOMs/R01/5038138708/RTDOSE\n",
      "Loading from ../data/DICOMs/R01/5038138708/RTSTRUCT\n",
      "Loading from ../data/DICOMs/R01/5038138708/CT\n"
     ]
    },
    {
     "name": "stderr",
     "output_type": "stream",
     "text": [
      "Loading through DICOM files: 100%|████████████████| 4/4 [00:01<00:00,  2.23it/s]\n"
     ]
    },
    {
     "name": "stdout",
     "output_type": "stream",
     "text": [
      "Compiling dictionaries together...\n",
      "Index 0, description  at ../data/DICOMs/R01/5038138708/CT\n",
      "1 unique series IDs were found. Default is index 0, to change use set_index(index)\n",
      "Loading images for  at \n",
      " ../data/DICOMs/R01/5038138708/CT\n",
      "\n",
      "5038138708 done 0 of 1\n",
      "5038138708 done 0 of 1\n",
      "5038138708 done 0 of 1\n",
      "finshed ids [1173728658, 1178044145, 1194116893, 1235569621, 1265845118, 1269213210, 1276736352, 2774318802, 2776638846, 2803120404, 2804890849, 2815583275, 2817169157, 2843895295, 2865890865, 2867468906, 2875588687, 2883823678, 2889102751, 2894996073, 2908060983, 2929571068, 2932807221, 2939740989, 2983776095, 2989874876, 3028333367, 3035721150, 3045110595, 3045556976, 3045918834, 3049758970, 3071491330, 3077525807, 3081060090, 3099145083, 3100266114, 3108161676, 3125978990, 3151449158, 3192749693, 3192926363, 3194171650, 3196236080, 3205005928, 3225956079, 3235750820, 3239454379, 3256350141, 3283538700, 3316448321, 3321571409, 3327830751, 3346286228, 3355839884, 3366888610, 3370207907, 3383739521, 3442548822, 3514335131, 3563849182, 3694073920, 3816960111, 3832820671, 4017119917, 4074385931, 4100593439, 4151569401, 4443664553, 4481544782, 4488837609, 4509480776, 4554821349, 4625578503, 4646292867, 4663235737, 4713240632, 4840069687, 4862586001, 4862920237, 5038138708]\n"
     ]
    },
    {
     "name": "stderr",
     "output_type": "stream",
     "text": [
      "\r",
      "Loading through DICOM files:   0%|                        | 0/3 [00:00<?, ?it/s]"
     ]
    },
    {
     "name": "stdout",
     "output_type": "stream",
     "text": [
      "Loading from ../data/DICOMs/R01/5089502522/CT\n",
      "Loading from ../data/DICOMs/R01/5089502522/RTSTRUCT\n",
      "Loading from ../data/DICOMs/R01/5089502522/RTDOSE\n"
     ]
    },
    {
     "name": "stderr",
     "output_type": "stream",
     "text": [
      "Loading through DICOM files: 100%|████████████████| 3/3 [00:02<00:00,  1.04it/s]\n"
     ]
    },
    {
     "name": "stdout",
     "output_type": "stream",
     "text": [
      "Compiling dictionaries together...\n",
      "Index 0, description O-MAR  at ../data/DICOMs/R01/5089502522/CT\n",
      "1 unique series IDs were found. Default is index 0, to change use set_index(index)\n",
      "Loading images for O-MAR  at \n",
      " ../data/DICOMs/R01/5089502522/CT\n",
      "\n",
      "5089502522 done 0 of 1\n",
      "5089502522 done 0 of 1\n",
      "5089502522 done 0 of 1\n",
      "finshed ids [1173728658, 1178044145, 1194116893, 1235569621, 1265845118, 1269213210, 1276736352, 2774318802, 2776638846, 2803120404, 2804890849, 2815583275, 2817169157, 2843895295, 2865890865, 2867468906, 2875588687, 2883823678, 2889102751, 2894996073, 2908060983, 2929571068, 2932807221, 2939740989, 2983776095, 2989874876, 3028333367, 3035721150, 3045110595, 3045556976, 3045918834, 3049758970, 3071491330, 3077525807, 3081060090, 3099145083, 3100266114, 3108161676, 3125978990, 3151449158, 3192749693, 3192926363, 3194171650, 3196236080, 3205005928, 3225956079, 3235750820, 3239454379, 3256350141, 3283538700, 3316448321, 3321571409, 3327830751, 3346286228, 3355839884, 3366888610, 3370207907, 3383739521, 3442548822, 3514335131, 3563849182, 3694073920, 3816960111, 3832820671, 4017119917, 4074385931, 4100593439, 4151569401, 4443664553, 4481544782, 4488837609, 4509480776, 4554821349, 4625578503, 4646292867, 4663235737, 4713240632, 4840069687, 4862586001, 4862920237, 5038138708, 5089502522]\n"
     ]
    },
    {
     "name": "stderr",
     "output_type": "stream",
     "text": [
      "Loading through DICOM files:  33%|█████▎          | 1/3 [00:00<00:00,  6.91it/s]"
     ]
    },
    {
     "name": "stdout",
     "output_type": "stream",
     "text": [
      "Loading from ../data/DICOMs/R01/5110518099/RTDOSE\n",
      "Loading from ../data/DICOMs/R01/5110518099/CT\n",
      "Loading from ../data/DICOMs/R01/5110518099/RTSTRUCT\n"
     ]
    },
    {
     "name": "stderr",
     "output_type": "stream",
     "text": [
      "Loading through DICOM files: 100%|████████████████| 3/3 [00:01<00:00,  1.52it/s]\n"
     ]
    },
    {
     "name": "stdout",
     "output_type": "stream",
     "text": [
      "Compiling dictionaries together...\n",
      "Index 0, description O-MAR  at ../data/DICOMs/R01/5110518099/CT\n",
      "1 unique series IDs were found. Default is index 0, to change use set_index(index)\n",
      "Loading images for O-MAR  at \n",
      " ../data/DICOMs/R01/5110518099/CT\n",
      "\n",
      "5110518099 done 0 of 1\n",
      "5110518099 done 0 of 1\n",
      "5110518099 done 0 of 1\n",
      "finshed ids [1173728658, 1178044145, 1194116893, 1235569621, 1265845118, 1269213210, 1276736352, 2774318802, 2776638846, 2803120404, 2804890849, 2815583275, 2817169157, 2843895295, 2865890865, 2867468906, 2875588687, 2883823678, 2889102751, 2894996073, 2908060983, 2929571068, 2932807221, 2939740989, 2983776095, 2989874876, 3028333367, 3035721150, 3045110595, 3045556976, 3045918834, 3049758970, 3071491330, 3077525807, 3081060090, 3099145083, 3100266114, 3108161676, 3125978990, 3151449158, 3192749693, 3192926363, 3194171650, 3196236080, 3205005928, 3225956079, 3235750820, 3239454379, 3256350141, 3283538700, 3316448321, 3321571409, 3327830751, 3346286228, 3355839884, 3366888610, 3370207907, 3383739521, 3442548822, 3514335131, 3563849182, 3694073920, 3816960111, 3832820671, 4017119917, 4074385931, 4100593439, 4151569401, 4443664553, 4481544782, 4488837609, 4509480776, 4554821349, 4625578503, 4646292867, 4663235737, 4713240632, 4840069687, 4862586001, 4862920237, 5038138708, 5089502522, 5110518099]\n"
     ]
    },
    {
     "name": "stderr",
     "output_type": "stream",
     "text": [
      "Loading through DICOM files:  25%|████            | 1/4 [00:00<00:00,  8.74it/s]"
     ]
    },
    {
     "name": "stdout",
     "output_type": "stream",
     "text": [
      "Loading from ../data/DICOMs/R01/1293745646/RTDOSE\n",
      "Loading from ../data/DICOMs/R01/1293745646/CT\n",
      "Loading from ../data/DICOMs/R01/1293745646/RTPLAN\n",
      "Loading from ../data/DICOMs/R01/1293745646/RTSTRUCT\n"
     ]
    },
    {
     "name": "stderr",
     "output_type": "stream",
     "text": [
      "Loading through DICOM files: 100%|████████████████| 4/4 [00:01<00:00,  2.00it/s]\n"
     ]
    },
    {
     "name": "stdout",
     "output_type": "stream",
     "text": [
      "Compiling dictionaries together...\n",
      "Index 0, description  at ../data/DICOMs/R01/1293745646/CT\n",
      "1 unique series IDs were found. Default is index 0, to change use set_index(index)\n",
      "Loading images for  at \n",
      " ../data/DICOMs/R01/1293745646/CT\n",
      "\n",
      "1293745646 done 0 of 1\n",
      "1293745646 done 0 of 1\n",
      "1293745646 done 0 of 1\n",
      "finshed ids [1173728658, 1178044145, 1194116893, 1235569621, 1265845118, 1269213210, 1276736352, 2774318802, 2776638846, 2803120404, 2804890849, 2815583275, 2817169157, 2843895295, 2865890865, 2867468906, 2875588687, 2883823678, 2889102751, 2894996073, 2908060983, 2929571068, 2932807221, 2939740989, 2983776095, 2989874876, 3028333367, 3035721150, 3045110595, 3045556976, 3045918834, 3049758970, 3071491330, 3077525807, 3081060090, 3099145083, 3100266114, 3108161676, 3125978990, 3151449158, 3192749693, 3192926363, 3194171650, 3196236080, 3205005928, 3225956079, 3235750820, 3239454379, 3256350141, 3283538700, 3316448321, 3321571409, 3327830751, 3346286228, 3355839884, 3366888610, 3370207907, 3383739521, 3442548822, 3514335131, 3563849182, 3694073920, 3816960111, 3832820671, 4017119917, 4074385931, 4100593439, 4151569401, 4443664553, 4481544782, 4488837609, 4509480776, 4554821349, 4625578503, 4646292867, 4663235737, 4713240632, 4840069687, 4862586001, 4862920237, 5038138708, 5089502522, 5110518099, 1293745646]\n"
     ]
    },
    {
     "name": "stderr",
     "output_type": "stream",
     "text": [
      "\r",
      "Loading through DICOM files:   0%|                        | 0/4 [00:00<?, ?it/s]"
     ]
    },
    {
     "name": "stdout",
     "output_type": "stream",
     "text": [
      "Loading from ../data/DICOMs/R01/1522246751/RTDOSE\n",
      "Loading from ../data/DICOMs/R01/1522246751/RTPLAN\n",
      "Loading from ../data/DICOMs/R01/1522246751/RTSTRUCT\n",
      "Loading from ../data/DICOMs/R01/1522246751/CT\n"
     ]
    },
    {
     "name": "stderr",
     "output_type": "stream",
     "text": [
      "Loading through DICOM files: 100%|████████████████| 4/4 [00:04<00:00,  1.00s/it]\n"
     ]
    },
    {
     "name": "stdout",
     "output_type": "stream",
     "text": [
      "Compiling dictionaries together...\n",
      "Index 0, description Head and Neck  at ../data/DICOMs/R01/1522246751/CT\n",
      "1 unique series IDs were found. Default is index 0, to change use set_index(index)\n",
      "Loading images for Head and Neck  at \n",
      " ../data/DICOMs/R01/1522246751/CT\n",
      "\n",
      "1522246751 done 0 of 1\n",
      "1522246751 done 0 of 1\n",
      "1522246751 done 0 of 1\n",
      "finshed ids [1173728658, 1178044145, 1194116893, 1235569621, 1265845118, 1269213210, 1276736352, 2774318802, 2776638846, 2803120404, 2804890849, 2815583275, 2817169157, 2843895295, 2865890865, 2867468906, 2875588687, 2883823678, 2889102751, 2894996073, 2908060983, 2929571068, 2932807221, 2939740989, 2983776095, 2989874876, 3028333367, 3035721150, 3045110595, 3045556976, 3045918834, 3049758970, 3071491330, 3077525807, 3081060090, 3099145083, 3100266114, 3108161676, 3125978990, 3151449158, 3192749693, 3192926363, 3194171650, 3196236080, 3205005928, 3225956079, 3235750820, 3239454379, 3256350141, 3283538700, 3316448321, 3321571409, 3327830751, 3346286228, 3355839884, 3366888610, 3370207907, 3383739521, 3442548822, 3514335131, 3563849182, 3694073920, 3816960111, 3832820671, 4017119917, 4074385931, 4100593439, 4151569401, 4443664553, 4481544782, 4488837609, 4509480776, 4554821349, 4625578503, 4646292867, 4663235737, 4713240632, 4840069687, 4862586001, 4862920237, 5038138708, 5089502522, 5110518099, 1293745646, 1522246751]\n"
     ]
    },
    {
     "name": "stderr",
     "output_type": "stream",
     "text": [
      "Loading through DICOM files:  25%|████            | 1/4 [00:00<00:00,  7.19it/s]"
     ]
    },
    {
     "name": "stdout",
     "output_type": "stream",
     "text": [
      "Loading from ../data/DICOMs/R01/1670301878/RTPLAN\n",
      "Loading from ../data/DICOMs/R01/1670301878/CT\n",
      "Loading from ../data/DICOMs/R01/1670301878/RTSTRUCT\n",
      "Loading from ../data/DICOMs/R01/1670301878/RTDOSE\n"
     ]
    },
    {
     "name": "stderr",
     "output_type": "stream",
     "text": [
      "Loading through DICOM files: 100%|████████████████| 4/4 [00:08<00:00,  2.11s/it]\n"
     ]
    },
    {
     "name": "stdout",
     "output_type": "stream",
     "text": [
      "Compiling dictionaries together...\n",
      "Index 0, description  at ../data/DICOMs/R01/1670301878/CT\n",
      "1 unique series IDs were found. Default is index 0, to change use set_index(index)\n",
      "Loading images for  at \n",
      " ../data/DICOMs/R01/1670301878/CT\n",
      "\n",
      "1670301878 done 0 of 1\n",
      "1670301878 done 0 of 1\n",
      "1670301878 done 0 of 1\n",
      "finshed ids [1173728658, 1178044145, 1194116893, 1235569621, 1265845118, 1269213210, 1276736352, 2774318802, 2776638846, 2803120404, 2804890849, 2815583275, 2817169157, 2843895295, 2865890865, 2867468906, 2875588687, 2883823678, 2889102751, 2894996073, 2908060983, 2929571068, 2932807221, 2939740989, 2983776095, 2989874876, 3028333367, 3035721150, 3045110595, 3045556976, 3045918834, 3049758970, 3071491330, 3077525807, 3081060090, 3099145083, 3100266114, 3108161676, 3125978990, 3151449158, 3192749693, 3192926363, 3194171650, 3196236080, 3205005928, 3225956079, 3235750820, 3239454379, 3256350141, 3283538700, 3316448321, 3321571409, 3327830751, 3346286228, 3355839884, 3366888610, 3370207907, 3383739521, 3442548822, 3514335131, 3563849182, 3694073920, 3816960111, 3832820671, 4017119917, 4074385931, 4100593439, 4151569401, 4443664553, 4481544782, 4488837609, 4509480776, 4554821349, 4625578503, 4646292867, 4663235737, 4713240632, 4840069687, 4862586001, 4862920237, 5038138708, 5089502522, 5110518099, 1293745646, 1522246751, 1670301878]\n"
     ]
    },
    {
     "name": "stderr",
     "output_type": "stream",
     "text": [
      "Loading through DICOM files:  25%|████            | 1/4 [00:00<00:00,  6.94it/s]"
     ]
    },
    {
     "name": "stdout",
     "output_type": "stream",
     "text": [
      "Loading from ../data/DICOMs/R01/1848656363/RTSTRUCT\n",
      "Loading from ../data/DICOMs/R01/1848656363/RTDOSE\n",
      "Loading from ../data/DICOMs/R01/1848656363/CT\n",
      "Loading from ../data/DICOMs/R01/1848656363/RTPLAN\n"
     ]
    },
    {
     "name": "stderr",
     "output_type": "stream",
     "text": [
      "Loading through DICOM files: 100%|████████████████| 4/4 [00:02<00:00,  1.68it/s]\n"
     ]
    },
    {
     "name": "stdout",
     "output_type": "stream",
     "text": [
      "Compiling dictionaries together...\n",
      "Index 0, description O-MAR, RETRO OMAR  at ../data/DICOMs/R01/1848656363/CT\n",
      "1 unique series IDs were found. Default is index 0, to change use set_index(index)\n",
      "Loading images for O-MAR, RETRO OMAR  at \n",
      " ../data/DICOMs/R01/1848656363/CT\n",
      "\n",
      "error in contours_to_mask 'Dataset' object has no attribute 'ContourSequence'\n",
      "error in contours_to_mask 'Dataset' object has no attribute 'ContourSequence'\n",
      "error in contours_to_mask 'Dataset' object has no attribute 'ContourSequence'\n",
      "1848656363 done 0 of 1\n",
      "1848656363 done 0 of 1\n",
      "1848656363 done 0 of 1\n",
      "finshed ids [1173728658, 1178044145, 1194116893, 1235569621, 1265845118, 1269213210, 1276736352, 2774318802, 2776638846, 2803120404, 2804890849, 2815583275, 2817169157, 2843895295, 2865890865, 2867468906, 2875588687, 2883823678, 2889102751, 2894996073, 2908060983, 2929571068, 2932807221, 2939740989, 2983776095, 2989874876, 3028333367, 3035721150, 3045110595, 3045556976, 3045918834, 3049758970, 3071491330, 3077525807, 3081060090, 3099145083, 3100266114, 3108161676, 3125978990, 3151449158, 3192749693, 3192926363, 3194171650, 3196236080, 3205005928, 3225956079, 3235750820, 3239454379, 3256350141, 3283538700, 3316448321, 3321571409, 3327830751, 3346286228, 3355839884, 3366888610, 3370207907, 3383739521, 3442548822, 3514335131, 3563849182, 3694073920, 3816960111, 3832820671, 4017119917, 4074385931, 4100593439, 4151569401, 4443664553, 4481544782, 4488837609, 4509480776, 4554821349, 4625578503, 4646292867, 4663235737, 4713240632, 4840069687, 4862586001, 4862920237, 5038138708, 5089502522, 5110518099, 1293745646, 1522246751, 1670301878, 1848656363]\n"
     ]
    },
    {
     "name": "stderr",
     "output_type": "stream",
     "text": [
      "\r",
      "Loading through DICOM files:   0%|                        | 0/4 [00:00<?, ?it/s]"
     ]
    },
    {
     "name": "stdout",
     "output_type": "stream",
     "text": [
      "Loading from ../data/DICOMs/R01/2106963643/RTSTRUCT\n",
      "Loading from ../data/DICOMs/R01/2106963643/RTDOSELoading from ../data/DICOMs/R01/2106963643/RTPLAN\n",
      "Loading from ../data/DICOMs/R01/2106963643/CT\n",
      "\n"
     ]
    },
    {
     "name": "stderr",
     "output_type": "stream",
     "text": [
      "Loading through DICOM files: 100%|████████████████| 4/4 [00:03<00:00,  1.16it/s]\n"
     ]
    },
    {
     "name": "stdout",
     "output_type": "stream",
     "text": [
      "Compiling dictionaries together...\n",
      "Index 0, description Head and Neck 65FOV  at ../data/DICOMs/R01/2106963643/CT\n",
      "1 unique series IDs were found. Default is index 0, to change use set_index(index)\n",
      "Loading images for Head and Neck 65FOV  at \n",
      " ../data/DICOMs/R01/2106963643/CT\n",
      "\n",
      "error in contours_to_mask 'Dataset' object has no attribute 'ContourSequence'\n",
      "error in contours_to_mask 'Dataset' object has no attribute 'ContourSequence'\n",
      "2106963643 done 0 of 1\n",
      "error in contours_to_mask 'Dataset' object has no attribute 'ContourSequence'\n",
      "2106963643 done 0 of 1\n",
      "error in contours_to_mask 'Dataset' object has no attribute 'ContourSequence'\n",
      "2106963643 done 0 of 1\n",
      "finshed ids [1173728658, 1178044145, 1194116893, 1235569621, 1265845118, 1269213210, 1276736352, 2774318802, 2776638846, 2803120404, 2804890849, 2815583275, 2817169157, 2843895295, 2865890865, 2867468906, 2875588687, 2883823678, 2889102751, 2894996073, 2908060983, 2929571068, 2932807221, 2939740989, 2983776095, 2989874876, 3028333367, 3035721150, 3045110595, 3045556976, 3045918834, 3049758970, 3071491330, 3077525807, 3081060090, 3099145083, 3100266114, 3108161676, 3125978990, 3151449158, 3192749693, 3192926363, 3194171650, 3196236080, 3205005928, 3225956079, 3235750820, 3239454379, 3256350141, 3283538700, 3316448321, 3321571409, 3327830751, 3346286228, 3355839884, 3366888610, 3370207907, 3383739521, 3442548822, 3514335131, 3563849182, 3694073920, 3816960111, 3832820671, 4017119917, 4074385931, 4100593439, 4151569401, 4443664553, 4481544782, 4488837609, 4509480776, 4554821349, 4625578503, 4646292867, 4663235737, 4713240632, 4840069687, 4862586001, 4862920237, 5038138708, 5089502522, 5110518099, 1293745646, 1522246751, 1670301878, 1848656363, 2106963643]\n"
     ]
    },
    {
     "name": "stderr",
     "output_type": "stream",
     "text": [
      "\r",
      "Loading through DICOM files:   0%|                        | 0/4 [00:00<?, ?it/s]"
     ]
    },
    {
     "name": "stdout",
     "output_type": "stream",
     "text": [
      "Loading from ../data/DICOMs/R01/2279280705/RTSTRUCT\n",
      "Loading from ../data/DICOMs/R01/2279280705/CT\n",
      "Loading from ../data/DICOMs/R01/2279280705/RTPLAN\n",
      "Loading from ../data/DICOMs/R01/2279280705/RTDOSE\n"
     ]
    },
    {
     "name": "stderr",
     "output_type": "stream",
     "text": [
      "Loading through DICOM files: 100%|████████████████| 4/4 [00:03<00:00,  1.22it/s]\n"
     ]
    },
    {
     "name": "stdout",
     "output_type": "stream",
     "text": [
      "Compiling dictionaries together...\n",
      "Index 0, description None at ../data/DICOMs/R01/2279280705/CT\n",
      "1 unique series IDs were found. Default is index 0, to change use set_index(index)\n",
      "Loading images for None at \n",
      " ../data/DICOMs/R01/2279280705/CT\n",
      "\n",
      "2279280705 done 0 of 1\n",
      "2279280705 done 0 of 1\n",
      "2279280705 done 0 of 1\n",
      "finshed ids [1173728658, 1178044145, 1194116893, 1235569621, 1265845118, 1269213210, 1276736352, 2774318802, 2776638846, 2803120404, 2804890849, 2815583275, 2817169157, 2843895295, 2865890865, 2867468906, 2875588687, 2883823678, 2889102751, 2894996073, 2908060983, 2929571068, 2932807221, 2939740989, 2983776095, 2989874876, 3028333367, 3035721150, 3045110595, 3045556976, 3045918834, 3049758970, 3071491330, 3077525807, 3081060090, 3099145083, 3100266114, 3108161676, 3125978990, 3151449158, 3192749693, 3192926363, 3194171650, 3196236080, 3205005928, 3225956079, 3235750820, 3239454379, 3256350141, 3283538700, 3316448321, 3321571409, 3327830751, 3346286228, 3355839884, 3366888610, 3370207907, 3383739521, 3442548822, 3514335131, 3563849182, 3694073920, 3816960111, 3832820671, 4017119917, 4074385931, 4100593439, 4151569401, 4443664553, 4481544782, 4488837609, 4509480776, 4554821349, 4625578503, 4646292867, 4663235737, 4713240632, 4840069687, 4862586001, 4862920237, 5038138708, 5089502522, 5110518099, 1293745646, 1522246751, 1670301878, 1848656363, 2106963643, 2279280705]\n"
     ]
    },
    {
     "name": "stderr",
     "output_type": "stream",
     "text": [
      "Loading through DICOM files:  25%|████            | 1/4 [00:00<00:00,  6.53it/s]"
     ]
    },
    {
     "name": "stdout",
     "output_type": "stream",
     "text": [
      "Loading from ../data/DICOMs/R01/2508553230/RTSTRUCT\n",
      "Loading from ../data/DICOMs/R01/2508553230/RTPLAN\n",
      "Loading from ../data/DICOMs/R01/2508553230/CT\n",
      "Loading from ../data/DICOMs/R01/2508553230/RTDOSE\n"
     ]
    },
    {
     "name": "stderr",
     "output_type": "stream",
     "text": [
      "Loading through DICOM files: 100%|████████████████| 4/4 [00:01<00:00,  2.17it/s]\n"
     ]
    },
    {
     "name": "stdout",
     "output_type": "stream",
     "text": [
      "Compiling dictionaries together...\n",
      "Index 0, description  at ../data/DICOMs/R01/2508553230/CT\n",
      "1 unique series IDs were found. Default is index 0, to change use set_index(index)\n",
      "Loading images for  at \n",
      " ../data/DICOMs/R01/2508553230/CT\n",
      "\n",
      "2508553230 done 0 of 1\n",
      "2508553230 done 0 of 1\n",
      "2508553230 done 0 of 1\n",
      "finshed ids [1173728658, 1178044145, 1194116893, 1235569621, 1265845118, 1269213210, 1276736352, 2774318802, 2776638846, 2803120404, 2804890849, 2815583275, 2817169157, 2843895295, 2865890865, 2867468906, 2875588687, 2883823678, 2889102751, 2894996073, 2908060983, 2929571068, 2932807221, 2939740989, 2983776095, 2989874876, 3028333367, 3035721150, 3045110595, 3045556976, 3045918834, 3049758970, 3071491330, 3077525807, 3081060090, 3099145083, 3100266114, 3108161676, 3125978990, 3151449158, 3192749693, 3192926363, 3194171650, 3196236080, 3205005928, 3225956079, 3235750820, 3239454379, 3256350141, 3283538700, 3316448321, 3321571409, 3327830751, 3346286228, 3355839884, 3366888610, 3370207907, 3383739521, 3442548822, 3514335131, 3563849182, 3694073920, 3816960111, 3832820671, 4017119917, 4074385931, 4100593439, 4151569401, 4443664553, 4481544782, 4488837609, 4509480776, 4554821349, 4625578503, 4646292867, 4663235737, 4713240632, 4840069687, 4862586001, 4862920237, 5038138708, 5089502522, 5110518099, 1293745646, 1522246751, 1670301878, 1848656363, 2106963643, 2279280705, 2508553230]\n"
     ]
    },
    {
     "name": "stderr",
     "output_type": "stream",
     "text": [
      "\r",
      "Loading through DICOM files:   0%|                        | 0/3 [00:00<?, ?it/s]"
     ]
    },
    {
     "name": "stdout",
     "output_type": "stream",
     "text": [
      "Loading from ../data/DICOMs/R01/2770898143/CT\n",
      "Loading from ../data/DICOMs/R01/2770898143/RTDOSE\n",
      "Loading from ../data/DICOMs/R01/2770898143/RTSTRUCT\n"
     ]
    },
    {
     "name": "stderr",
     "output_type": "stream",
     "text": [
      "Loading through DICOM files: 100%|████████████████| 3/3 [00:01<00:00,  1.62it/s]\n"
     ]
    },
    {
     "name": "stdout",
     "output_type": "stream",
     "text": [
      "Compiling dictionaries together...\n",
      "Index 0, description  at ../data/DICOMs/R01/2770898143/CT\n",
      "1 unique series IDs were found. Default is index 0, to change use set_index(index)\n",
      "Loading images for  at \n",
      " ../data/DICOMs/R01/2770898143/CT\n",
      "\n",
      "2770898143 done 0 of 1\n",
      "2770898143 done 0 of 1\n",
      "2770898143 done 0 of 1\n",
      "finshed ids [1173728658, 1178044145, 1194116893, 1235569621, 1265845118, 1269213210, 1276736352, 2774318802, 2776638846, 2803120404, 2804890849, 2815583275, 2817169157, 2843895295, 2865890865, 2867468906, 2875588687, 2883823678, 2889102751, 2894996073, 2908060983, 2929571068, 2932807221, 2939740989, 2983776095, 2989874876, 3028333367, 3035721150, 3045110595, 3045556976, 3045918834, 3049758970, 3071491330, 3077525807, 3081060090, 3099145083, 3100266114, 3108161676, 3125978990, 3151449158, 3192749693, 3192926363, 3194171650, 3196236080, 3205005928, 3225956079, 3235750820, 3239454379, 3256350141, 3283538700, 3316448321, 3321571409, 3327830751, 3346286228, 3355839884, 3366888610, 3370207907, 3383739521, 3442548822, 3514335131, 3563849182, 3694073920, 3816960111, 3832820671, 4017119917, 4074385931, 4100593439, 4151569401, 4443664553, 4481544782, 4488837609, 4509480776, 4554821349, 4625578503, 4646292867, 4663235737, 4713240632, 4840069687, 4862586001, 4862920237, 5038138708, 5089502522, 5110518099, 1293745646, 1522246751, 1670301878, 1848656363, 2106963643, 2279280705, 2508553230, 2770898143]\n"
     ]
    },
    {
     "name": "stderr",
     "output_type": "stream",
     "text": [
      "\r",
      "Loading through DICOM files:   0%|                        | 0/4 [00:00<?, ?it/s]"
     ]
    },
    {
     "name": "stdout",
     "output_type": "stream",
     "text": [
      "Loading from ../data/DICOMs/R01/3023016905/CT\n",
      "Loading from ../data/DICOMs/R01/3023016905/RTDOSE\n",
      "Loading from ../data/DICOMs/R01/3023016905/RTSTRUCTLoading from ../data/DICOMs/R01/3023016905/RTPLAN\n",
      "\n"
     ]
    },
    {
     "name": "stderr",
     "output_type": "stream",
     "text": [
      "Loading through DICOM files: 100%|████████████████| 4/4 [00:02<00:00,  1.66it/s]\n"
     ]
    },
    {
     "name": "stdout",
     "output_type": "stream",
     "text": [
      "Compiling dictionaries together...\n",
      "Index 0, description  at ../data/DICOMs/R01/3023016905/CT\n",
      "1 unique series IDs were found. Default is index 0, to change use set_index(index)\n",
      "Loading images for  at \n",
      " ../data/DICOMs/R01/3023016905/CT\n",
      "\n",
      "3023016905 done 0 of 1\n",
      "3023016905 done 0 of 1\n",
      "3023016905 done 0 of 1\n",
      "finshed ids [1173728658, 1178044145, 1194116893, 1235569621, 1265845118, 1269213210, 1276736352, 2774318802, 2776638846, 2803120404, 2804890849, 2815583275, 2817169157, 2843895295, 2865890865, 2867468906, 2875588687, 2883823678, 2889102751, 2894996073, 2908060983, 2929571068, 2932807221, 2939740989, 2983776095, 2989874876, 3028333367, 3035721150, 3045110595, 3045556976, 3045918834, 3049758970, 3071491330, 3077525807, 3081060090, 3099145083, 3100266114, 3108161676, 3125978990, 3151449158, 3192749693, 3192926363, 3194171650, 3196236080, 3205005928, 3225956079, 3235750820, 3239454379, 3256350141, 3283538700, 3316448321, 3321571409, 3327830751, 3346286228, 3355839884, 3366888610, 3370207907, 3383739521, 3442548822, 3514335131, 3563849182, 3694073920, 3816960111, 3832820671, 4017119917, 4074385931, 4100593439, 4151569401, 4443664553, 4481544782, 4488837609, 4509480776, 4554821349, 4625578503, 4646292867, 4663235737, 4713240632, 4840069687, 4862586001, 4862920237, 5038138708, 5089502522, 5110518099, 1293745646, 1522246751, 1670301878, 1848656363, 2106963643, 2279280705, 2508553230, 2770898143, 3023016905]\n"
     ]
    },
    {
     "name": "stderr",
     "output_type": "stream",
     "text": [
      "\r",
      "Loading through DICOM files:   0%|                        | 0/4 [00:00<?, ?it/s]"
     ]
    },
    {
     "name": "stdout",
     "output_type": "stream",
     "text": [
      "Loading from ../data/DICOMs/R01/3217148733/CT\n",
      "Loading from ../data/DICOMs/R01/3217148733/RTPLAN\n",
      "Loading from ../data/DICOMs/R01/3217148733/RTSTRUCT\n",
      "Loading from ../data/DICOMs/R01/3217148733/RTDOSE\n"
     ]
    },
    {
     "name": "stderr",
     "output_type": "stream",
     "text": [
      "Loading through DICOM files: 100%|████████████████| 4/4 [00:02<00:00,  1.56it/s]\n"
     ]
    },
    {
     "name": "stdout",
     "output_type": "stream",
     "text": [
      "Compiling dictionaries together...\n",
      "Index 0, description  at ../data/DICOMs/R01/3217148733/CT\n",
      "1 unique series IDs were found. Default is index 0, to change use set_index(index)\n",
      "Loading images for  at \n",
      " ../data/DICOMs/R01/3217148733/CT\n",
      "\n",
      "3217148733 done 0 of 1\n",
      "3217148733 done 0 of 1\n",
      "3217148733 done 0 of 1\n",
      "finshed ids [1173728658, 1178044145, 1194116893, 1235569621, 1265845118, 1269213210, 1276736352, 2774318802, 2776638846, 2803120404, 2804890849, 2815583275, 2817169157, 2843895295, 2865890865, 2867468906, 2875588687, 2883823678, 2889102751, 2894996073, 2908060983, 2929571068, 2932807221, 2939740989, 2983776095, 2989874876, 3028333367, 3035721150, 3045110595, 3045556976, 3045918834, 3049758970, 3071491330, 3077525807, 3081060090, 3099145083, 3100266114, 3108161676, 3125978990, 3151449158, 3192749693, 3192926363, 3194171650, 3196236080, 3205005928, 3225956079, 3235750820, 3239454379, 3256350141, 3283538700, 3316448321, 3321571409, 3327830751, 3346286228, 3355839884, 3366888610, 3370207907, 3383739521, 3442548822, 3514335131, 3563849182, 3694073920, 3816960111, 3832820671, 4017119917, 4074385931, 4100593439, 4151569401, 4443664553, 4481544782, 4488837609, 4509480776, 4554821349, 4625578503, 4646292867, 4663235737, 4713240632, 4840069687, 4862586001, 4862920237, 5038138708, 5089502522, 5110518099, 1293745646, 1522246751, 1670301878, 1848656363, 2106963643, 2279280705, 2508553230, 2770898143, 3023016905, 3217148733]\n"
     ]
    },
    {
     "name": "stderr",
     "output_type": "stream",
     "text": [
      "\r",
      "Loading through DICOM files:   0%|                        | 0/4 [00:00<?, ?it/s]"
     ]
    },
    {
     "name": "stdout",
     "output_type": "stream",
     "text": [
      "Loading from ../data/DICOMs/R01/3962148532/RTDOSE\n",
      "Loading from ../data/DICOMs/R01/3962148532/CT\n",
      "Loading from ../data/DICOMs/R01/3962148532/RTSTRUCT\n",
      "Loading from ../data/DICOMs/R01/3962148532/RTPLAN\n"
     ]
    },
    {
     "name": "stderr",
     "output_type": "stream",
     "text": [
      "Loading through DICOM files: 100%|████████████████| 4/4 [00:03<00:00,  1.30it/s]\n"
     ]
    },
    {
     "name": "stdout",
     "output_type": "stream",
     "text": [
      "Compiling dictionaries together...\n",
      "Index 0, description O-MAR  at ../data/DICOMs/R01/3962148532/CT\n",
      "1 unique series IDs were found. Default is index 0, to change use set_index(index)\n",
      "Loading images for O-MAR  at \n",
      " ../data/DICOMs/R01/3962148532/CT\n",
      "\n",
      "3962148532 done 0 of 1\n",
      "3962148532 done 0 of 1\n",
      "3962148532 done 0 of 1\n",
      "finshed ids [1173728658, 1178044145, 1194116893, 1235569621, 1265845118, 1269213210, 1276736352, 2774318802, 2776638846, 2803120404, 2804890849, 2815583275, 2817169157, 2843895295, 2865890865, 2867468906, 2875588687, 2883823678, 2889102751, 2894996073, 2908060983, 2929571068, 2932807221, 2939740989, 2983776095, 2989874876, 3028333367, 3035721150, 3045110595, 3045556976, 3045918834, 3049758970, 3071491330, 3077525807, 3081060090, 3099145083, 3100266114, 3108161676, 3125978990, 3151449158, 3192749693, 3192926363, 3194171650, 3196236080, 3205005928, 3225956079, 3235750820, 3239454379, 3256350141, 3283538700, 3316448321, 3321571409, 3327830751, 3346286228, 3355839884, 3366888610, 3370207907, 3383739521, 3442548822, 3514335131, 3563849182, 3694073920, 3816960111, 3832820671, 4017119917, 4074385931, 4100593439, 4151569401, 4443664553, 4481544782, 4488837609, 4509480776, 4554821349, 4625578503, 4646292867, 4663235737, 4713240632, 4840069687, 4862586001, 4862920237, 5038138708, 5089502522, 5110518099, 1293745646, 1522246751, 1670301878, 1848656363, 2106963643, 2279280705, 2508553230, 2770898143, 3023016905, 3217148733, 3962148532]\n"
     ]
    },
    {
     "name": "stderr",
     "output_type": "stream",
     "text": [
      "\r",
      "Loading through DICOM files:   0%|                        | 0/4 [00:00<?, ?it/s]"
     ]
    },
    {
     "name": "stdout",
     "output_type": "stream",
     "text": [
      "Loading from ../data/DICOMs/R01/5211387293/RTSTRUCT\n",
      "Loading from ../data/DICOMs/R01/5211387293/CT\n",
      "Loading from ../data/DICOMs/R01/5211387293/RTPLAN\n",
      "Loading from ../data/DICOMs/R01/5211387293/RTDOSE\n"
     ]
    },
    {
     "name": "stderr",
     "output_type": "stream",
     "text": [
      "Loading through DICOM files: 100%|████████████████| 4/4 [00:02<00:00,  1.60it/s]\n"
     ]
    },
    {
     "name": "stdout",
     "output_type": "stream",
     "text": [
      "Compiling dictionaries together...\n",
      "Index 0, description  at ../data/DICOMs/R01/5211387293/CT\n",
      "1 unique series IDs were found. Default is index 0, to change use set_index(index)\n",
      "Loading images for  at \n",
      " ../data/DICOMs/R01/5211387293/CT\n",
      "\n",
      "5211387293 done 0 of 1\n",
      "5211387293 done 0 of 1\n",
      "5211387293 done 0 of 1\n",
      "finshed ids [1173728658, 1178044145, 1194116893, 1235569621, 1265845118, 1269213210, 1276736352, 2774318802, 2776638846, 2803120404, 2804890849, 2815583275, 2817169157, 2843895295, 2865890865, 2867468906, 2875588687, 2883823678, 2889102751, 2894996073, 2908060983, 2929571068, 2932807221, 2939740989, 2983776095, 2989874876, 3028333367, 3035721150, 3045110595, 3045556976, 3045918834, 3049758970, 3071491330, 3077525807, 3081060090, 3099145083, 3100266114, 3108161676, 3125978990, 3151449158, 3192749693, 3192926363, 3194171650, 3196236080, 3205005928, 3225956079, 3235750820, 3239454379, 3256350141, 3283538700, 3316448321, 3321571409, 3327830751, 3346286228, 3355839884, 3366888610, 3370207907, 3383739521, 3442548822, 3514335131, 3563849182, 3694073920, 3816960111, 3832820671, 4017119917, 4074385931, 4100593439, 4151569401, 4443664553, 4481544782, 4488837609, 4509480776, 4554821349, 4625578503, 4646292867, 4663235737, 4713240632, 4840069687, 4862586001, 4862920237, 5038138708, 5089502522, 5110518099, 1293745646, 1522246751, 1670301878, 1848656363, 2106963643, 2279280705, 2508553230, 2770898143, 3023016905, 3217148733, 3962148532, 5211387293]\n"
     ]
    },
    {
     "name": "stderr",
     "output_type": "stream",
     "text": [
      "\r",
      "Loading through DICOM files:   0%|                        | 0/4 [00:00<?, ?it/s]"
     ]
    },
    {
     "name": "stdout",
     "output_type": "stream",
     "text": [
      "Loading from ../data/DICOMs/R01/7291736302/RTSTRUCT\n",
      "Loading from ../data/DICOMs/R01/7291736302/RTDOSE\n",
      "Loading from ../data/DICOMs/R01/7291736302/RTPLAN\n",
      "Loading from ../data/DICOMs/R01/7291736302/CT\n"
     ]
    },
    {
     "name": "stderr",
     "output_type": "stream",
     "text": [
      "Loading through DICOM files: 100%|████████████████| 4/4 [00:02<00:00,  1.80it/s]\n"
     ]
    },
    {
     "name": "stdout",
     "output_type": "stream",
     "text": [
      "Compiling dictionaries together...\n",
      "Index 0, description  at ../data/DICOMs/R01/7291736302/CT\n",
      "1 unique series IDs were found. Default is index 0, to change use set_index(index)\n",
      "Loading images for  at \n",
      " ../data/DICOMs/R01/7291736302/CT\n",
      "\n",
      "7291736302 done 0 of 1\n",
      "7291736302 done 0 of 1\n",
      "7291736302 done 0 of 1\n",
      "finshed ids [1173728658, 1178044145, 1194116893, 1235569621, 1265845118, 1269213210, 1276736352, 2774318802, 2776638846, 2803120404, 2804890849, 2815583275, 2817169157, 2843895295, 2865890865, 2867468906, 2875588687, 2883823678, 2889102751, 2894996073, 2908060983, 2929571068, 2932807221, 2939740989, 2983776095, 2989874876, 3028333367, 3035721150, 3045110595, 3045556976, 3045918834, 3049758970, 3071491330, 3077525807, 3081060090, 3099145083, 3100266114, 3108161676, 3125978990, 3151449158, 3192749693, 3192926363, 3194171650, 3196236080, 3205005928, 3225956079, 3235750820, 3239454379, 3256350141, 3283538700, 3316448321, 3321571409, 3327830751, 3346286228, 3355839884, 3366888610, 3370207907, 3383739521, 3442548822, 3514335131, 3563849182, 3694073920, 3816960111, 3832820671, 4017119917, 4074385931, 4100593439, 4151569401, 4443664553, 4481544782, 4488837609, 4509480776, 4554821349, 4625578503, 4646292867, 4663235737, 4713240632, 4840069687, 4862586001, 4862920237, 5038138708, 5089502522, 5110518099, 1293745646, 1522246751, 1670301878, 1848656363, 2106963643, 2279280705, 2508553230, 2770898143, 3023016905, 3217148733, 3962148532, 5211387293, 7291736302]\n"
     ]
    },
    {
     "name": "stderr",
     "output_type": "stream",
     "text": [
      "Loading through DICOM files:  25%|████            | 1/4 [00:00<00:00,  9.59it/s]"
     ]
    },
    {
     "name": "stdout",
     "output_type": "stream",
     "text": [
      "Loading from ../data/DICOMs/R01/5367270807/CT\n",
      "Loading from ../data/DICOMs/R01/5367270807/RTDOSELoading from ../data/DICOMs/R01/5367270807/RTPLANLoading from ../data/DICOMs/R01/5367270807/RTSTRUCT\n",
      "\n",
      "\n"
     ]
    },
    {
     "name": "stderr",
     "output_type": "stream",
     "text": [
      "Loading through DICOM files: 100%|████████████████| 4/4 [00:04<00:00,  1.08s/it]\n"
     ]
    },
    {
     "name": "stdout",
     "output_type": "stream",
     "text": [
      "Compiling dictionaries together...\n",
      "Index 0, description  at ../data/DICOMs/R01/5367270807/CT\n",
      "1 unique series IDs were found. Default is index 0, to change use set_index(index)\n",
      "Loading images for  at \n",
      " ../data/DICOMs/R01/5367270807/CT\n",
      "\n",
      "5367270807 done 0 of 1\n",
      "5367270807 done 0 of 1\n",
      "5367270807 done 0 of 1\n",
      "finshed ids [1173728658, 1178044145, 1194116893, 1235569621, 1265845118, 1269213210, 1276736352, 2774318802, 2776638846, 2803120404, 2804890849, 2815583275, 2817169157, 2843895295, 2865890865, 2867468906, 2875588687, 2883823678, 2889102751, 2894996073, 2908060983, 2929571068, 2932807221, 2939740989, 2983776095, 2989874876, 3028333367, 3035721150, 3045110595, 3045556976, 3045918834, 3049758970, 3071491330, 3077525807, 3081060090, 3099145083, 3100266114, 3108161676, 3125978990, 3151449158, 3192749693, 3192926363, 3194171650, 3196236080, 3205005928, 3225956079, 3235750820, 3239454379, 3256350141, 3283538700, 3316448321, 3321571409, 3327830751, 3346286228, 3355839884, 3366888610, 3370207907, 3383739521, 3442548822, 3514335131, 3563849182, 3694073920, 3816960111, 3832820671, 4017119917, 4074385931, 4100593439, 4151569401, 4443664553, 4481544782, 4488837609, 4509480776, 4554821349, 4625578503, 4646292867, 4663235737, 4713240632, 4840069687, 4862586001, 4862920237, 5038138708, 5089502522, 5110518099, 1293745646, 1522246751, 1670301878, 1848656363, 2106963643, 2279280705, 2508553230, 2770898143, 3023016905, 3217148733, 3962148532, 5211387293, 7291736302, 5367270807]\n"
     ]
    },
    {
     "name": "stderr",
     "output_type": "stream",
     "text": [
      "\r",
      "Loading through DICOM files:   0%|                        | 0/4 [00:00<?, ?it/s]"
     ]
    },
    {
     "name": "stdout",
     "output_type": "stream",
     "text": [
      "Loading from ../data/DICOMs/R01/5618650917/RTSTRUCT\n",
      "Loading from ../data/DICOMs/R01/5618650917/RTPLAN\n",
      "Loading from ../data/DICOMs/R01/5618650917/CT\n",
      "Loading from ../data/DICOMs/R01/5618650917/RTDOSE\n"
     ]
    },
    {
     "name": "stderr",
     "output_type": "stream",
     "text": [
      "Loading through DICOM files: 100%|████████████████| 4/4 [00:02<00:00,  1.86it/s]\n"
     ]
    },
    {
     "name": "stdout",
     "output_type": "stream",
     "text": [
      "Compiling dictionaries together...\n",
      "Index 0, description  at ../data/DICOMs/R01/5618650917/CT\n",
      "1 unique series IDs were found. Default is index 0, to change use set_index(index)\n",
      "Loading images for  at \n",
      " ../data/DICOMs/R01/5618650917/CT\n",
      "\n",
      "5618650917 done 0 of 1\n",
      "5618650917 done 0 of 1\n",
      "5618650917 done 0 of 1\n",
      "finshed ids [1173728658, 1178044145, 1194116893, 1235569621, 1265845118, 1269213210, 1276736352, 2774318802, 2776638846, 2803120404, 2804890849, 2815583275, 2817169157, 2843895295, 2865890865, 2867468906, 2875588687, 2883823678, 2889102751, 2894996073, 2908060983, 2929571068, 2932807221, 2939740989, 2983776095, 2989874876, 3028333367, 3035721150, 3045110595, 3045556976, 3045918834, 3049758970, 3071491330, 3077525807, 3081060090, 3099145083, 3100266114, 3108161676, 3125978990, 3151449158, 3192749693, 3192926363, 3194171650, 3196236080, 3205005928, 3225956079, 3235750820, 3239454379, 3256350141, 3283538700, 3316448321, 3321571409, 3327830751, 3346286228, 3355839884, 3366888610, 3370207907, 3383739521, 3442548822, 3514335131, 3563849182, 3694073920, 3816960111, 3832820671, 4017119917, 4074385931, 4100593439, 4151569401, 4443664553, 4481544782, 4488837609, 4509480776, 4554821349, 4625578503, 4646292867, 4663235737, 4713240632, 4840069687, 4862586001, 4862920237, 5038138708, 5089502522, 5110518099, 1293745646, 1522246751, 1670301878, 1848656363, 2106963643, 2279280705, 2508553230, 2770898143, 3023016905, 3217148733, 3962148532, 5211387293, 7291736302, 5367270807, 5618650917]\n"
     ]
    },
    {
     "name": "stderr",
     "output_type": "stream",
     "text": [
      "\r",
      "Loading through DICOM files:   0%|                        | 0/4 [00:00<?, ?it/s]"
     ]
    },
    {
     "name": "stdout",
     "output_type": "stream",
     "text": [
      "Loading from ../data/DICOMs/R01/5709953389/RTDOSE\n",
      "Loading from ../data/DICOMs/R01/5709953389/RTSTRUCT\n",
      "Loading from ../data/DICOMs/R01/5709953389/RTPLANLoading from ../data/DICOMs/R01/5709953389/CT\n",
      "\n"
     ]
    },
    {
     "name": "stderr",
     "output_type": "stream",
     "text": [
      "Loading through DICOM files: 100%|████████████████| 4/4 [00:02<00:00,  1.97it/s]\n"
     ]
    },
    {
     "name": "stdout",
     "output_type": "stream",
     "text": [
      "Compiling dictionaries together...\n",
      "Index 0, description O-MAR  at ../data/DICOMs/R01/5709953389/CT\n",
      "1 unique series IDs were found. Default is index 0, to change use set_index(index)\n",
      "Loading images for O-MAR  at \n",
      " ../data/DICOMs/R01/5709953389/CT\n",
      "\n",
      "5709953389 done 0 of 1\n",
      "5709953389 done 0 of 1\n",
      "5709953389 done 0 of 1\n",
      "finshed ids [1173728658, 1178044145, 1194116893, 1235569621, 1265845118, 1269213210, 1276736352, 2774318802, 2776638846, 2803120404, 2804890849, 2815583275, 2817169157, 2843895295, 2865890865, 2867468906, 2875588687, 2883823678, 2889102751, 2894996073, 2908060983, 2929571068, 2932807221, 2939740989, 2983776095, 2989874876, 3028333367, 3035721150, 3045110595, 3045556976, 3045918834, 3049758970, 3071491330, 3077525807, 3081060090, 3099145083, 3100266114, 3108161676, 3125978990, 3151449158, 3192749693, 3192926363, 3194171650, 3196236080, 3205005928, 3225956079, 3235750820, 3239454379, 3256350141, 3283538700, 3316448321, 3321571409, 3327830751, 3346286228, 3355839884, 3366888610, 3370207907, 3383739521, 3442548822, 3514335131, 3563849182, 3694073920, 3816960111, 3832820671, 4017119917, 4074385931, 4100593439, 4151569401, 4443664553, 4481544782, 4488837609, 4509480776, 4554821349, 4625578503, 4646292867, 4663235737, 4713240632, 4840069687, 4862586001, 4862920237, 5038138708, 5089502522, 5110518099, 1293745646, 1522246751, 1670301878, 1848656363, 2106963643, 2279280705, 2508553230, 2770898143, 3023016905, 3217148733, 3962148532, 5211387293, 7291736302, 5367270807, 5618650917, 5709953389]\n"
     ]
    },
    {
     "name": "stderr",
     "output_type": "stream",
     "text": [
      "\r",
      "Loading through DICOM files:   0%|                        | 0/4 [00:00<?, ?it/s]"
     ]
    },
    {
     "name": "stdout",
     "output_type": "stream",
     "text": [
      "Loading from ../data/DICOMs/R01/5751912329/CT\n",
      "Loading from ../data/DICOMs/R01/5751912329/RTSTRUCT\n",
      "Loading from ../data/DICOMs/R01/5751912329/RTPLAN\n",
      "Loading from ../data/DICOMs/R01/5751912329/RTDOSE\n"
     ]
    },
    {
     "name": "stderr",
     "output_type": "stream",
     "text": [
      "Loading through DICOM files: 100%|████████████████| 4/4 [00:03<00:00,  1.08it/s]\n"
     ]
    },
    {
     "name": "stdout",
     "output_type": "stream",
     "text": [
      "Compiling dictionaries together...\n",
      "Index 0, description  at ../data/DICOMs/R01/5751912329/CT\n",
      "1 unique series IDs were found. Default is index 0, to change use set_index(index)\n",
      "Loading images for  at \n",
      " ../data/DICOMs/R01/5751912329/CT\n",
      "\n",
      "5751912329 done 0 of 1\n",
      "5751912329 done 0 of 1\n",
      "5751912329 done 0 of 1\n",
      "finshed ids [1173728658, 1178044145, 1194116893, 1235569621, 1265845118, 1269213210, 1276736352, 2774318802, 2776638846, 2803120404, 2804890849, 2815583275, 2817169157, 2843895295, 2865890865, 2867468906, 2875588687, 2883823678, 2889102751, 2894996073, 2908060983, 2929571068, 2932807221, 2939740989, 2983776095, 2989874876, 3028333367, 3035721150, 3045110595, 3045556976, 3045918834, 3049758970, 3071491330, 3077525807, 3081060090, 3099145083, 3100266114, 3108161676, 3125978990, 3151449158, 3192749693, 3192926363, 3194171650, 3196236080, 3205005928, 3225956079, 3235750820, 3239454379, 3256350141, 3283538700, 3316448321, 3321571409, 3327830751, 3346286228, 3355839884, 3366888610, 3370207907, 3383739521, 3442548822, 3514335131, 3563849182, 3694073920, 3816960111, 3832820671, 4017119917, 4074385931, 4100593439, 4151569401, 4443664553, 4481544782, 4488837609, 4509480776, 4554821349, 4625578503, 4646292867, 4663235737, 4713240632, 4840069687, 4862586001, 4862920237, 5038138708, 5089502522, 5110518099, 1293745646, 1522246751, 1670301878, 1848656363, 2106963643, 2279280705, 2508553230, 2770898143, 3023016905, 3217148733, 3962148532, 5211387293, 7291736302, 5367270807, 5618650917, 5709953389, 5751912329]\n"
     ]
    },
    {
     "name": "stderr",
     "output_type": "stream",
     "text": [
      "\r",
      "Loading through DICOM files:   0%|                        | 0/4 [00:00<?, ?it/s]"
     ]
    },
    {
     "name": "stdout",
     "output_type": "stream",
     "text": [
      "Loading from ../data/DICOMs/R01/5778599178/CT\n",
      "Loading from ../data/DICOMs/R01/5778599178/RTDOSE\n",
      "Loading from ../data/DICOMs/R01/5778599178/RTPLANLoading from ../data/DICOMs/R01/5778599178/RTSTRUCT\n",
      "\n"
     ]
    },
    {
     "name": "stderr",
     "output_type": "stream",
     "text": [
      "Loading through DICOM files: 100%|████████████████| 4/4 [00:02<00:00,  1.50it/s]\n"
     ]
    },
    {
     "name": "stdout",
     "output_type": "stream",
     "text": [
      "Compiling dictionaries together...\n",
      "Index 0, description  at ../data/DICOMs/R01/5778599178/CT\n",
      "1 unique series IDs were found. Default is index 0, to change use set_index(index)\n",
      "Loading images for  at \n",
      " ../data/DICOMs/R01/5778599178/CT\n",
      "\n",
      "5778599178 done 0 of 1\n",
      "5778599178 done 0 of 1\n",
      "5778599178 done 0 of 1\n",
      "finshed ids [1173728658, 1178044145, 1194116893, 1235569621, 1265845118, 1269213210, 1276736352, 2774318802, 2776638846, 2803120404, 2804890849, 2815583275, 2817169157, 2843895295, 2865890865, 2867468906, 2875588687, 2883823678, 2889102751, 2894996073, 2908060983, 2929571068, 2932807221, 2939740989, 2983776095, 2989874876, 3028333367, 3035721150, 3045110595, 3045556976, 3045918834, 3049758970, 3071491330, 3077525807, 3081060090, 3099145083, 3100266114, 3108161676, 3125978990, 3151449158, 3192749693, 3192926363, 3194171650, 3196236080, 3205005928, 3225956079, 3235750820, 3239454379, 3256350141, 3283538700, 3316448321, 3321571409, 3327830751, 3346286228, 3355839884, 3366888610, 3370207907, 3383739521, 3442548822, 3514335131, 3563849182, 3694073920, 3816960111, 3832820671, 4017119917, 4074385931, 4100593439, 4151569401, 4443664553, 4481544782, 4488837609, 4509480776, 4554821349, 4625578503, 4646292867, 4663235737, 4713240632, 4840069687, 4862586001, 4862920237, 5038138708, 5089502522, 5110518099, 1293745646, 1522246751, 1670301878, 1848656363, 2106963643, 2279280705, 2508553230, 2770898143, 3023016905, 3217148733, 3962148532, 5211387293, 7291736302, 5367270807, 5618650917, 5709953389, 5751912329, 5778599178]\n"
     ]
    },
    {
     "name": "stderr",
     "output_type": "stream",
     "text": [
      "\r",
      "Loading through DICOM files:   0%|                        | 0/3 [00:00<?, ?it/s]"
     ]
    },
    {
     "name": "stdout",
     "output_type": "stream",
     "text": [
      "Loading from ../data/DICOMs/R01/5802597125/CT\n",
      "Loading from ../data/DICOMs/R01/5802597125/RTSTRUCT\n",
      "Loading from ../data/DICOMs/R01/5802597125/RTDOSE\n"
     ]
    },
    {
     "name": "stderr",
     "output_type": "stream",
     "text": [
      "Loading through DICOM files: 100%|████████████████| 3/3 [00:02<00:00,  1.27it/s]\n"
     ]
    },
    {
     "name": "stdout",
     "output_type": "stream",
     "text": [
      "Compiling dictionaries together...\n",
      "Index 0, description BOLUS  at ../data/DICOMs/R01/5802597125/CT\n",
      "1 unique series IDs were found. Default is index 0, to change use set_index(index)\n",
      "Loading images for BOLUS  at \n",
      " ../data/DICOMs/R01/5802597125/CT\n",
      "\n",
      "5802597125 done 0 of 1\n",
      "5802597125 done 0 of 1\n",
      "5802597125 done 0 of 1\n",
      "finshed ids [1173728658, 1178044145, 1194116893, 1235569621, 1265845118, 1269213210, 1276736352, 2774318802, 2776638846, 2803120404, 2804890849, 2815583275, 2817169157, 2843895295, 2865890865, 2867468906, 2875588687, 2883823678, 2889102751, 2894996073, 2908060983, 2929571068, 2932807221, 2939740989, 2983776095, 2989874876, 3028333367, 3035721150, 3045110595, 3045556976, 3045918834, 3049758970, 3071491330, 3077525807, 3081060090, 3099145083, 3100266114, 3108161676, 3125978990, 3151449158, 3192749693, 3192926363, 3194171650, 3196236080, 3205005928, 3225956079, 3235750820, 3239454379, 3256350141, 3283538700, 3316448321, 3321571409, 3327830751, 3346286228, 3355839884, 3366888610, 3370207907, 3383739521, 3442548822, 3514335131, 3563849182, 3694073920, 3816960111, 3832820671, 4017119917, 4074385931, 4100593439, 4151569401, 4443664553, 4481544782, 4488837609, 4509480776, 4554821349, 4625578503, 4646292867, 4663235737, 4713240632, 4840069687, 4862586001, 4862920237, 5038138708, 5089502522, 5110518099, 1293745646, 1522246751, 1670301878, 1848656363, 2106963643, 2279280705, 2508553230, 2770898143, 3023016905, 3217148733, 3962148532, 5211387293, 7291736302, 5367270807, 5618650917, 5709953389, 5751912329, 5778599178, 5802597125]\n"
     ]
    },
    {
     "name": "stderr",
     "output_type": "stream",
     "text": [
      "\r",
      "Loading through DICOM files:   0%|                        | 0/4 [00:00<?, ?it/s]"
     ]
    },
    {
     "name": "stdout",
     "output_type": "stream",
     "text": [
      "Loading from ../data/DICOMs/R01/5826154886/RTSTRUCT\n",
      "Loading from ../data/DICOMs/R01/5826154886/CT\n",
      "Loading from ../data/DICOMs/R01/5826154886/RTDOSE\n",
      "Loading from ../data/DICOMs/R01/5826154886/RTPLAN\n"
     ]
    },
    {
     "name": "stderr",
     "output_type": "stream",
     "text": [
      "Loading through DICOM files: 100%|████████████████| 4/4 [00:03<00:00,  1.25it/s]\n"
     ]
    },
    {
     "name": "stdout",
     "output_type": "stream",
     "text": [
      "Compiling dictionaries together...\n",
      "Index 0, description O-MAR  at ../data/DICOMs/R01/5826154886/CT\n",
      "1 unique series IDs were found. Default is index 0, to change use set_index(index)\n",
      "Loading images for O-MAR  at \n",
      " ../data/DICOMs/R01/5826154886/CT\n",
      "\n",
      "5826154886 done 0 of 1\n",
      "5826154886 done 0 of 1\n",
      "5826154886 done 0 of 1\n",
      "finshed ids [1173728658, 1178044145, 1194116893, 1235569621, 1265845118, 1269213210, 1276736352, 2774318802, 2776638846, 2803120404, 2804890849, 2815583275, 2817169157, 2843895295, 2865890865, 2867468906, 2875588687, 2883823678, 2889102751, 2894996073, 2908060983, 2929571068, 2932807221, 2939740989, 2983776095, 2989874876, 3028333367, 3035721150, 3045110595, 3045556976, 3045918834, 3049758970, 3071491330, 3077525807, 3081060090, 3099145083, 3100266114, 3108161676, 3125978990, 3151449158, 3192749693, 3192926363, 3194171650, 3196236080, 3205005928, 3225956079, 3235750820, 3239454379, 3256350141, 3283538700, 3316448321, 3321571409, 3327830751, 3346286228, 3355839884, 3366888610, 3370207907, 3383739521, 3442548822, 3514335131, 3563849182, 3694073920, 3816960111, 3832820671, 4017119917, 4074385931, 4100593439, 4151569401, 4443664553, 4481544782, 4488837609, 4509480776, 4554821349, 4625578503, 4646292867, 4663235737, 4713240632, 4840069687, 4862586001, 4862920237, 5038138708, 5089502522, 5110518099, 1293745646, 1522246751, 1670301878, 1848656363, 2106963643, 2279280705, 2508553230, 2770898143, 3023016905, 3217148733, 3962148532, 5211387293, 7291736302, 5367270807, 5618650917, 5709953389, 5751912329, 5778599178, 5802597125, 5826154886]\n"
     ]
    },
    {
     "name": "stderr",
     "output_type": "stream",
     "text": [
      "Loading through DICOM files:  25%|████            | 1/4 [00:00<00:00,  8.73it/s]"
     ]
    },
    {
     "name": "stdout",
     "output_type": "stream",
     "text": [
      "Loading from ../data/DICOMs/R01/5968002865/RTDOSE\n",
      "Loading from ../data/DICOMs/R01/5968002865/CT\n",
      "Loading from ../data/DICOMs/R01/5968002865/RTSTRUCT\n",
      "Loading from ../data/DICOMs/R01/5968002865/RTPLAN\n"
     ]
    },
    {
     "name": "stderr",
     "output_type": "stream",
     "text": [
      "Loading through DICOM files: 100%|████████████████| 4/4 [00:02<00:00,  1.90it/s]\n"
     ]
    },
    {
     "name": "stdout",
     "output_type": "stream",
     "text": [
      "Compiling dictionaries together...\n",
      "Index 0, description O-MAR  at ../data/DICOMs/R01/5968002865/CT\n",
      "1 unique series IDs were found. Default is index 0, to change use set_index(index)\n",
      "Loading images for O-MAR  at \n",
      " ../data/DICOMs/R01/5968002865/CT\n",
      "\n",
      "5968002865 done 0 of 1\n",
      "5968002865 done 0 of 1\n",
      "5968002865 done 0 of 1\n",
      "finshed ids [1173728658, 1178044145, 1194116893, 1235569621, 1265845118, 1269213210, 1276736352, 2774318802, 2776638846, 2803120404, 2804890849, 2815583275, 2817169157, 2843895295, 2865890865, 2867468906, 2875588687, 2883823678, 2889102751, 2894996073, 2908060983, 2929571068, 2932807221, 2939740989, 2983776095, 2989874876, 3028333367, 3035721150, 3045110595, 3045556976, 3045918834, 3049758970, 3071491330, 3077525807, 3081060090, 3099145083, 3100266114, 3108161676, 3125978990, 3151449158, 3192749693, 3192926363, 3194171650, 3196236080, 3205005928, 3225956079, 3235750820, 3239454379, 3256350141, 3283538700, 3316448321, 3321571409, 3327830751, 3346286228, 3355839884, 3366888610, 3370207907, 3383739521, 3442548822, 3514335131, 3563849182, 3694073920, 3816960111, 3832820671, 4017119917, 4074385931, 4100593439, 4151569401, 4443664553, 4481544782, 4488837609, 4509480776, 4554821349, 4625578503, 4646292867, 4663235737, 4713240632, 4840069687, 4862586001, 4862920237, 5038138708, 5089502522, 5110518099, 1293745646, 1522246751, 1670301878, 1848656363, 2106963643, 2279280705, 2508553230, 2770898143, 3023016905, 3217148733, 3962148532, 5211387293, 7291736302, 5367270807, 5618650917, 5709953389, 5751912329, 5778599178, 5802597125, 5826154886, 5968002865]\n"
     ]
    },
    {
     "name": "stderr",
     "output_type": "stream",
     "text": [
      "\r",
      "Loading through DICOM files:   0%|                        | 0/4 [00:00<?, ?it/s]"
     ]
    },
    {
     "name": "stdout",
     "output_type": "stream",
     "text": [
      "Loading from ../data/DICOMs/R01/6060411302/RTPLAN\n",
      "Loading from ../data/DICOMs/R01/6060411302/RTSTRUCT\n",
      "Loading from ../data/DICOMs/R01/6060411302/RTDOSELoading from ../data/DICOMs/R01/6060411302/CT\n",
      "\n"
     ]
    },
    {
     "name": "stderr",
     "output_type": "stream",
     "text": [
      "Loading through DICOM files: 100%|████████████████| 4/4 [00:03<00:00,  1.08it/s]\n"
     ]
    },
    {
     "name": "stdout",
     "output_type": "stream",
     "text": [
      "Compiling dictionaries together...\n",
      "Index 0, description Head and Neck  at ../data/DICOMs/R01/6060411302/CT\n",
      "1 unique series IDs were found. Default is index 0, to change use set_index(index)\n",
      "Loading images for Head and Neck  at \n",
      " ../data/DICOMs/R01/6060411302/CT\n",
      "\n",
      "error in contours_to_mask 'Dataset' object has no attribute 'ContourSequence'\n",
      "6060411302 done 0 of 1\n",
      "6060411302 done 0 of 1\n",
      "6060411302 done 0 of 1\n",
      "finshed ids [1173728658, 1178044145, 1194116893, 1235569621, 1265845118, 1269213210, 1276736352, 2774318802, 2776638846, 2803120404, 2804890849, 2815583275, 2817169157, 2843895295, 2865890865, 2867468906, 2875588687, 2883823678, 2889102751, 2894996073, 2908060983, 2929571068, 2932807221, 2939740989, 2983776095, 2989874876, 3028333367, 3035721150, 3045110595, 3045556976, 3045918834, 3049758970, 3071491330, 3077525807, 3081060090, 3099145083, 3100266114, 3108161676, 3125978990, 3151449158, 3192749693, 3192926363, 3194171650, 3196236080, 3205005928, 3225956079, 3235750820, 3239454379, 3256350141, 3283538700, 3316448321, 3321571409, 3327830751, 3346286228, 3355839884, 3366888610, 3370207907, 3383739521, 3442548822, 3514335131, 3563849182, 3694073920, 3816960111, 3832820671, 4017119917, 4074385931, 4100593439, 4151569401, 4443664553, 4481544782, 4488837609, 4509480776, 4554821349, 4625578503, 4646292867, 4663235737, 4713240632, 4840069687, 4862586001, 4862920237, 5038138708, 5089502522, 5110518099, 1293745646, 1522246751, 1670301878, 1848656363, 2106963643, 2279280705, 2508553230, 2770898143, 3023016905, 3217148733, 3962148532, 5211387293, 7291736302, 5367270807, 5618650917, 5709953389, 5751912329, 5778599178, 5802597125, 5826154886, 5968002865, 6060411302]\n"
     ]
    },
    {
     "name": "stderr",
     "output_type": "stream",
     "text": [
      "\r",
      "Loading through DICOM files:   0%|                        | 0/4 [00:00<?, ?it/s]"
     ]
    },
    {
     "name": "stdout",
     "output_type": "stream",
     "text": [
      "Loading from ../data/DICOMs/R01/6321133829/CT\n",
      "Loading from ../data/DICOMs/R01/6321133829/RTPLAN\n",
      "Loading from ../data/DICOMs/R01/6321133829/RTSTRUCT\n",
      "Loading from ../data/DICOMs/R01/6321133829/RTDOSE\n"
     ]
    },
    {
     "name": "stderr",
     "output_type": "stream",
     "text": [
      "Loading through DICOM files: 100%|████████████████| 4/4 [00:03<00:00,  1.26it/s]\n"
     ]
    },
    {
     "name": "stdout",
     "output_type": "stream",
     "text": [
      "Compiling dictionaries together...\n",
      "Index 0, description None at ../data/DICOMs/R01/6321133829/CT\n",
      "1 unique series IDs were found. Default is index 0, to change use set_index(index)\n",
      "Loading images for None at \n",
      " ../data/DICOMs/R01/6321133829/CT\n",
      "\n",
      "6321133829 done 0 of 1\n",
      "6321133829 done 0 of 1\n",
      "error in contours_to_mask 'Dataset' object has no attribute 'ContourSequence'\n",
      "6321133829 done 0 of 1\n",
      "finshed ids [1173728658, 1178044145, 1194116893, 1235569621, 1265845118, 1269213210, 1276736352, 2774318802, 2776638846, 2803120404, 2804890849, 2815583275, 2817169157, 2843895295, 2865890865, 2867468906, 2875588687, 2883823678, 2889102751, 2894996073, 2908060983, 2929571068, 2932807221, 2939740989, 2983776095, 2989874876, 3028333367, 3035721150, 3045110595, 3045556976, 3045918834, 3049758970, 3071491330, 3077525807, 3081060090, 3099145083, 3100266114, 3108161676, 3125978990, 3151449158, 3192749693, 3192926363, 3194171650, 3196236080, 3205005928, 3225956079, 3235750820, 3239454379, 3256350141, 3283538700, 3316448321, 3321571409, 3327830751, 3346286228, 3355839884, 3366888610, 3370207907, 3383739521, 3442548822, 3514335131, 3563849182, 3694073920, 3816960111, 3832820671, 4017119917, 4074385931, 4100593439, 4151569401, 4443664553, 4481544782, 4488837609, 4509480776, 4554821349, 4625578503, 4646292867, 4663235737, 4713240632, 4840069687, 4862586001, 4862920237, 5038138708, 5089502522, 5110518099, 1293745646, 1522246751, 1670301878, 1848656363, 2106963643, 2279280705, 2508553230, 2770898143, 3023016905, 3217148733, 3962148532, 5211387293, 7291736302, 5367270807, 5618650917, 5709953389, 5751912329, 5778599178, 5802597125, 5826154886, 5968002865, 6060411302, 6321133829]\n"
     ]
    },
    {
     "name": "stderr",
     "output_type": "stream",
     "text": [
      "\r",
      "Loading through DICOM files:   0%|                        | 0/4 [00:00<?, ?it/s]"
     ]
    },
    {
     "name": "stdout",
     "output_type": "stream",
     "text": [
      "Loading from ../data/DICOMs/R01/6345257124/RTPLAN\n",
      "Loading from ../data/DICOMs/R01/6345257124/RTDOSE\n",
      "Loading from ../data/DICOMs/R01/6345257124/CT\n",
      "Loading from ../data/DICOMs/R01/6345257124/RTSTRUCT\n"
     ]
    },
    {
     "name": "stderr",
     "output_type": "stream",
     "text": [
      "Loading through DICOM files: 100%|████████████████| 4/4 [00:06<00:00,  1.65s/it]\n"
     ]
    },
    {
     "name": "stdout",
     "output_type": "stream",
     "text": [
      "Compiling dictionaries together...\n",
      "Index 0, description  at ../data/DICOMs/R01/6345257124/CT\n",
      "1 unique series IDs were found. Default is index 0, to change use set_index(index)\n",
      "Loading images for  at \n",
      " ../data/DICOMs/R01/6345257124/CT\n",
      "\n",
      "error in contours_to_mask 'Dataset' object has no attribute 'ContourSequence'\n",
      "error in contours_to_mask 'Dataset' object has no attribute 'ContourSequence'\n",
      "6345257124 done 0 of 1\n",
      "6345257124 done 0 of 1\n",
      "6345257124 done 0 of 1\n",
      "finshed ids [1173728658, 1178044145, 1194116893, 1235569621, 1265845118, 1269213210, 1276736352, 2774318802, 2776638846, 2803120404, 2804890849, 2815583275, 2817169157, 2843895295, 2865890865, 2867468906, 2875588687, 2883823678, 2889102751, 2894996073, 2908060983, 2929571068, 2932807221, 2939740989, 2983776095, 2989874876, 3028333367, 3035721150, 3045110595, 3045556976, 3045918834, 3049758970, 3071491330, 3077525807, 3081060090, 3099145083, 3100266114, 3108161676, 3125978990, 3151449158, 3192749693, 3192926363, 3194171650, 3196236080, 3205005928, 3225956079, 3235750820, 3239454379, 3256350141, 3283538700, 3316448321, 3321571409, 3327830751, 3346286228, 3355839884, 3366888610, 3370207907, 3383739521, 3442548822, 3514335131, 3563849182, 3694073920, 3816960111, 3832820671, 4017119917, 4074385931, 4100593439, 4151569401, 4443664553, 4481544782, 4488837609, 4509480776, 4554821349, 4625578503, 4646292867, 4663235737, 4713240632, 4840069687, 4862586001, 4862920237, 5038138708, 5089502522, 5110518099, 1293745646, 1522246751, 1670301878, 1848656363, 2106963643, 2279280705, 2508553230, 2770898143, 3023016905, 3217148733, 3962148532, 5211387293, 7291736302, 5367270807, 5618650917, 5709953389, 5751912329, 5778599178, 5802597125, 5826154886, 5968002865, 6060411302, 6321133829, 6345257124]\n"
     ]
    },
    {
     "name": "stderr",
     "output_type": "stream",
     "text": [
      "Loading through DICOM files:  25%|████            | 1/4 [00:00<00:00,  6.49it/s]"
     ]
    },
    {
     "name": "stdout",
     "output_type": "stream",
     "text": [
      "Loading from ../data/DICOMs/R01/6431977113/CT\n",
      "Loading from ../data/DICOMs/R01/6431977113/RTSTRUCT\n",
      "Loading from ../data/DICOMs/R01/6431977113/RTDOSELoading from ../data/DICOMs/R01/6431977113/RTPLAN\n",
      "\n"
     ]
    },
    {
     "name": "stderr",
     "output_type": "stream",
     "text": [
      "Loading through DICOM files: 100%|████████████████| 4/4 [00:02<00:00,  1.74it/s]\n"
     ]
    },
    {
     "name": "stdout",
     "output_type": "stream",
     "text": [
      "Compiling dictionaries together...\n",
      "Index 0, description O-MAR  at ../data/DICOMs/R01/6431977113/CT\n",
      "1 unique series IDs were found. Default is index 0, to change use set_index(index)\n",
      "Loading images for O-MAR  at \n",
      " ../data/DICOMs/R01/6431977113/CT\n",
      "\n",
      "6431977113 done 0 of 1\n",
      "6431977113 done 0 of 1\n",
      "6431977113 done 0 of 1\n",
      "finshed ids [1173728658, 1178044145, 1194116893, 1235569621, 1265845118, 1269213210, 1276736352, 2774318802, 2776638846, 2803120404, 2804890849, 2815583275, 2817169157, 2843895295, 2865890865, 2867468906, 2875588687, 2883823678, 2889102751, 2894996073, 2908060983, 2929571068, 2932807221, 2939740989, 2983776095, 2989874876, 3028333367, 3035721150, 3045110595, 3045556976, 3045918834, 3049758970, 3071491330, 3077525807, 3081060090, 3099145083, 3100266114, 3108161676, 3125978990, 3151449158, 3192749693, 3192926363, 3194171650, 3196236080, 3205005928, 3225956079, 3235750820, 3239454379, 3256350141, 3283538700, 3316448321, 3321571409, 3327830751, 3346286228, 3355839884, 3366888610, 3370207907, 3383739521, 3442548822, 3514335131, 3563849182, 3694073920, 3816960111, 3832820671, 4017119917, 4074385931, 4100593439, 4151569401, 4443664553, 4481544782, 4488837609, 4509480776, 4554821349, 4625578503, 4646292867, 4663235737, 4713240632, 4840069687, 4862586001, 4862920237, 5038138708, 5089502522, 5110518099, 1293745646, 1522246751, 1670301878, 1848656363, 2106963643, 2279280705, 2508553230, 2770898143, 3023016905, 3217148733, 3962148532, 5211387293, 7291736302, 5367270807, 5618650917, 5709953389, 5751912329, 5778599178, 5802597125, 5826154886, 5968002865, 6060411302, 6321133829, 6345257124, 6431977113]\n"
     ]
    },
    {
     "name": "stderr",
     "output_type": "stream",
     "text": [
      "\r",
      "Loading through DICOM files:   0%|                        | 0/4 [00:00<?, ?it/s]"
     ]
    },
    {
     "name": "stdout",
     "output_type": "stream",
     "text": [
      "Loading from ../data/DICOMs/R01/6460317590/RTDOSE\n",
      "Loading from ../data/DICOMs/R01/6460317590/RTSTRUCT\n",
      "Loading from ../data/DICOMs/R01/6460317590/CT\n",
      "Loading from ../data/DICOMs/R01/6460317590/RTPLAN\n"
     ]
    },
    {
     "name": "stderr",
     "output_type": "stream",
     "text": [
      "Loading through DICOM files: 100%|████████████████| 4/4 [00:04<00:00,  1.08s/it]\n"
     ]
    },
    {
     "name": "stdout",
     "output_type": "stream",
     "text": [
      "Compiling dictionaries together...\n",
      "Index 0, description Head and Neck  at ../data/DICOMs/R01/6460317590/CT\n",
      "1 unique series IDs were found. Default is index 0, to change use set_index(index)\n",
      "Loading images for Head and Neck  at \n",
      " ../data/DICOMs/R01/6460317590/CT\n",
      "\n",
      "error in contours_to_mask 'Dataset' object has no attribute 'ContourSequence'\n",
      "error in contours_to_mask 'Dataset' object has no attribute 'ContourSequence'\n",
      "error in contours_to_mask 'Dataset' object has no attribute 'ContourSequence'\n",
      "6460317590 done 0 of 1\n",
      "error in contours_to_mask 'Dataset' object has no attribute 'ContourSequence'\n",
      "6460317590 done 0 of 1\n",
      "error in contours_to_mask 'Dataset' object has no attribute 'ContourSequence'\n",
      "error in contours_to_mask 'Dataset' object has no attribute 'ContourSequence'\n",
      "error in contours_to_mask 'Dataset' object has no attribute 'ContourSequence'\n",
      "error in contours_to_mask 'Dataset' object has no attribute 'ContourSequence'\n",
      "error in contours_to_mask 'Dataset' object has no attribute 'ContourSequence'\n",
      "error in contours_to_mask 'Dataset' object has no attribute 'ContourSequence'\n",
      "error in contours_to_mask 'Dataset' object has no attribute 'ContourSequence'\n",
      "error in contours_to_mask 'Dataset' object has no attribute 'ContourSequence'\n",
      "error in contours_to_mask 'Dataset' object has no attribute 'ContourSequence'\n",
      "error in contours_to_mask 'Dataset' object has no attribute 'ContourSequence'\n",
      "6460317590 done 0 of 1\n",
      "finshed ids [1173728658, 1178044145, 1194116893, 1235569621, 1265845118, 1269213210, 1276736352, 2774318802, 2776638846, 2803120404, 2804890849, 2815583275, 2817169157, 2843895295, 2865890865, 2867468906, 2875588687, 2883823678, 2889102751, 2894996073, 2908060983, 2929571068, 2932807221, 2939740989, 2983776095, 2989874876, 3028333367, 3035721150, 3045110595, 3045556976, 3045918834, 3049758970, 3071491330, 3077525807, 3081060090, 3099145083, 3100266114, 3108161676, 3125978990, 3151449158, 3192749693, 3192926363, 3194171650, 3196236080, 3205005928, 3225956079, 3235750820, 3239454379, 3256350141, 3283538700, 3316448321, 3321571409, 3327830751, 3346286228, 3355839884, 3366888610, 3370207907, 3383739521, 3442548822, 3514335131, 3563849182, 3694073920, 3816960111, 3832820671, 4017119917, 4074385931, 4100593439, 4151569401, 4443664553, 4481544782, 4488837609, 4509480776, 4554821349, 4625578503, 4646292867, 4663235737, 4713240632, 4840069687, 4862586001, 4862920237, 5038138708, 5089502522, 5110518099, 1293745646, 1522246751, 1670301878, 1848656363, 2106963643, 2279280705, 2508553230, 2770898143, 3023016905, 3217148733, 3962148532, 5211387293, 7291736302, 5367270807, 5618650917, 5709953389, 5751912329, 5778599178, 5802597125, 5826154886, 5968002865, 6060411302, 6321133829, 6345257124, 6431977113, 6460317590]\n"
     ]
    },
    {
     "name": "stderr",
     "output_type": "stream",
     "text": [
      "Loading through DICOM files:  25%|████            | 1/4 [00:00<00:00,  7.61it/s]"
     ]
    },
    {
     "name": "stdout",
     "output_type": "stream",
     "text": [
      "Loading from ../data/DICOMs/R01/6621233113/RTDOSELoading from ../data/DICOMs/R01/6621233113/CT\n",
      "Loading from ../data/DICOMs/R01/6621233113/RTSTRUCT\n",
      "Loading from ../data/DICOMs/R01/6621233113/RTPLAN\n",
      "\n"
     ]
    },
    {
     "name": "stderr",
     "output_type": "stream",
     "text": [
      "Loading through DICOM files: 100%|████████████████| 4/4 [00:02<00:00,  1.68it/s]\n"
     ]
    },
    {
     "name": "stdout",
     "output_type": "stream",
     "text": [
      "Compiling dictionaries together...\n",
      "Index 0, description O-MAR  at ../data/DICOMs/R01/6621233113/CT\n",
      "1 unique series IDs were found. Default is index 0, to change use set_index(index)\n",
      "Loading images for O-MAR  at \n",
      " ../data/DICOMs/R01/6621233113/CT\n",
      "\n",
      "6621233113 done 0 of 1\n",
      "6621233113 done 0 of 1\n",
      "6621233113 done 0 of 1\n",
      "finshed ids [1173728658, 1178044145, 1194116893, 1235569621, 1265845118, 1269213210, 1276736352, 2774318802, 2776638846, 2803120404, 2804890849, 2815583275, 2817169157, 2843895295, 2865890865, 2867468906, 2875588687, 2883823678, 2889102751, 2894996073, 2908060983, 2929571068, 2932807221, 2939740989, 2983776095, 2989874876, 3028333367, 3035721150, 3045110595, 3045556976, 3045918834, 3049758970, 3071491330, 3077525807, 3081060090, 3099145083, 3100266114, 3108161676, 3125978990, 3151449158, 3192749693, 3192926363, 3194171650, 3196236080, 3205005928, 3225956079, 3235750820, 3239454379, 3256350141, 3283538700, 3316448321, 3321571409, 3327830751, 3346286228, 3355839884, 3366888610, 3370207907, 3383739521, 3442548822, 3514335131, 3563849182, 3694073920, 3816960111, 3832820671, 4017119917, 4074385931, 4100593439, 4151569401, 4443664553, 4481544782, 4488837609, 4509480776, 4554821349, 4625578503, 4646292867, 4663235737, 4713240632, 4840069687, 4862586001, 4862920237, 5038138708, 5089502522, 5110518099, 1293745646, 1522246751, 1670301878, 1848656363, 2106963643, 2279280705, 2508553230, 2770898143, 3023016905, 3217148733, 3962148532, 5211387293, 7291736302, 5367270807, 5618650917, 5709953389, 5751912329, 5778599178, 5802597125, 5826154886, 5968002865, 6060411302, 6321133829, 6345257124, 6431977113, 6460317590, 6621233113]\n"
     ]
    },
    {
     "name": "stderr",
     "output_type": "stream",
     "text": [
      "\r",
      "Loading through DICOM files:   0%|                        | 0/4 [00:00<?, ?it/s]"
     ]
    },
    {
     "name": "stdout",
     "output_type": "stream",
     "text": [
      "Loading from ../data/DICOMs/R01/6845023185/RTPLAN\n",
      "Loading from ../data/DICOMs/R01/6845023185/RTSTRUCT\n",
      "Loading from ../data/DICOMs/R01/6845023185/RTDOSE\n",
      "Loading from ../data/DICOMs/R01/6845023185/CT\n"
     ]
    },
    {
     "name": "stderr",
     "output_type": "stream",
     "text": [
      "Loading through DICOM files: 100%|████████████████| 4/4 [00:07<00:00,  1.78s/it]\n"
     ]
    },
    {
     "name": "stdout",
     "output_type": "stream",
     "text": [
      "Compiling dictionaries together...\n",
      "Index 0, description HighRes for DRR  at ../data/DICOMs/R01/6845023185/CT\n",
      "1 unique series IDs were found. Default is index 0, to change use set_index(index)\n",
      "Loading images for HighRes for DRR  at \n",
      " ../data/DICOMs/R01/6845023185/CT\n",
      "\n",
      "error in contours_to_mask 'Dataset' object has no attribute 'ContourSequence'\n",
      "error in contours_to_mask 'Dataset' object has no attribute 'ContourSequence'\n",
      "6845023185 done 0 of 1\n",
      "6845023185 done 0 of 1\n",
      "error in contours_to_mask 'Dataset' object has no attribute 'ContourSequence'\n",
      "error in contours_to_mask 'Dataset' object has no attribute 'ContourSequence'\n",
      "error in contours_to_mask 'Dataset' object has no attribute 'ContourSequence'\n",
      "error in contours_to_mask 'Dataset' object has no attribute 'ContourSequence'\n",
      "error in contours_to_mask 'Dataset' object has no attribute 'ContourSequence'\n",
      "error in contours_to_mask 'Dataset' object has no attribute 'ContourSequence'\n",
      "error in contours_to_mask 'Dataset' object has no attribute 'ContourSequence'\n",
      "error in contours_to_mask 'Dataset' object has no attribute 'ContourSequence'\n",
      "error in contours_to_mask 'Dataset' object has no attribute 'ContourSequence'\n",
      "error in contours_to_mask 'Dataset' object has no attribute 'ContourSequence'\n",
      "error in contours_to_mask 'Dataset' object has no attribute 'ContourSequence'\n",
      "error in contours_to_mask 'Dataset' object has no attribute 'ContourSequence'\n",
      "error in contours_to_mask 'Dataset' object has no attribute 'ContourSequence'\n",
      "error in contours_to_mask 'Dataset' object has no attribute 'ContourSequence'\n",
      "6845023185 done 0 of 1\n",
      "finshed ids [1173728658, 1178044145, 1194116893, 1235569621, 1265845118, 1269213210, 1276736352, 2774318802, 2776638846, 2803120404, 2804890849, 2815583275, 2817169157, 2843895295, 2865890865, 2867468906, 2875588687, 2883823678, 2889102751, 2894996073, 2908060983, 2929571068, 2932807221, 2939740989, 2983776095, 2989874876, 3028333367, 3035721150, 3045110595, 3045556976, 3045918834, 3049758970, 3071491330, 3077525807, 3081060090, 3099145083, 3100266114, 3108161676, 3125978990, 3151449158, 3192749693, 3192926363, 3194171650, 3196236080, 3205005928, 3225956079, 3235750820, 3239454379, 3256350141, 3283538700, 3316448321, 3321571409, 3327830751, 3346286228, 3355839884, 3366888610, 3370207907, 3383739521, 3442548822, 3514335131, 3563849182, 3694073920, 3816960111, 3832820671, 4017119917, 4074385931, 4100593439, 4151569401, 4443664553, 4481544782, 4488837609, 4509480776, 4554821349, 4625578503, 4646292867, 4663235737, 4713240632, 4840069687, 4862586001, 4862920237, 5038138708, 5089502522, 5110518099, 1293745646, 1522246751, 1670301878, 1848656363, 2106963643, 2279280705, 2508553230, 2770898143, 3023016905, 3217148733, 3962148532, 5211387293, 7291736302, 5367270807, 5618650917, 5709953389, 5751912329, 5778599178, 5802597125, 5826154886, 5968002865, 6060411302, 6321133829, 6345257124, 6431977113, 6460317590, 6621233113, 6845023185]\n"
     ]
    },
    {
     "name": "stderr",
     "output_type": "stream",
     "text": [
      "Loading through DICOM files:  33%|█████▎          | 1/3 [00:00<00:00,  7.87it/s]"
     ]
    },
    {
     "name": "stdout",
     "output_type": "stream",
     "text": [
      "Loading from ../data/DICOMs/R01/7093179577/RTSTRUCT\n",
      "Loading from ../data/DICOMs/R01/7093179577/RTDOSE\n",
      "Loading from ../data/DICOMs/R01/7093179577/CT\n"
     ]
    },
    {
     "name": "stderr",
     "output_type": "stream",
     "text": [
      "Loading through DICOM files: 100%|████████████████| 3/3 [00:02<00:00,  1.16it/s]\n"
     ]
    },
    {
     "name": "stdout",
     "output_type": "stream",
     "text": [
      "Compiling dictionaries together...\n",
      "Index 0, description None at ../data/DICOMs/R01/7093179577/CT\n",
      "1 unique series IDs were found. Default is index 0, to change use set_index(index)\n",
      "Loading images for None at \n",
      " ../data/DICOMs/R01/7093179577/CT\n",
      "\n",
      "7093179577 done 0 of 1\n",
      "7093179577 done 0 of 1\n",
      "7093179577 done 0 of 1\n",
      "finshed ids [1173728658, 1178044145, 1194116893, 1235569621, 1265845118, 1269213210, 1276736352, 2774318802, 2776638846, 2803120404, 2804890849, 2815583275, 2817169157, 2843895295, 2865890865, 2867468906, 2875588687, 2883823678, 2889102751, 2894996073, 2908060983, 2929571068, 2932807221, 2939740989, 2983776095, 2989874876, 3028333367, 3035721150, 3045110595, 3045556976, 3045918834, 3049758970, 3071491330, 3077525807, 3081060090, 3099145083, 3100266114, 3108161676, 3125978990, 3151449158, 3192749693, 3192926363, 3194171650, 3196236080, 3205005928, 3225956079, 3235750820, 3239454379, 3256350141, 3283538700, 3316448321, 3321571409, 3327830751, 3346286228, 3355839884, 3366888610, 3370207907, 3383739521, 3442548822, 3514335131, 3563849182, 3694073920, 3816960111, 3832820671, 4017119917, 4074385931, 4100593439, 4151569401, 4443664553, 4481544782, 4488837609, 4509480776, 4554821349, 4625578503, 4646292867, 4663235737, 4713240632, 4840069687, 4862586001, 4862920237, 5038138708, 5089502522, 5110518099, 1293745646, 1522246751, 1670301878, 1848656363, 2106963643, 2279280705, 2508553230, 2770898143, 3023016905, 3217148733, 3962148532, 5211387293, 7291736302, 5367270807, 5618650917, 5709953389, 5751912329, 5778599178, 5802597125, 5826154886, 5968002865, 6060411302, 6321133829, 6345257124, 6431977113, 6460317590, 6621233113, 6845023185, 7093179577]\n"
     ]
    },
    {
     "name": "stderr",
     "output_type": "stream",
     "text": [
      "\r",
      "Loading through DICOM files:   0%|                        | 0/4 [00:00<?, ?it/s]"
     ]
    },
    {
     "name": "stdout",
     "output_type": "stream",
     "text": [
      "Loading from ../data/DICOMs/R01/7133027468/RTDOSELoading from ../data/DICOMs/R01/7133027468/CT\n",
      "\n",
      "Loading from ../data/DICOMs/R01/7133027468/RTSTRUCT\n",
      "Loading from ../data/DICOMs/R01/7133027468/RTPLAN\n"
     ]
    },
    {
     "name": "stderr",
     "output_type": "stream",
     "text": [
      "Loading through DICOM files: 100%|████████████████| 4/4 [00:02<00:00,  1.62it/s]\n"
     ]
    },
    {
     "name": "stdout",
     "output_type": "stream",
     "text": [
      "Compiling dictionaries together...\n",
      "Index 0, description O-MAR  at ../data/DICOMs/R01/7133027468/CT\n",
      "1 unique series IDs were found. Default is index 0, to change use set_index(index)\n",
      "Loading images for O-MAR  at \n",
      " ../data/DICOMs/R01/7133027468/CT\n",
      "\n",
      "7133027468 done 0 of 1\n",
      "7133027468 done 0 of 1\n",
      "7133027468 done 0 of 1\n",
      "finshed ids [1173728658, 1178044145, 1194116893, 1235569621, 1265845118, 1269213210, 1276736352, 2774318802, 2776638846, 2803120404, 2804890849, 2815583275, 2817169157, 2843895295, 2865890865, 2867468906, 2875588687, 2883823678, 2889102751, 2894996073, 2908060983, 2929571068, 2932807221, 2939740989, 2983776095, 2989874876, 3028333367, 3035721150, 3045110595, 3045556976, 3045918834, 3049758970, 3071491330, 3077525807, 3081060090, 3099145083, 3100266114, 3108161676, 3125978990, 3151449158, 3192749693, 3192926363, 3194171650, 3196236080, 3205005928, 3225956079, 3235750820, 3239454379, 3256350141, 3283538700, 3316448321, 3321571409, 3327830751, 3346286228, 3355839884, 3366888610, 3370207907, 3383739521, 3442548822, 3514335131, 3563849182, 3694073920, 3816960111, 3832820671, 4017119917, 4074385931, 4100593439, 4151569401, 4443664553, 4481544782, 4488837609, 4509480776, 4554821349, 4625578503, 4646292867, 4663235737, 4713240632, 4840069687, 4862586001, 4862920237, 5038138708, 5089502522, 5110518099, 1293745646, 1522246751, 1670301878, 1848656363, 2106963643, 2279280705, 2508553230, 2770898143, 3023016905, 3217148733, 3962148532, 5211387293, 7291736302, 5367270807, 5618650917, 5709953389, 5751912329, 5778599178, 5802597125, 5826154886, 5968002865, 6060411302, 6321133829, 6345257124, 6431977113, 6460317590, 6621233113, 6845023185, 7093179577, 7133027468]\n"
     ]
    },
    {
     "name": "stderr",
     "output_type": "stream",
     "text": [
      "\r",
      "Loading through DICOM files:   0%|                        | 0/3 [00:00<?, ?it/s]"
     ]
    },
    {
     "name": "stdout",
     "output_type": "stream",
     "text": [
      "Loading from ../data/DICOMs/R01/7143413136/CT\n",
      "Loading from ../data/DICOMs/R01/7143413136/RTDOSE\n",
      "Loading from ../data/DICOMs/R01/7143413136/RTSTRUCT\n"
     ]
    },
    {
     "name": "stderr",
     "output_type": "stream",
     "text": [
      "Loading through DICOM files: 100%|████████████████| 3/3 [00:03<00:00,  1.20s/it]\n"
     ]
    },
    {
     "name": "stdout",
     "output_type": "stream",
     "text": [
      "Compiling dictionaries together...\n",
      "Index 0, description Head and Neck  at ../data/DICOMs/R01/7143413136/CT\n",
      "1 unique series IDs were found. Default is index 0, to change use set_index(index)\n",
      "Loading images for Head and Neck  at \n",
      " ../data/DICOMs/R01/7143413136/CT\n",
      "\n",
      "7143413136 done 0 of 1\n",
      "error in contours_to_mask 'Dataset' object has no attribute 'ContourSequence'\n",
      "7143413136 done 0 of 1\n",
      "7143413136 done 0 of 1\n",
      "finshed ids [1173728658, 1178044145, 1194116893, 1235569621, 1265845118, 1269213210, 1276736352, 2774318802, 2776638846, 2803120404, 2804890849, 2815583275, 2817169157, 2843895295, 2865890865, 2867468906, 2875588687, 2883823678, 2889102751, 2894996073, 2908060983, 2929571068, 2932807221, 2939740989, 2983776095, 2989874876, 3028333367, 3035721150, 3045110595, 3045556976, 3045918834, 3049758970, 3071491330, 3077525807, 3081060090, 3099145083, 3100266114, 3108161676, 3125978990, 3151449158, 3192749693, 3192926363, 3194171650, 3196236080, 3205005928, 3225956079, 3235750820, 3239454379, 3256350141, 3283538700, 3316448321, 3321571409, 3327830751, 3346286228, 3355839884, 3366888610, 3370207907, 3383739521, 3442548822, 3514335131, 3563849182, 3694073920, 3816960111, 3832820671, 4017119917, 4074385931, 4100593439, 4151569401, 4443664553, 4481544782, 4488837609, 4509480776, 4554821349, 4625578503, 4646292867, 4663235737, 4713240632, 4840069687, 4862586001, 4862920237, 5038138708, 5089502522, 5110518099, 1293745646, 1522246751, 1670301878, 1848656363, 2106963643, 2279280705, 2508553230, 2770898143, 3023016905, 3217148733, 3962148532, 5211387293, 7291736302, 5367270807, 5618650917, 5709953389, 5751912329, 5778599178, 5802597125, 5826154886, 5968002865, 6060411302, 6321133829, 6345257124, 6431977113, 6460317590, 6621233113, 6845023185, 7093179577, 7133027468, 7143413136]\n"
     ]
    },
    {
     "name": "stderr",
     "output_type": "stream",
     "text": [
      "\r",
      "Loading through DICOM files:   0%|                        | 0/4 [00:00<?, ?it/s]"
     ]
    },
    {
     "name": "stdout",
     "output_type": "stream",
     "text": [
      "Loading from ../data/DICOMs/R01/7148485426/RTSTRUCT\n",
      "Loading from ../data/DICOMs/R01/7148485426/RTDOSE\n",
      "Loading from ../data/DICOMs/R01/7148485426/CT\n",
      "Loading from ../data/DICOMs/R01/7148485426/RTPLAN\n"
     ]
    },
    {
     "name": "stderr",
     "output_type": "stream",
     "text": [
      "Loading through DICOM files: 100%|████████████████| 4/4 [00:03<00:00,  1.26it/s]\n"
     ]
    },
    {
     "name": "stdout",
     "output_type": "stream",
     "text": [
      "Compiling dictionaries together...\n",
      "Index 0, description O-MAR  at ../data/DICOMs/R01/7148485426/CT\n",
      "1 unique series IDs were found. Default is index 0, to change use set_index(index)\n",
      "Loading images for O-MAR  at \n",
      " ../data/DICOMs/R01/7148485426/CT\n",
      "\n",
      "7148485426 done 0 of 1\n",
      "7148485426 done 0 of 1\n",
      "7148485426 done 0 of 1\n",
      "finshed ids [1173728658, 1178044145, 1194116893, 1235569621, 1265845118, 1269213210, 1276736352, 2774318802, 2776638846, 2803120404, 2804890849, 2815583275, 2817169157, 2843895295, 2865890865, 2867468906, 2875588687, 2883823678, 2889102751, 2894996073, 2908060983, 2929571068, 2932807221, 2939740989, 2983776095, 2989874876, 3028333367, 3035721150, 3045110595, 3045556976, 3045918834, 3049758970, 3071491330, 3077525807, 3081060090, 3099145083, 3100266114, 3108161676, 3125978990, 3151449158, 3192749693, 3192926363, 3194171650, 3196236080, 3205005928, 3225956079, 3235750820, 3239454379, 3256350141, 3283538700, 3316448321, 3321571409, 3327830751, 3346286228, 3355839884, 3366888610, 3370207907, 3383739521, 3442548822, 3514335131, 3563849182, 3694073920, 3816960111, 3832820671, 4017119917, 4074385931, 4100593439, 4151569401, 4443664553, 4481544782, 4488837609, 4509480776, 4554821349, 4625578503, 4646292867, 4663235737, 4713240632, 4840069687, 4862586001, 4862920237, 5038138708, 5089502522, 5110518099, 1293745646, 1522246751, 1670301878, 1848656363, 2106963643, 2279280705, 2508553230, 2770898143, 3023016905, 3217148733, 3962148532, 5211387293, 7291736302, 5367270807, 5618650917, 5709953389, 5751912329, 5778599178, 5802597125, 5826154886, 5968002865, 6060411302, 6321133829, 6345257124, 6431977113, 6460317590, 6621233113, 6845023185, 7093179577, 7133027468, 7143413136, 7148485426]\n"
     ]
    },
    {
     "name": "stderr",
     "output_type": "stream",
     "text": [
      "Loading through DICOM files:  25%|████            | 1/4 [00:00<00:00,  6.78it/s]"
     ]
    },
    {
     "name": "stdout",
     "output_type": "stream",
     "text": [
      "Loading from ../data/DICOMs/R01/7429045053/CT\n",
      "Loading from ../data/DICOMs/R01/7429045053/RTDOSE\n",
      "Loading from ../data/DICOMs/R01/7429045053/RTSTRUCT\n",
      "Loading from ../data/DICOMs/R01/7429045053/RTPLAN\n"
     ]
    },
    {
     "name": "stderr",
     "output_type": "stream",
     "text": [
      "Loading through DICOM files: 100%|████████████████| 4/4 [00:02<00:00,  1.82it/s]\n"
     ]
    },
    {
     "name": "stdout",
     "output_type": "stream",
     "text": [
      "Compiling dictionaries together...\n",
      "Index 0, description  at ../data/DICOMs/R01/7429045053/CT\n",
      "1 unique series IDs were found. Default is index 0, to change use set_index(index)\n",
      "Loading images for  at \n",
      " ../data/DICOMs/R01/7429045053/CT\n",
      "\n",
      "7429045053 done 0 of 1\n",
      "7429045053 done 0 of 1\n",
      "7429045053 done 0 of 1\n",
      "finshed ids [1173728658, 1178044145, 1194116893, 1235569621, 1265845118, 1269213210, 1276736352, 2774318802, 2776638846, 2803120404, 2804890849, 2815583275, 2817169157, 2843895295, 2865890865, 2867468906, 2875588687, 2883823678, 2889102751, 2894996073, 2908060983, 2929571068, 2932807221, 2939740989, 2983776095, 2989874876, 3028333367, 3035721150, 3045110595, 3045556976, 3045918834, 3049758970, 3071491330, 3077525807, 3081060090, 3099145083, 3100266114, 3108161676, 3125978990, 3151449158, 3192749693, 3192926363, 3194171650, 3196236080, 3205005928, 3225956079, 3235750820, 3239454379, 3256350141, 3283538700, 3316448321, 3321571409, 3327830751, 3346286228, 3355839884, 3366888610, 3370207907, 3383739521, 3442548822, 3514335131, 3563849182, 3694073920, 3816960111, 3832820671, 4017119917, 4074385931, 4100593439, 4151569401, 4443664553, 4481544782, 4488837609, 4509480776, 4554821349, 4625578503, 4646292867, 4663235737, 4713240632, 4840069687, 4862586001, 4862920237, 5038138708, 5089502522, 5110518099, 1293745646, 1522246751, 1670301878, 1848656363, 2106963643, 2279280705, 2508553230, 2770898143, 3023016905, 3217148733, 3962148532, 5211387293, 7291736302, 5367270807, 5618650917, 5709953389, 5751912329, 5778599178, 5802597125, 5826154886, 5968002865, 6060411302, 6321133829, 6345257124, 6431977113, 6460317590, 6621233113, 6845023185, 7093179577, 7133027468, 7143413136, 7148485426, 7429045053]\n"
     ]
    },
    {
     "name": "stderr",
     "output_type": "stream",
     "text": [
      "\r",
      "Loading through DICOM files:   0%|                        | 0/4 [00:00<?, ?it/s]"
     ]
    },
    {
     "name": "stdout",
     "output_type": "stream",
     "text": [
      "Loading from ../data/DICOMs/R01/7442321115/RTSTRUCT\n",
      "Loading from ../data/DICOMs/R01/7442321115/RTPLAN\n",
      "Loading from ../data/DICOMs/R01/7442321115/RTDOSE\n",
      "Loading from ../data/DICOMs/R01/7442321115/CT\n"
     ]
    },
    {
     "name": "stderr",
     "output_type": "stream",
     "text": [
      "Loading through DICOM files: 100%|████████████████| 4/4 [00:03<00:00,  1.08it/s]\n"
     ]
    },
    {
     "name": "stdout",
     "output_type": "stream",
     "text": [
      "Compiling dictionaries together...\n",
      "Index 0, description Head and Neck  at ../data/DICOMs/R01/7442321115/CT\n",
      "1 unique series IDs were found. Default is index 0, to change use set_index(index)\n",
      "Loading images for Head and Neck  at \n",
      " ../data/DICOMs/R01/7442321115/CT\n",
      "\n",
      "7442321115 done 0 of 1\n",
      "7442321115 done 0 of 1\n",
      "7442321115 done 0 of 1\n",
      "finshed ids [1173728658, 1178044145, 1194116893, 1235569621, 1265845118, 1269213210, 1276736352, 2774318802, 2776638846, 2803120404, 2804890849, 2815583275, 2817169157, 2843895295, 2865890865, 2867468906, 2875588687, 2883823678, 2889102751, 2894996073, 2908060983, 2929571068, 2932807221, 2939740989, 2983776095, 2989874876, 3028333367, 3035721150, 3045110595, 3045556976, 3045918834, 3049758970, 3071491330, 3077525807, 3081060090, 3099145083, 3100266114, 3108161676, 3125978990, 3151449158, 3192749693, 3192926363, 3194171650, 3196236080, 3205005928, 3225956079, 3235750820, 3239454379, 3256350141, 3283538700, 3316448321, 3321571409, 3327830751, 3346286228, 3355839884, 3366888610, 3370207907, 3383739521, 3442548822, 3514335131, 3563849182, 3694073920, 3816960111, 3832820671, 4017119917, 4074385931, 4100593439, 4151569401, 4443664553, 4481544782, 4488837609, 4509480776, 4554821349, 4625578503, 4646292867, 4663235737, 4713240632, 4840069687, 4862586001, 4862920237, 5038138708, 5089502522, 5110518099, 1293745646, 1522246751, 1670301878, 1848656363, 2106963643, 2279280705, 2508553230, 2770898143, 3023016905, 3217148733, 3962148532, 5211387293, 7291736302, 5367270807, 5618650917, 5709953389, 5751912329, 5778599178, 5802597125, 5826154886, 5968002865, 6060411302, 6321133829, 6345257124, 6431977113, 6460317590, 6621233113, 6845023185, 7093179577, 7133027468, 7143413136, 7148485426, 7429045053, 7442321115]\n"
     ]
    },
    {
     "name": "stderr",
     "output_type": "stream",
     "text": [
      "\r",
      "Loading through DICOM files:   0%|                        | 0/4 [00:00<?, ?it/s]"
     ]
    },
    {
     "name": "stdout",
     "output_type": "stream",
     "text": [
      "Loading from ../data/DICOMs/R01/7464252782/CT\n",
      "Loading from ../data/DICOMs/R01/7464252782/RTDOSELoading from ../data/DICOMs/R01/7464252782/RTSTRUCTLoading from ../data/DICOMs/R01/7464252782/RTPLAN\n",
      "\n",
      "\n"
     ]
    },
    {
     "name": "stderr",
     "output_type": "stream",
     "text": [
      "Loading through DICOM files: 100%|████████████████| 4/4 [00:02<00:00,  1.59it/s]\n"
     ]
    },
    {
     "name": "stdout",
     "output_type": "stream",
     "text": [
      "Compiling dictionaries together...\n",
      "Index 0, description O-MAR  at ../data/DICOMs/R01/7464252782/CT\n",
      "1 unique series IDs were found. Default is index 0, to change use set_index(index)\n",
      "Loading images for O-MAR  at \n",
      " ../data/DICOMs/R01/7464252782/CT\n",
      "\n",
      "7464252782 done 0 of 1\n",
      "7464252782 done 0 of 1\n",
      "7464252782 done 0 of 1\n",
      "finshed ids [1173728658, 1178044145, 1194116893, 1235569621, 1265845118, 1269213210, 1276736352, 2774318802, 2776638846, 2803120404, 2804890849, 2815583275, 2817169157, 2843895295, 2865890865, 2867468906, 2875588687, 2883823678, 2889102751, 2894996073, 2908060983, 2929571068, 2932807221, 2939740989, 2983776095, 2989874876, 3028333367, 3035721150, 3045110595, 3045556976, 3045918834, 3049758970, 3071491330, 3077525807, 3081060090, 3099145083, 3100266114, 3108161676, 3125978990, 3151449158, 3192749693, 3192926363, 3194171650, 3196236080, 3205005928, 3225956079, 3235750820, 3239454379, 3256350141, 3283538700, 3316448321, 3321571409, 3327830751, 3346286228, 3355839884, 3366888610, 3370207907, 3383739521, 3442548822, 3514335131, 3563849182, 3694073920, 3816960111, 3832820671, 4017119917, 4074385931, 4100593439, 4151569401, 4443664553, 4481544782, 4488837609, 4509480776, 4554821349, 4625578503, 4646292867, 4663235737, 4713240632, 4840069687, 4862586001, 4862920237, 5038138708, 5089502522, 5110518099, 1293745646, 1522246751, 1670301878, 1848656363, 2106963643, 2279280705, 2508553230, 2770898143, 3023016905, 3217148733, 3962148532, 5211387293, 7291736302, 5367270807, 5618650917, 5709953389, 5751912329, 5778599178, 5802597125, 5826154886, 5968002865, 6060411302, 6321133829, 6345257124, 6431977113, 6460317590, 6621233113, 6845023185, 7093179577, 7133027468, 7143413136, 7148485426, 7429045053, 7442321115, 7464252782]\n"
     ]
    },
    {
     "name": "stderr",
     "output_type": "stream",
     "text": [
      "Loading through DICOM files:  33%|█████▎          | 1/3 [00:00<00:00,  8.48it/s]"
     ]
    },
    {
     "name": "stdout",
     "output_type": "stream",
     "text": [
      "Loading from ../data/DICOMs/R01/7534086728/CT\n",
      "Loading from ../data/DICOMs/R01/7534086728/RTDOSE\n",
      "Loading from ../data/DICOMs/R01/7534086728/RTSTRUCT\n"
     ]
    },
    {
     "name": "stderr",
     "output_type": "stream",
     "text": [
      "Loading through DICOM files: 100%|████████████████| 3/3 [00:03<00:00,  1.01s/it]\n"
     ]
    },
    {
     "name": "stdout",
     "output_type": "stream",
     "text": [
      "Compiling dictionaries together...\n",
      "Index 0, description  at ../data/DICOMs/R01/7534086728/CT\n",
      "1 unique series IDs were found. Default is index 0, to change use set_index(index)\n",
      "Loading images for  at \n",
      " ../data/DICOMs/R01/7534086728/CT\n",
      "\n",
      "7534086728 done 0 of 1\n",
      "7534086728 done 0 of 1\n",
      "7534086728 done 0 of 1\n",
      "finshed ids [1173728658, 1178044145, 1194116893, 1235569621, 1265845118, 1269213210, 1276736352, 2774318802, 2776638846, 2803120404, 2804890849, 2815583275, 2817169157, 2843895295, 2865890865, 2867468906, 2875588687, 2883823678, 2889102751, 2894996073, 2908060983, 2929571068, 2932807221, 2939740989, 2983776095, 2989874876, 3028333367, 3035721150, 3045110595, 3045556976, 3045918834, 3049758970, 3071491330, 3077525807, 3081060090, 3099145083, 3100266114, 3108161676, 3125978990, 3151449158, 3192749693, 3192926363, 3194171650, 3196236080, 3205005928, 3225956079, 3235750820, 3239454379, 3256350141, 3283538700, 3316448321, 3321571409, 3327830751, 3346286228, 3355839884, 3366888610, 3370207907, 3383739521, 3442548822, 3514335131, 3563849182, 3694073920, 3816960111, 3832820671, 4017119917, 4074385931, 4100593439, 4151569401, 4443664553, 4481544782, 4488837609, 4509480776, 4554821349, 4625578503, 4646292867, 4663235737, 4713240632, 4840069687, 4862586001, 4862920237, 5038138708, 5089502522, 5110518099, 1293745646, 1522246751, 1670301878, 1848656363, 2106963643, 2279280705, 2508553230, 2770898143, 3023016905, 3217148733, 3962148532, 5211387293, 7291736302, 5367270807, 5618650917, 5709953389, 5751912329, 5778599178, 5802597125, 5826154886, 5968002865, 6060411302, 6321133829, 6345257124, 6431977113, 6460317590, 6621233113, 6845023185, 7093179577, 7133027468, 7143413136, 7148485426, 7429045053, 7442321115, 7464252782, 7534086728]\n"
     ]
    },
    {
     "name": "stderr",
     "output_type": "stream",
     "text": [
      "\r",
      "Loading through DICOM files:   0%|                        | 0/3 [00:00<?, ?it/s]"
     ]
    },
    {
     "name": "stdout",
     "output_type": "stream",
     "text": [
      "Loading from ../data/DICOMs/R01/7649615624/CT\n",
      "Loading from ../data/DICOMs/R01/7649615624/RTSTRUCT\n",
      "Loading from ../data/DICOMs/R01/7649615624/RTDOSE\n"
     ]
    },
    {
     "name": "stderr",
     "output_type": "stream",
     "text": [
      "Loading through DICOM files: 100%|████████████████| 3/3 [00:03<00:00,  1.01s/it]\n"
     ]
    },
    {
     "name": "stdout",
     "output_type": "stream",
     "text": [
      "Compiling dictionaries together...\n",
      "Index 0, description 2ND SCAN W/ CONT at ../data/DICOMs/R01/7649615624/CT\n",
      "1 unique series IDs were found. Default is index 0, to change use set_index(index)\n",
      "Loading images for 2ND SCAN W/ CONT at \n",
      " ../data/DICOMs/R01/7649615624/CT\n",
      "\n",
      "7649615624 done 0 of 1\n",
      "7649615624 done 0 of 1\n",
      "7649615624 done 0 of 1\n",
      "finshed ids [1173728658, 1178044145, 1194116893, 1235569621, 1265845118, 1269213210, 1276736352, 2774318802, 2776638846, 2803120404, 2804890849, 2815583275, 2817169157, 2843895295, 2865890865, 2867468906, 2875588687, 2883823678, 2889102751, 2894996073, 2908060983, 2929571068, 2932807221, 2939740989, 2983776095, 2989874876, 3028333367, 3035721150, 3045110595, 3045556976, 3045918834, 3049758970, 3071491330, 3077525807, 3081060090, 3099145083, 3100266114, 3108161676, 3125978990, 3151449158, 3192749693, 3192926363, 3194171650, 3196236080, 3205005928, 3225956079, 3235750820, 3239454379, 3256350141, 3283538700, 3316448321, 3321571409, 3327830751, 3346286228, 3355839884, 3366888610, 3370207907, 3383739521, 3442548822, 3514335131, 3563849182, 3694073920, 3816960111, 3832820671, 4017119917, 4074385931, 4100593439, 4151569401, 4443664553, 4481544782, 4488837609, 4509480776, 4554821349, 4625578503, 4646292867, 4663235737, 4713240632, 4840069687, 4862586001, 4862920237, 5038138708, 5089502522, 5110518099, 1293745646, 1522246751, 1670301878, 1848656363, 2106963643, 2279280705, 2508553230, 2770898143, 3023016905, 3217148733, 3962148532, 5211387293, 7291736302, 5367270807, 5618650917, 5709953389, 5751912329, 5778599178, 5802597125, 5826154886, 5968002865, 6060411302, 6321133829, 6345257124, 6431977113, 6460317590, 6621233113, 6845023185, 7093179577, 7133027468, 7143413136, 7148485426, 7429045053, 7442321115, 7464252782, 7534086728, 7649615624]\n"
     ]
    },
    {
     "name": "stderr",
     "output_type": "stream",
     "text": [
      "\r",
      "Loading through DICOM files:   0%|                        | 0/4 [00:00<?, ?it/s]"
     ]
    },
    {
     "name": "stdout",
     "output_type": "stream",
     "text": [
      "Loading from ../data/DICOMs/R01/7758510017/RTSTRUCT\n",
      "Loading from ../data/DICOMs/R01/7758510017/CT\n",
      "Loading from ../data/DICOMs/R01/7758510017/RTDOSELoading from ../data/DICOMs/R01/7758510017/RTPLAN\n",
      "\n"
     ]
    },
    {
     "name": "stderr",
     "output_type": "stream",
     "text": [
      "Loading through DICOM files: 100%|████████████████| 4/4 [00:04<00:00,  1.08s/it]\n"
     ]
    },
    {
     "name": "stdout",
     "output_type": "stream",
     "text": [
      "Compiling dictionaries together...\n",
      "Index 0, description Head and Neck  at ../data/DICOMs/R01/7758510017/CT\n",
      "1 unique series IDs were found. Default is index 0, to change use set_index(index)\n",
      "Loading images for Head and Neck  at \n",
      " ../data/DICOMs/R01/7758510017/CT\n",
      "\n",
      "error in contours_to_mask 'Dataset' object has no attribute 'ContourSequence'\n",
      "error in contours_to_mask 'Dataset' object has no attribute 'ContourSequence'\n",
      "error in contours_to_mask 'Dataset' object has no attribute 'ContourSequence'\n",
      "7758510017 done 0 of 1\n",
      "7758510017 done 0 of 1\n",
      "7758510017 done 0 of 1\n",
      "finshed ids [1173728658, 1178044145, 1194116893, 1235569621, 1265845118, 1269213210, 1276736352, 2774318802, 2776638846, 2803120404, 2804890849, 2815583275, 2817169157, 2843895295, 2865890865, 2867468906, 2875588687, 2883823678, 2889102751, 2894996073, 2908060983, 2929571068, 2932807221, 2939740989, 2983776095, 2989874876, 3028333367, 3035721150, 3045110595, 3045556976, 3045918834, 3049758970, 3071491330, 3077525807, 3081060090, 3099145083, 3100266114, 3108161676, 3125978990, 3151449158, 3192749693, 3192926363, 3194171650, 3196236080, 3205005928, 3225956079, 3235750820, 3239454379, 3256350141, 3283538700, 3316448321, 3321571409, 3327830751, 3346286228, 3355839884, 3366888610, 3370207907, 3383739521, 3442548822, 3514335131, 3563849182, 3694073920, 3816960111, 3832820671, 4017119917, 4074385931, 4100593439, 4151569401, 4443664553, 4481544782, 4488837609, 4509480776, 4554821349, 4625578503, 4646292867, 4663235737, 4713240632, 4840069687, 4862586001, 4862920237, 5038138708, 5089502522, 5110518099, 1293745646, 1522246751, 1670301878, 1848656363, 2106963643, 2279280705, 2508553230, 2770898143, 3023016905, 3217148733, 3962148532, 5211387293, 7291736302, 5367270807, 5618650917, 5709953389, 5751912329, 5778599178, 5802597125, 5826154886, 5968002865, 6060411302, 6321133829, 6345257124, 6431977113, 6460317590, 6621233113, 6845023185, 7093179577, 7133027468, 7143413136, 7148485426, 7429045053, 7442321115, 7464252782, 7534086728, 7649615624, 7758510017]\n"
     ]
    },
    {
     "name": "stderr",
     "output_type": "stream",
     "text": [
      "\r",
      "Loading through DICOM files:   0%|                        | 0/4 [00:00<?, ?it/s]"
     ]
    },
    {
     "name": "stdout",
     "output_type": "stream",
     "text": [
      "Loading from ../data/DICOMs/R01/7964193341/RTSTRUCT\n",
      "Loading from ../data/DICOMs/R01/7964193341/CT\n",
      "Loading from ../data/DICOMs/R01/7964193341/RTPLAN\n",
      "Loading from ../data/DICOMs/R01/7964193341/RTDOSE\n"
     ]
    },
    {
     "name": "stderr",
     "output_type": "stream",
     "text": [
      "Loading through DICOM files: 100%|████████████████| 4/4 [00:02<00:00,  1.65it/s]\n"
     ]
    },
    {
     "name": "stdout",
     "output_type": "stream",
     "text": [
      "Compiling dictionaries together...\n",
      "Index 0, description  at ../data/DICOMs/R01/7964193341/CT\n",
      "1 unique series IDs were found. Default is index 0, to change use set_index(index)\n",
      "Loading images for  at \n",
      " ../data/DICOMs/R01/7964193341/CT\n",
      "\n",
      "7964193341 done 0 of 1\n",
      "error in contours_to_mask 'Dataset' object has no attribute 'ContourSequence'\n",
      "7964193341 done 0 of 1\n",
      "7964193341 done 0 of 1\n"
     ]
    },
    {
     "ename": "KeyboardInterrupt",
     "evalue": "",
     "output_type": "error",
     "traceback": [
      "\u001b[0;31m---------------------------------------------------------------------------\u001b[0m",
      "\u001b[0;31mKeyboardInterrupt\u001b[0m                         Traceback (most recent call last)",
      "\u001b[0;32m/tmp/ipykernel_24062/4225982084.py\u001b[0m in \u001b[0;36m<module>\u001b[0;34m\u001b[0m\n\u001b[1;32m    110\u001b[0m     \u001b[0;32mreturn\u001b[0m \u001b[0mpd\u001b[0m\u001b[0;34m.\u001b[0m\u001b[0mDataFrame\u001b[0m\u001b[0;34m(\u001b[0m\u001b[0mdistances\u001b[0m\u001b[0;34m)\u001b[0m\u001b[0;34m\u001b[0m\u001b[0;34m\u001b[0m\u001b[0m\n\u001b[1;32m    111\u001b[0m \u001b[0;34m\u001b[0m\u001b[0m\n\u001b[0;32m--> 112\u001b[0;31m \u001b[0mget_distances\u001b[0m\u001b[0;34m(\u001b[0m\u001b[0moverwrite\u001b[0m\u001b[0;34m=\u001b[0m\u001b[0;32mFalse\u001b[0m\u001b[0;34m)\u001b[0m\u001b[0;34m\u001b[0m\u001b[0;34m\u001b[0m\u001b[0m\n\u001b[0m",
      "\u001b[0;32m/tmp/ipykernel_24062/4225982084.py\u001b[0m in \u001b[0;36mget_distances\u001b[0;34m(pids, dicom_root, target_file, overwrite)\u001b[0m\n\u001b[1;32m     95\u001b[0m             \u001b[0mplist\u001b[0m\u001b[0;34m,\u001b[0m \u001b[0m_\u001b[0m \u001b[0;34m=\u001b[0m \u001b[0mget_all_patients\u001b[0m\u001b[0;34m(\u001b[0m\u001b[0mdr\u001b[0m\u001b[0;34m,\u001b[0m\u001b[0mrois\u001b[0m\u001b[0;34m=\u001b[0m \u001b[0mroilist\u001b[0m\u001b[0;34m)\u001b[0m\u001b[0;34m\u001b[0m\u001b[0;34m\u001b[0m\u001b[0m\n\u001b[1;32m     96\u001b[0m             \u001b[0mpentry\u001b[0m \u001b[0;34m=\u001b[0m \u001b[0mplist\u001b[0m\u001b[0;34m[\u001b[0m\u001b[0;36m0\u001b[0m\u001b[0;34m]\u001b[0m\u001b[0;34m\u001b[0m\u001b[0;34m\u001b[0m\u001b[0m\n\u001b[0;32m---> 97\u001b[0;31m             \u001b[0mtempclouds\u001b[0m \u001b[0;34m=\u001b[0m \u001b[0mget_roi_pointclouds\u001b[0m\u001b[0;34m(\u001b[0m\u001b[0mpentry\u001b[0m\u001b[0;34m)\u001b[0m\u001b[0;34m\u001b[0m\u001b[0;34m\u001b[0m\u001b[0m\n\u001b[0m\u001b[1;32m     98\u001b[0m             \u001b[0;32mfor\u001b[0m \u001b[0mk\u001b[0m\u001b[0;34m,\u001b[0m\u001b[0mv\u001b[0m \u001b[0;32min\u001b[0m \u001b[0mtempclouds\u001b[0m\u001b[0;34m.\u001b[0m\u001b[0mitems\u001b[0m\u001b[0;34m(\u001b[0m\u001b[0;34m)\u001b[0m\u001b[0;34m:\u001b[0m\u001b[0;34m\u001b[0m\u001b[0;34m\u001b[0m\u001b[0m\n\u001b[1;32m     99\u001b[0m                 \u001b[0mclouds\u001b[0m\u001b[0;34m[\u001b[0m\u001b[0mk\u001b[0m\u001b[0;34m]\u001b[0m \u001b[0;34m=\u001b[0m \u001b[0mv\u001b[0m\u001b[0;34m\u001b[0m\u001b[0;34m\u001b[0m\u001b[0m\n",
      "\u001b[0;32m/tmp/ipykernel_24062/4225982084.py\u001b[0m in \u001b[0;36mget_roi_pointclouds\u001b[0;34m(pdict, roi_map, scale, concavify, ascale, **kwargs)\u001b[0m\n\u001b[1;32m     39\u001b[0m         \u001b[0;32mif\u001b[0m \u001b[0mcontour\u001b[0m\u001b[0;34m.\u001b[0m\u001b[0mshape\u001b[0m\u001b[0;34m[\u001b[0m\u001b[0;36m0\u001b[0m\u001b[0;34m]\u001b[0m \u001b[0;34m>\u001b[0m \u001b[0;36m3\u001b[0m \u001b[0;32mand\u001b[0m \u001b[0mconcavify\u001b[0m\u001b[0;34m:\u001b[0m\u001b[0;34m\u001b[0m\u001b[0;34m\u001b[0m\u001b[0m\n\u001b[1;32m     40\u001b[0m             \u001b[0;31m#this should get the points on the surface of the object (concave hull) if parameters are good\u001b[0m\u001b[0;34m\u001b[0m\u001b[0;34m\u001b[0m\u001b[0;34m\u001b[0m\u001b[0m\n\u001b[0;32m---> 41\u001b[0;31m             \u001b[0msurface_indices\u001b[0m \u001b[0;34m=\u001b[0m \u001b[0mconcave_hull_3d\u001b[0m\u001b[0;34m(\u001b[0m\u001b[0mcontour\u001b[0m\u001b[0;34m,\u001b[0m\u001b[0mreturn_vertices\u001b[0m \u001b[0;34m=\u001b[0m \u001b[0;32mTrue\u001b[0m\u001b[0;34m,\u001b[0m\u001b[0malpha_scales\u001b[0m\u001b[0;34m=\u001b[0m\u001b[0;34m[\u001b[0m\u001b[0mascale\u001b[0m\u001b[0;34m]\u001b[0m\u001b[0;34m,\u001b[0m\u001b[0;34m**\u001b[0m\u001b[0mkwargs\u001b[0m\u001b[0;34m)\u001b[0m\u001b[0;34m\u001b[0m\u001b[0;34m\u001b[0m\u001b[0m\n\u001b[0m\u001b[1;32m     42\u001b[0m             \u001b[0mcontour\u001b[0m \u001b[0;34m=\u001b[0m \u001b[0mcontour\u001b[0m\u001b[0;34m[\u001b[0m\u001b[0msurface_indices\u001b[0m\u001b[0;34m]\u001b[0m\u001b[0;34m\u001b[0m\u001b[0;34m\u001b[0m\u001b[0m\n\u001b[1;32m     43\u001b[0m         \u001b[0mcontour\u001b[0m \u001b[0;34m=\u001b[0m \u001b[0mpoints_to_spatial\u001b[0m\u001b[0;34m(\u001b[0m\u001b[0mcontour\u001b[0m\u001b[0;34m,\u001b[0m\u001b[0;34m[\u001b[0m\u001b[0;36m0\u001b[0m\u001b[0;34m,\u001b[0m\u001b[0;36m0\u001b[0m\u001b[0;34m,\u001b[0m\u001b[0;36m0\u001b[0m\u001b[0;34m]\u001b[0m\u001b[0;34m,\u001b[0m\u001b[0mscale\u001b[0m\u001b[0;34m)\u001b[0m\u001b[0;34m\u001b[0m\u001b[0;34m\u001b[0m\u001b[0m\n",
      "\u001b[0;32m/media/andrew/DATA1/git_repos/R01_Spatial/python/pointcloud_utils.py\u001b[0m in \u001b[0;36mconcave_hull_3d\u001b[0;34m(pos, alpha, ratio, alpha_scales, return_vertices)\u001b[0m\n\u001b[1;32m     53\u001b[0m     \"\"\"\n\u001b[1;32m     54\u001b[0m \u001b[0;34m\u001b[0m\u001b[0m\n\u001b[0;32m---> 55\u001b[0;31m     \u001b[0mtetra\u001b[0m \u001b[0;34m=\u001b[0m \u001b[0mDelaunay\u001b[0m\u001b[0;34m(\u001b[0m\u001b[0mpos\u001b[0m\u001b[0;34m)\u001b[0m\u001b[0;34m\u001b[0m\u001b[0;34m\u001b[0m\u001b[0m\n\u001b[0m\u001b[1;32m     56\u001b[0m     \u001b[0;31m# Find radius of the circumsphere.\u001b[0m\u001b[0;34m\u001b[0m\u001b[0;34m\u001b[0m\u001b[0;34m\u001b[0m\u001b[0m\n\u001b[1;32m     57\u001b[0m     \u001b[0;31m# By definition, radius of the sphere fitting inside the tetrahedral needs\u001b[0m\u001b[0;34m\u001b[0m\u001b[0;34m\u001b[0m\u001b[0;34m\u001b[0m\u001b[0m\n",
      "\u001b[0;32mqhull.pyx\u001b[0m in \u001b[0;36mscipy.spatial.qhull.Delaunay.__init__\u001b[0;34m()\u001b[0m\n",
      "\u001b[0;32mqhull.pyx\u001b[0m in \u001b[0;36mscipy.spatial.qhull._QhullUser.__init__\u001b[0;34m()\u001b[0m\n",
      "\u001b[0;32mqhull.pyx\u001b[0m in \u001b[0;36mscipy.spatial.qhull.Delaunay._update\u001b[0;34m()\u001b[0m\n",
      "\u001b[0;32mqhull.pyx\u001b[0m in \u001b[0;36mscipy.spatial.qhull._QhullUser._update\u001b[0;34m()\u001b[0m\n",
      "\u001b[0;32m~/anaconda3/envs/Qubbed/lib/python3.7/site-packages/numpy/core/_methods.py\u001b[0m in \u001b[0;36m_amin\u001b[0;34m(a, axis, out, keepdims, initial, where)\u001b[0m\n\u001b[1;32m     39\u001b[0m     \u001b[0;32mreturn\u001b[0m \u001b[0mumr_maximum\u001b[0m\u001b[0;34m(\u001b[0m\u001b[0ma\u001b[0m\u001b[0;34m,\u001b[0m \u001b[0maxis\u001b[0m\u001b[0;34m,\u001b[0m \u001b[0;32mNone\u001b[0m\u001b[0;34m,\u001b[0m \u001b[0mout\u001b[0m\u001b[0;34m,\u001b[0m \u001b[0mkeepdims\u001b[0m\u001b[0;34m,\u001b[0m \u001b[0minitial\u001b[0m\u001b[0;34m,\u001b[0m \u001b[0mwhere\u001b[0m\u001b[0;34m)\u001b[0m\u001b[0;34m\u001b[0m\u001b[0;34m\u001b[0m\u001b[0m\n\u001b[1;32m     40\u001b[0m \u001b[0;34m\u001b[0m\u001b[0m\n\u001b[0;32m---> 41\u001b[0;31m def _amin(a, axis=None, out=None, keepdims=False,\n\u001b[0m\u001b[1;32m     42\u001b[0m           initial=_NoValue, where=True):\n\u001b[1;32m     43\u001b[0m     \u001b[0;32mreturn\u001b[0m \u001b[0mumr_minimum\u001b[0m\u001b[0;34m(\u001b[0m\u001b[0ma\u001b[0m\u001b[0;34m,\u001b[0m \u001b[0maxis\u001b[0m\u001b[0;34m,\u001b[0m \u001b[0;32mNone\u001b[0m\u001b[0;34m,\u001b[0m \u001b[0mout\u001b[0m\u001b[0;34m,\u001b[0m \u001b[0mkeepdims\u001b[0m\u001b[0;34m,\u001b[0m \u001b[0minitial\u001b[0m\u001b[0;34m,\u001b[0m \u001b[0mwhere\u001b[0m\u001b[0;34m)\u001b[0m\u001b[0;34m\u001b[0m\u001b[0;34m\u001b[0m\u001b[0m\n",
      "\u001b[0;31mKeyboardInterrupt\u001b[0m: "
     ]
    }
   ],
   "source": [
    "def pointcloud_distance_batched(pc1,pc2,batch_size=200,metric='euclidean'):\n",
    "    #get two pointcloud arrays, checks distance between each pair of points\n",
    "    #returns the smallest distance (inter-organ distance)\n",
    "    if pc1.shape[0] < 1 or pc2.shape[0] < 1:\n",
    "        return False\n",
    "    \n",
    "    pc1_batches = np.array_split(pc1,batch_size,axis=0)\n",
    "    min_dist = 100000\n",
    "    for batch in pc1_batches:\n",
    "        batch_dists = cdist(batch,pc2,metric)\n",
    "        if len(batch_dists) > 1:\n",
    "            batch_min = batch_dists.min()\n",
    "            if batch_min < min_dist:\n",
    "                min_dist = batch_min \n",
    "\n",
    "    return min_dist\n",
    "\n",
    "def points_to_spatial(points, location, gridsize):\n",
    "    scale = np.array(gridsize)\n",
    "    corner = np.array(location)\n",
    "    newpoints = points*scale + corner\n",
    "    return  newpoints\n",
    "\n",
    "def get_roi_pointclouds(pdict, roi_map=None, scale = True, concavify=True,ascale=.5,**kwargs):\n",
    "    #get locations of contours.  I may need to tweak this part if I want to get actual dose values?\n",
    "    clouds = {}\n",
    "    #get the corresponding image value of each point. will add stuff for dose later idk\n",
    "    pixel_values = {}\n",
    "    mask = pdict['mask']\n",
    "    #get array locations\n",
    "    scale =np.array( [pdict['Pixel_Spacing_X'],pdict['Pixel_Spacing_Y'],pdict[\"Slice_Thickness\"]])\n",
    "    if roi_map is None:\n",
    "        roi_map = pdict['roi_mask_map']\n",
    "    all_points = []\n",
    "    for index, roi in roi_map.items():\n",
    "        #should be x, y, z if I tranpose it (default it's slicexheightxwidth)\n",
    "        contour = np.argwhere(mask.T == index)\n",
    "        #skip bad values with < 4 points because the algorithms break\n",
    "        if contour.shape[0] > 3 and concavify:\n",
    "            #this should get the points on the surface of the object (concave hull) if parameters are good\n",
    "            surface_indices = concave_hull_3d(contour,return_vertices = True,alpha_scales=[ascale],**kwargs)\n",
    "            contour = contour[surface_indices]\n",
    "        contour = points_to_spatial(contour,[0,0,0],scale)\n",
    "        clouds[roi] = contour\n",
    "        \n",
    "    return clouds\n",
    "\n",
    "def pc_dist_worker_v2(args):\n",
    "    #wrapper to help parallelize pointcloud distance calclations\n",
    "    if args[0] == args[1]:\n",
    "        return 0\n",
    "    clouds = args[2]\n",
    "    c1  = clouds[args[0]]\n",
    "    c2 = clouds[args[1]]    \n",
    "    if len(c1) < 1 or len(c2) < 1:\n",
    "        return 0\n",
    "    return pointcloud_distance_batched(c1,c2)\n",
    "\n",
    "def get_interorgan_distance_v2(roi_clouds, \n",
    "                             parallel=True,\n",
    "                             **kwargs):\n",
    "    #calc interorgan distances on a dict of {roi: pointcloud, roi2: pointcloud2} as an array\n",
    "    #also returns the order of rois in the dict [r1, r2, r3,...] =>[ [d(r1,r1),d(r1,r2),d(r1,r3)], [d(r2,r1),d(r2,r2),d(r2,r3)],...]\n",
    "\n",
    "    valid_rois = list(roi_clouds.keys())\n",
    "    dists = {}\n",
    "    for roi in valid_rois:\n",
    "        if parallel and parallel != 0:\n",
    "            dlist = joblib.Parallel(n_jobs=parallel)(joblib.delayed(pc_dist_worker_v2)((roi,r2,roi_clouds)) for r2 in valid_rois)\n",
    "        else:\n",
    "            dlist = [pc_dist_worker_v2((roi,r2,roi_clouds)) for r2 in valid_rois]     \n",
    "        dists[roi] = dlist\n",
    "    return dists\n",
    "\n",
    "def get_distances(pids=None,dicom_root='../data/DICOMs/R01/',target_file='../data/r01_distances',overwrite=False):\n",
    "    try:\n",
    "        with open(target_file+'.json','r') as f:\n",
    "            distances = simplejson.load(f)\n",
    "    except:\n",
    "        distances = {}\n",
    "    if pids is None:\n",
    "        pids = get_all_dicom_ids()\n",
    "    finished = set([int(p) for p in distances.keys()])\n",
    "    print(len(finished))\n",
    "    redone = []\n",
    "    for pid in pids:\n",
    "        #it crashes when I try to process these idk why\n",
    "#         if int(pid) in [2677877484,2340030369,1138096463,2875588687,5968002865,6060411302,6321133829,7143413136,8999014515,9479197119 ,1596568859]:\n",
    "#             conitinue\n",
    "        if not overwrite and int(pid) in finished:\n",
    "            continue\n",
    "        dr = dicom_reader_from_ids([pid],root=dicom_root)\n",
    "        clouds = {}\n",
    "        for roilist in [Const.organ_list[:],['gtv','gtvn'],['ctv','ptv']]:\n",
    "            plist, _ = get_all_patients(dr,rois= roilist)\n",
    "            pentry = plist[0]\n",
    "            tempclouds = get_roi_pointclouds(pentry)\n",
    "            for k,v in tempclouds.items():\n",
    "                clouds[k] = v\n",
    "        dists = get_interorgan_distance_v2(clouds)\n",
    "        distances[pid] = dists\n",
    "        try:\n",
    "            with open(target_file+'.json','w') as f:\n",
    "                simplejson.dump(distances,f,default=np_converter)\n",
    "        except Exception as e:\n",
    "            print('issue saving at pid',pid)\n",
    "            print(e)\n",
    "        redone.append(pid)\n",
    "        print('finshed ids',redone)\n",
    "    return pd.DataFrame(distances)\n",
    "\n",
    "get_distances(overwrite=False)"
   ]
  },
  {
   "cell_type": "code",
   "execution_count": null,
   "id": "3ebb9ea8",
   "metadata": {},
   "outputs": [],
   "source": [
    "len(set({1167168001, 4625578503, 4074385931, 2508553230, 1269213210, 2815583275, 4862920237, 2865890865, 2932807221, 4840069687, 4713240632, 2883823678, 3694073920, 3316448321, 2279280705, 3151449158, 4481544782, 3321571409, 3442548822, 1079757401, 1087308891, 1522246751, 3205005928, 2894996073, 2867468906, 3816960111, 3045918834, 1143391354, 1108642427, 3192749693, 3383739521, 3100266114, 1164546699, 3108161676, 4862586001, 3346286228, 4663235737, 3192926363, 3366888610, 3370207907, 4443664553, 3239454379, 4017119917, 1072572079, 3962148532, 1670301878, 2106963643, 2989874876, 1054079696, 2774318802, 3327830751, 2770898143, 2804890849, 4554821349, 7291736302, 3225956079, 3045556976, 1178044145, 1107681010, 3081060090, 3049758970, 2929571068, 3071491330, 3194171650, 2817169157, 5802597125, 5778599178, 3283538700, 2803120404, 1194116893, 4100593439, 5618650917, 3077525807, 3196236080, 2908060983, 3028333367, 5089502522, 2939740989, 3217148733, 3045110595, 1103015749, 4509480776, 5110518099, 5038138708, 2983776095, 1276736352, 5709953389, 3125978990, 3099145083, 2776638846, 1265845118, 4646292867, 5826154886, 5751912329, 3355839884, 1173728658, 5367270807, 3514335131, 5211387293, 2889102751, 3235750820, 3256350141, 3035721150, 3832820671, 3023016905, 1099927508, 1235569621, 3563849182, 4488837609, 1848656363, 1293745646, 4151569401, 2843895295}))"
   ]
  },
  {
   "cell_type": "code",
   "execution_count": null,
   "id": "8900e916",
   "metadata": {},
   "outputs": [],
   "source": [
    "import numpy as np\n",
    "np.array_split(np.zeros((10,10)),3)"
   ]
  },
  {
   "cell_type": "code",
   "execution_count": null,
   "id": "196b865e",
   "metadata": {},
   "outputs": [],
   "source": [
    "test = (np.random.random((10,4))*10).astype(int)\n",
    "test"
   ]
  },
  {
   "cell_type": "code",
   "execution_count": null,
   "id": "233ce491",
   "metadata": {},
   "outputs": [],
   "source": [
    "np.argwhere(test == test.min())"
   ]
  },
  {
   "cell_type": "code",
   "execution_count": null,
   "id": "2555c6c9",
   "metadata": {},
   "outputs": [],
   "source": [
    "np.array([]).min()"
   ]
  },
  {
   "cell_type": "code",
   "execution_count": null,
   "id": "4fe6697e",
   "metadata": {},
   "outputs": [],
   "source": []
  }
 ],
 "metadata": {
  "kernelspec": {
   "display_name": "Python [conda env:Qubbed]",
   "language": "python",
   "name": "conda-env-Qubbed-py"
  },
  "language_info": {
   "codemirror_mode": {
    "name": "ipython",
    "version": 3
   },
   "file_extension": ".py",
   "mimetype": "text/x-python",
   "name": "python",
   "nbconvert_exporter": "python",
   "pygments_lexer": "ipython3",
   "version": "3.7.12"
  }
 },
 "nbformat": 4,
 "nbformat_minor": 5
}
