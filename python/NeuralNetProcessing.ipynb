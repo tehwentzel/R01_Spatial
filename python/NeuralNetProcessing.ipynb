{
 "cells": [
  {
   "cell_type": "code",
   "execution_count": 1,
   "id": "71916a23",
   "metadata": {},
   "outputs": [],
   "source": [
    "import pandas as pd\n",
    "import pickle\n",
    "import numpy as np\n",
    "from Constants import Const\n",
    "import torch\n",
    "import torch.nn as nn\n",
    "import cv2\n",
    "import glob\n",
    "from FileUtils import *"
   ]
  },
  {
   "cell_type": "code",
   "execution_count": 2,
   "id": "92430a26",
   "metadata": {},
   "outputs": [
    {
     "name": "stdout",
     "output_type": "stream",
     "text": [
      "Jupyter environment detected. Enabling Open3D WebVisualizer.\n",
      "[Open3D INFO] WebRTC GUI backend enabled.\n",
      "[Open3D INFO] WebRTCWindowSystem: HTTP handshake server disabled.\n"
     ]
    }
   ],
   "source": [
    "import sparseconvnet as scn\n",
    "import open3d as o3d"
   ]
  },
  {
   "cell_type": "code",
   "execution_count": 3,
   "id": "49348742",
   "metadata": {},
   "outputs": [
    {
     "data": {
      "text/plain": [
       "11"
      ]
     },
     "execution_count": 3,
     "metadata": {},
     "output_type": "execute_result"
    }
   ],
   "source": [
    "files = glob.glob(Const.pointcloud_dir+'pclouds_*.json')\n",
    "all_files = []\n",
    "max_num = 10\n",
    "for file in files:\n",
    "    with open(file,'r') as f:\n",
    "        test = simplejson.load(f)\n",
    "    if int(test['patient_id']) not in Const.bad_ids:\n",
    "        all_files.append(test)\n",
    "    if len(all_files) > max_num:\n",
    "        break\n",
    "len(all_files)"
   ]
  },
  {
   "cell_type": "code",
   "execution_count": 45,
   "id": "60a6d967",
   "metadata": {},
   "outputs": [],
   "source": [
    "\n",
    "def downsample_pointcloud(pcloud,k=1,max_points = 5000):\n",
    "    pc = o3d.geometry.PointCloud()\n",
    "    pc.points = o3d.utility.Vector3dVector(pcloud['coordinates'])\n",
    "    #save dose as rgb color for when they're discretized\n",
    "    pc.colors = o3d.utility.Vector3dVector(np.stack([pcloud['dose_values'] for c in range(3)],axis=-1))\n",
    "    pc = pc.voxel_down_sample(k)#to make it uniform for the convolution\n",
    "    if len(pc.points) > max_points:\n",
    "        pc = pc.farthest_point_down_sample(max_points)\n",
    "    points = np.asarray(pc.points)\n",
    "    colors = np.asarray(pc.colors)[:,0]\n",
    "    return {'coordinates': points,'dose_values': colors}\n",
    "\n",
    "def compile_pointclouds(patient,batch_index=None, organs = Const.organ_list + ['gtv','gtvn'],\n",
    "                        downsample_k=1,max_points=2000):\n",
    "    cpc = patient['contour_pointclouds']\n",
    "    all_points = []\n",
    "    all_values = []\n",
    "    for organ, entry in cpc.items():\n",
    "        if organs is not None and organ not in organs:\n",
    "            continue\n",
    "        coords = entry['coordinates']\n",
    "        values = entry['dose_values']\n",
    "        all_points.append(np.array(coords))\n",
    "        all_values.append(np.array(values).reshape(-1,1))\n",
    "    all_points = np.vstack(all_points)\n",
    "    all_values = np.vstack(all_values).ravel()\n",
    "    entry = {'coordinates': all_points,'dose_values':all_values}\n",
    "    if downsample_k > 0:\n",
    "        entry = downsample_pointcloud(entry,downsample_k,max_points)\n",
    "    if batch_index is not None:\n",
    "        ap = entry['coordinates']\n",
    "        bi = np.full((ap.shape[0],1),batch_index)\n",
    "        entry['coordinates'] =np.hstack((ap,bi))\n",
    "    entry['patient_id'] = patient['patient_id']\n",
    "    return entry\n"
   ]
  },
  {
   "cell_type": "code",
   "execution_count": 46,
   "id": "81b7abce",
   "metadata": {},
   "outputs": [
    {
     "name": "stdout",
     "output_type": "stream",
     "text": [
      "(2000, 4)\n",
      "(2000, 4)\n",
      "(2000, 4)\n",
      "(1625, 4)\n",
      "(2000, 4)\n",
      "(2000, 4)\n",
      "(2000, 4)\n",
      "(2000, 4)\n",
      "(2000, 4)\n",
      "(2000, 4)\n",
      "(2000, 4)\n"
     ]
    }
   ],
   "source": [
    "all_patients= [compile_pointclouds(p,batch_index=i) for i,p in enumerate(all_files)]\n",
    "for p in all_patients:\n",
    "    print(p['coordinates'].shape)"
   ]
  },
  {
   "cell_type": "code",
   "execution_count": 39,
   "id": "a686a385",
   "metadata": {},
   "outputs": [],
   "source": [
    "device = 'cuda:0' if torch.cuda.is_available() else 'cpu'"
   ]
  },
  {
   "cell_type": "code",
   "execution_count": 51,
   "id": "01985d33",
   "metadata": {},
   "outputs": [
    {
     "name": "stdout",
     "output_type": "stream",
     "text": [
      "(21625, 4)\n"
     ]
    },
    {
     "data": {
      "text/plain": [
       "torch.Size([21625, 4])"
      ]
     },
     "execution_count": 51,
     "metadata": {},
     "output_type": "execute_result"
    }
   ],
   "source": [
    "def torchify(locs,features,device=None):\n",
    "    if device is None:\n",
    "        device = 'cuda:0' if torch.cuda.is_available() else 'cpu'\n",
    "    locs[:,0:3] = locs[:,0:3]*100\n",
    "    locs = torch.LongTensor(locs.astype(int))\n",
    "    features = torch.FloatTensor(features.reshape(-1,1))\n",
    "    return locs.to(device), features.to(device)\n",
    "\n",
    "def compile_patient_batch(patients):\n",
    "    patients = [compile_pointclouds(p,batch_index=i) for i,p in enumerate(all_files)]\n",
    "    all_locations = []\n",
    "    all_features = []\n",
    "    for p in patients:\n",
    "        all_locations.append(p['coordinates'])\n",
    "        all_features.append(p['dose_values'].reshape(-1,1))\n",
    "    all_locations = np.concatenate(all_locations,axis=0)\n",
    "    all_features = np.concatenate(all_features)\n",
    "    print(all_locations.shape)\n",
    "    return torchify(all_locations,all_features)\n",
    "\n",
    "test_l, test_f = compile_patient_batch(all_files[0:4])\n",
    "test_l.shape"
   ]
  },
  {
   "cell_type": "code",
   "execution_count": 54,
   "id": "564575b1",
   "metadata": {},
   "outputs": [
    {
     "ename": "RuntimeError",
     "evalue": "CUDA error: an illegal memory access was encountered\nCUDA kernel errors might be asynchronously reported at some other API call,so the stacktrace below might be incorrect.\nFor debugging consider passing CUDA_LAUNCH_BLOCKING=1.",
     "output_type": "error",
     "traceback": [
      "\u001b[0;31m---------------------------------------------------------------------------\u001b[0m",
      "\u001b[0;31mRuntimeError\u001b[0m                              Traceback (most recent call last)",
      "\u001b[0;32m/tmp/ipykernel_7175/3448497944.py\u001b[0m in \u001b[0;36m<module>\u001b[0;34m\u001b[0m\n\u001b[1;32m     42\u001b[0m \u001b[0;34m\u001b[0m\u001b[0m\n\u001b[1;32m     43\u001b[0m \u001b[0mmodel\u001b[0m \u001b[0;34m=\u001b[0m \u001b[0mSparseCNN\u001b[0m\u001b[0;34m(\u001b[0m\u001b[0;34m)\u001b[0m\u001b[0;34m\u001b[0m\u001b[0;34m\u001b[0m\u001b[0m\n\u001b[0;32m---> 44\u001b[0;31m \u001b[0mmodel\u001b[0m \u001b[0;34m=\u001b[0m \u001b[0mmodel\u001b[0m\u001b[0;34m.\u001b[0m\u001b[0mto\u001b[0m\u001b[0;34m(\u001b[0m\u001b[0mdevice\u001b[0m\u001b[0;34m)\u001b[0m\u001b[0;34m\u001b[0m\u001b[0;34m\u001b[0m\u001b[0m\n\u001b[0m\u001b[1;32m     45\u001b[0m \u001b[0mmodel\u001b[0m\u001b[0;34m(\u001b[0m\u001b[0mtest_l\u001b[0m\u001b[0;34m,\u001b[0m\u001b[0mtest_f\u001b[0m\u001b[0;34m,\u001b[0m\u001b[0;36m3\u001b[0m\u001b[0;34m)\u001b[0m\u001b[0;34m\u001b[0m\u001b[0;34m\u001b[0m\u001b[0m\n",
      "\u001b[0;32m~/anaconda3/envs/Qubbed/lib/python3.7/site-packages/torch/nn/modules/module.py\u001b[0m in \u001b[0;36mto\u001b[0;34m(self, *args, **kwargs)\u001b[0m\n\u001b[1;32m    897\u001b[0m             \u001b[0;32mreturn\u001b[0m \u001b[0mt\u001b[0m\u001b[0;34m.\u001b[0m\u001b[0mto\u001b[0m\u001b[0;34m(\u001b[0m\u001b[0mdevice\u001b[0m\u001b[0;34m,\u001b[0m \u001b[0mdtype\u001b[0m \u001b[0;32mif\u001b[0m \u001b[0mt\u001b[0m\u001b[0;34m.\u001b[0m\u001b[0mis_floating_point\u001b[0m\u001b[0;34m(\u001b[0m\u001b[0;34m)\u001b[0m \u001b[0;32mor\u001b[0m \u001b[0mt\u001b[0m\u001b[0;34m.\u001b[0m\u001b[0mis_complex\u001b[0m\u001b[0;34m(\u001b[0m\u001b[0;34m)\u001b[0m \u001b[0;32melse\u001b[0m \u001b[0;32mNone\u001b[0m\u001b[0;34m,\u001b[0m \u001b[0mnon_blocking\u001b[0m\u001b[0;34m)\u001b[0m\u001b[0;34m\u001b[0m\u001b[0;34m\u001b[0m\u001b[0m\n\u001b[1;32m    898\u001b[0m \u001b[0;34m\u001b[0m\u001b[0m\n\u001b[0;32m--> 899\u001b[0;31m         \u001b[0;32mreturn\u001b[0m \u001b[0mself\u001b[0m\u001b[0;34m.\u001b[0m\u001b[0m_apply\u001b[0m\u001b[0;34m(\u001b[0m\u001b[0mconvert\u001b[0m\u001b[0;34m)\u001b[0m\u001b[0;34m\u001b[0m\u001b[0;34m\u001b[0m\u001b[0m\n\u001b[0m\u001b[1;32m    900\u001b[0m \u001b[0;34m\u001b[0m\u001b[0m\n\u001b[1;32m    901\u001b[0m     def register_backward_hook(\n",
      "\u001b[0;32m~/anaconda3/envs/Qubbed/lib/python3.7/site-packages/torch/nn/modules/module.py\u001b[0m in \u001b[0;36m_apply\u001b[0;34m(self, fn)\u001b[0m\n\u001b[1;32m    568\u001b[0m     \u001b[0;32mdef\u001b[0m \u001b[0m_apply\u001b[0m\u001b[0;34m(\u001b[0m\u001b[0mself\u001b[0m\u001b[0;34m,\u001b[0m \u001b[0mfn\u001b[0m\u001b[0;34m)\u001b[0m\u001b[0;34m:\u001b[0m\u001b[0;34m\u001b[0m\u001b[0;34m\u001b[0m\u001b[0m\n\u001b[1;32m    569\u001b[0m         \u001b[0;32mfor\u001b[0m \u001b[0mmodule\u001b[0m \u001b[0;32min\u001b[0m \u001b[0mself\u001b[0m\u001b[0;34m.\u001b[0m\u001b[0mchildren\u001b[0m\u001b[0;34m(\u001b[0m\u001b[0;34m)\u001b[0m\u001b[0;34m:\u001b[0m\u001b[0;34m\u001b[0m\u001b[0;34m\u001b[0m\u001b[0m\n\u001b[0;32m--> 570\u001b[0;31m             \u001b[0mmodule\u001b[0m\u001b[0;34m.\u001b[0m\u001b[0m_apply\u001b[0m\u001b[0;34m(\u001b[0m\u001b[0mfn\u001b[0m\u001b[0;34m)\u001b[0m\u001b[0;34m\u001b[0m\u001b[0;34m\u001b[0m\u001b[0m\n\u001b[0m\u001b[1;32m    571\u001b[0m \u001b[0;34m\u001b[0m\u001b[0m\n\u001b[1;32m    572\u001b[0m         \u001b[0;32mdef\u001b[0m \u001b[0mcompute_should_use_set_data\u001b[0m\u001b[0;34m(\u001b[0m\u001b[0mtensor\u001b[0m\u001b[0;34m,\u001b[0m \u001b[0mtensor_applied\u001b[0m\u001b[0;34m)\u001b[0m\u001b[0;34m:\u001b[0m\u001b[0;34m\u001b[0m\u001b[0;34m\u001b[0m\u001b[0m\n",
      "\u001b[0;32m~/anaconda3/envs/Qubbed/lib/python3.7/site-packages/torch/nn/modules/module.py\u001b[0m in \u001b[0;36m_apply\u001b[0;34m(self, fn)\u001b[0m\n\u001b[1;32m    591\u001b[0m             \u001b[0;31m# `with torch.no_grad():`\u001b[0m\u001b[0;34m\u001b[0m\u001b[0;34m\u001b[0m\u001b[0;34m\u001b[0m\u001b[0m\n\u001b[1;32m    592\u001b[0m             \u001b[0;32mwith\u001b[0m \u001b[0mtorch\u001b[0m\u001b[0;34m.\u001b[0m\u001b[0mno_grad\u001b[0m\u001b[0;34m(\u001b[0m\u001b[0;34m)\u001b[0m\u001b[0;34m:\u001b[0m\u001b[0;34m\u001b[0m\u001b[0;34m\u001b[0m\u001b[0m\n\u001b[0;32m--> 593\u001b[0;31m                 \u001b[0mparam_applied\u001b[0m \u001b[0;34m=\u001b[0m \u001b[0mfn\u001b[0m\u001b[0;34m(\u001b[0m\u001b[0mparam\u001b[0m\u001b[0;34m)\u001b[0m\u001b[0;34m\u001b[0m\u001b[0;34m\u001b[0m\u001b[0m\n\u001b[0m\u001b[1;32m    594\u001b[0m             \u001b[0mshould_use_set_data\u001b[0m \u001b[0;34m=\u001b[0m \u001b[0mcompute_should_use_set_data\u001b[0m\u001b[0;34m(\u001b[0m\u001b[0mparam\u001b[0m\u001b[0;34m,\u001b[0m \u001b[0mparam_applied\u001b[0m\u001b[0;34m)\u001b[0m\u001b[0;34m\u001b[0m\u001b[0;34m\u001b[0m\u001b[0m\n\u001b[1;32m    595\u001b[0m             \u001b[0;32mif\u001b[0m \u001b[0mshould_use_set_data\u001b[0m\u001b[0;34m:\u001b[0m\u001b[0;34m\u001b[0m\u001b[0;34m\u001b[0m\u001b[0m\n",
      "\u001b[0;32m~/anaconda3/envs/Qubbed/lib/python3.7/site-packages/torch/nn/modules/module.py\u001b[0m in \u001b[0;36mconvert\u001b[0;34m(t)\u001b[0m\n\u001b[1;32m    895\u001b[0m                 return t.to(device, dtype if t.is_floating_point() or t.is_complex() else None,\n\u001b[1;32m    896\u001b[0m                             non_blocking, memory_format=convert_to_format)\n\u001b[0;32m--> 897\u001b[0;31m             \u001b[0;32mreturn\u001b[0m \u001b[0mt\u001b[0m\u001b[0;34m.\u001b[0m\u001b[0mto\u001b[0m\u001b[0;34m(\u001b[0m\u001b[0mdevice\u001b[0m\u001b[0;34m,\u001b[0m \u001b[0mdtype\u001b[0m \u001b[0;32mif\u001b[0m \u001b[0mt\u001b[0m\u001b[0;34m.\u001b[0m\u001b[0mis_floating_point\u001b[0m\u001b[0;34m(\u001b[0m\u001b[0;34m)\u001b[0m \u001b[0;32mor\u001b[0m \u001b[0mt\u001b[0m\u001b[0;34m.\u001b[0m\u001b[0mis_complex\u001b[0m\u001b[0;34m(\u001b[0m\u001b[0;34m)\u001b[0m \u001b[0;32melse\u001b[0m \u001b[0;32mNone\u001b[0m\u001b[0;34m,\u001b[0m \u001b[0mnon_blocking\u001b[0m\u001b[0;34m)\u001b[0m\u001b[0;34m\u001b[0m\u001b[0;34m\u001b[0m\u001b[0m\n\u001b[0m\u001b[1;32m    898\u001b[0m \u001b[0;34m\u001b[0m\u001b[0m\n\u001b[1;32m    899\u001b[0m         \u001b[0;32mreturn\u001b[0m \u001b[0mself\u001b[0m\u001b[0;34m.\u001b[0m\u001b[0m_apply\u001b[0m\u001b[0;34m(\u001b[0m\u001b[0mconvert\u001b[0m\u001b[0;34m)\u001b[0m\u001b[0;34m\u001b[0m\u001b[0;34m\u001b[0m\u001b[0m\n",
      "\u001b[0;31mRuntimeError\u001b[0m: CUDA error: an illegal memory access was encountered\nCUDA kernel errors might be asynchronously reported at some other API call,so the stacktrace below might be incorrect.\nFor debugging consider passing CUDA_LAUNCH_BLOCKING=1."
     ]
    }
   ],
   "source": [
    "class SparseCNN(nn.Module):\n",
    "    \n",
    "    def __init__(self,dims=3,features=1,\n",
    "                 output_dim = 1,\n",
    "                 manifold_m = [32,32],\n",
    "                 manifold_size=[3,3],\n",
    "                 full_m = [32],\n",
    "                 full_size = 5,\n",
    "                 reps=1,\n",
    "                ):\n",
    "        nn.Module.__init__(self)\n",
    "        self.dims = dims\n",
    "        self.features = features\n",
    "    \n",
    "        self.input_layer = scn.InputLayer(dims,features) \n",
    "        self.batchNorm = scn.BatchNormalization(features) # I don't actually know what input planes means\n",
    "        self.manifold = scn.SubmanifoldConvolution(dims,features,manifold_m[0],manifold_size[0],True)\n",
    "        self.manifold2 = scn.SubmanifoldConvolution(dims,manifold_m[0],manifold_m[1],manifold_size[1],True)\n",
    "\n",
    "        self.batchNorm2 = scn.BatchNormReLU(manifold_m[-1])\n",
    "        self.fullConv = scn.FullConvolution(dims,manifold_m[-1],full_m[0],full_size,1,True)\n",
    "        \n",
    "        #with submanifold it will be dims*last # of features, fullConvolution seems to be dims*#features*(full_size**3)\n",
    "        self.final_dim = full_m[-1]*(full_size**3)*dims\n",
    "        self.sparseToDense = scn.SparseToDense(dims,full_m[-1])\n",
    "\n",
    "        self.linear = nn.LazyLinear(output_dim)\n",
    "#         self.shapeContext = scn.ShapeContext(1,features)\n",
    "        \n",
    "    def forward(self,locs,features,batch_size):\n",
    "        x = self.input_layer((locs,features,3))\n",
    "        x = self.batchNorm(x)\n",
    "        x = self.manifold(x)\n",
    "        x = self.manifold2(x)\n",
    "    \n",
    "        x = self.batchNorm2(x)\n",
    "        x = self.fullConv(x)\n",
    "        x = self.sparseToDense(x)\n",
    "        x = x.view(batch_size,-1)\n",
    "        x = self.linear(x)\n",
    "        return x\n",
    "    \n",
    "model = SparseCNN()\n",
    "model = model.to(device)\n",
    "model(test_l,test_f,3)"
   ]
  },
  {
   "cell_type": "code",
   "execution_count": null,
   "id": "4f97c268",
   "metadata": {},
   "outputs": [],
   "source": [
    "model"
   ]
  },
  {
   "cell_type": "code",
   "execution_count": null,
   "id": "e4c2c019",
   "metadata": {},
   "outputs": [],
   "source": []
  }
 ],
 "metadata": {
  "kernelspec": {
   "display_name": "Python [conda env:Qubbed]",
   "language": "python",
   "name": "conda-env-Qubbed-py"
  },
  "language_info": {
   "codemirror_mode": {
    "name": "ipython",
    "version": 3
   },
   "file_extension": ".py",
   "mimetype": "text/x-python",
   "name": "python",
   "nbconvert_exporter": "python",
   "pygments_lexer": "ipython3",
   "version": "3.7.12"
  }
 },
 "nbformat": 4,
 "nbformat_minor": 5
}
